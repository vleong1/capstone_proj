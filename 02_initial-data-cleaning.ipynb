{
 "cells": [
  {
   "cell_type": "markdown",
   "metadata": {},
   "source": [
    "## Initial Data Cleaning\n",
    "\n",
    "- Filled missing values\n",
    "- Filtered\n",
    "    - Status, location, age"
   ]
  },
  {
   "cell_type": "code",
   "execution_count": 2,
   "metadata": {},
   "outputs": [],
   "source": [
    "import pandas as pd\n",
    "import numpy as np\n",
    "import matplotlib.pyplot as plt\n",
    "import seaborn as sns"
   ]
  },
  {
   "cell_type": "code",
   "execution_count": 43,
   "metadata": {},
   "outputs": [],
   "source": [
    "# read in data from pickle file\n",
    "\n",
    "cupid_df = pd.read_pickle('data/subset_cupid.pkl')"
   ]
  },
  {
   "cell_type": "code",
   "execution_count": 18,
   "metadata": {},
   "outputs": [
    {
     "data": {
      "text/html": [
       "<div>\n",
       "<style scoped>\n",
       "    .dataframe tbody tr th:only-of-type {\n",
       "        vertical-align: middle;\n",
       "    }\n",
       "\n",
       "    .dataframe tbody tr th {\n",
       "        vertical-align: top;\n",
       "    }\n",
       "\n",
       "    .dataframe thead th {\n",
       "        text-align: right;\n",
       "    }\n",
       "</style>\n",
       "<table border=\"1\" class=\"dataframe\">\n",
       "  <thead>\n",
       "    <tr style=\"text-align: right;\">\n",
       "      <th></th>\n",
       "      <th>age</th>\n",
       "      <th>status</th>\n",
       "      <th>sex</th>\n",
       "      <th>orientation</th>\n",
       "      <th>body_type</th>\n",
       "      <th>diet</th>\n",
       "      <th>drinks</th>\n",
       "      <th>drugs</th>\n",
       "      <th>education</th>\n",
       "      <th>location</th>\n",
       "      <th>offspring</th>\n",
       "      <th>pets</th>\n",
       "      <th>religion</th>\n",
       "      <th>sign</th>\n",
       "      <th>smokes</th>\n",
       "    </tr>\n",
       "  </thead>\n",
       "  <tbody>\n",
       "    <tr>\n",
       "      <th>0</th>\n",
       "      <td>22</td>\n",
       "      <td>single</td>\n",
       "      <td>m</td>\n",
       "      <td>straight</td>\n",
       "      <td>a little extra</td>\n",
       "      <td>strictly anything</td>\n",
       "      <td>socially</td>\n",
       "      <td>never</td>\n",
       "      <td>working on college/university</td>\n",
       "      <td>south san francisco, california</td>\n",
       "      <td>doesn't have kids, but might want them</td>\n",
       "      <td>likes dogs and likes cats</td>\n",
       "      <td>agnosticism and very serious about it</td>\n",
       "      <td>gemini</td>\n",
       "      <td>sometimes</td>\n",
       "    </tr>\n",
       "    <tr>\n",
       "      <th>1</th>\n",
       "      <td>35</td>\n",
       "      <td>single</td>\n",
       "      <td>m</td>\n",
       "      <td>straight</td>\n",
       "      <td>average</td>\n",
       "      <td>mostly other</td>\n",
       "      <td>often</td>\n",
       "      <td>sometimes</td>\n",
       "      <td>working on space camp</td>\n",
       "      <td>oakland, california</td>\n",
       "      <td>doesn't have kids, but might want them</td>\n",
       "      <td>likes dogs and likes cats</td>\n",
       "      <td>agnosticism but not too serious about it</td>\n",
       "      <td>cancer</td>\n",
       "      <td>no</td>\n",
       "    </tr>\n",
       "    <tr>\n",
       "      <th>2</th>\n",
       "      <td>38</td>\n",
       "      <td>available</td>\n",
       "      <td>m</td>\n",
       "      <td>straight</td>\n",
       "      <td>thin</td>\n",
       "      <td>anything</td>\n",
       "      <td>socially</td>\n",
       "      <td>NaN</td>\n",
       "      <td>graduated from masters program</td>\n",
       "      <td>san francisco, california</td>\n",
       "      <td>NaN</td>\n",
       "      <td>has cats</td>\n",
       "      <td>NaN</td>\n",
       "      <td>pisces but it doesn&amp;rsquo;t matter</td>\n",
       "      <td>no</td>\n",
       "    </tr>\n",
       "    <tr>\n",
       "      <th>3</th>\n",
       "      <td>23</td>\n",
       "      <td>single</td>\n",
       "      <td>m</td>\n",
       "      <td>straight</td>\n",
       "      <td>thin</td>\n",
       "      <td>vegetarian</td>\n",
       "      <td>socially</td>\n",
       "      <td>NaN</td>\n",
       "      <td>working on college/university</td>\n",
       "      <td>berkeley, california</td>\n",
       "      <td>doesn't want kids</td>\n",
       "      <td>likes cats</td>\n",
       "      <td>NaN</td>\n",
       "      <td>pisces</td>\n",
       "      <td>no</td>\n",
       "    </tr>\n",
       "    <tr>\n",
       "      <th>4</th>\n",
       "      <td>29</td>\n",
       "      <td>single</td>\n",
       "      <td>m</td>\n",
       "      <td>straight</td>\n",
       "      <td>athletic</td>\n",
       "      <td>NaN</td>\n",
       "      <td>socially</td>\n",
       "      <td>never</td>\n",
       "      <td>graduated from college/university</td>\n",
       "      <td>san francisco, california</td>\n",
       "      <td>NaN</td>\n",
       "      <td>likes dogs and likes cats</td>\n",
       "      <td>NaN</td>\n",
       "      <td>aquarius</td>\n",
       "      <td>no</td>\n",
       "    </tr>\n",
       "  </tbody>\n",
       "</table>\n",
       "</div>"
      ],
      "text/plain": [
       "  age     status sex orientation       body_type               diet    drinks  \\\n",
       "0  22     single   m    straight  a little extra  strictly anything  socially   \n",
       "1  35     single   m    straight         average       mostly other     often   \n",
       "2  38  available   m    straight            thin           anything  socially   \n",
       "3  23     single   m    straight            thin         vegetarian  socially   \n",
       "4  29     single   m    straight        athletic                NaN  socially   \n",
       "\n",
       "       drugs                          education  \\\n",
       "0      never      working on college/university   \n",
       "1  sometimes              working on space camp   \n",
       "2        NaN     graduated from masters program   \n",
       "3        NaN      working on college/university   \n",
       "4      never  graduated from college/university   \n",
       "\n",
       "                          location                               offspring  \\\n",
       "0  south san francisco, california  doesn't have kids, but might want them   \n",
       "1              oakland, california  doesn't have kids, but might want them   \n",
       "2        san francisco, california                                     NaN   \n",
       "3             berkeley, california                       doesn't want kids   \n",
       "4        san francisco, california                                     NaN   \n",
       "\n",
       "                        pets                                  religion  \\\n",
       "0  likes dogs and likes cats     agnosticism and very serious about it   \n",
       "1  likes dogs and likes cats  agnosticism but not too serious about it   \n",
       "2                   has cats                                       NaN   \n",
       "3                 likes cats                                       NaN   \n",
       "4  likes dogs and likes cats                                       NaN   \n",
       "\n",
       "                                 sign     smokes  \n",
       "0                              gemini  sometimes  \n",
       "1                              cancer         no  \n",
       "2  pisces but it doesn&rsquo;t matter         no  \n",
       "3                              pisces         no  \n",
       "4                            aquarius         no  "
      ]
     },
     "execution_count": 18,
     "metadata": {},
     "output_type": "execute_result"
    }
   ],
   "source": [
    "cupid_df.head()"
   ]
  },
  {
   "cell_type": "markdown",
   "metadata": {},
   "source": [
    "#### Further filtering data\n",
    "- Dropping 'education' and 'sign' features, as I personally felt that the values were odd ('education') or not indicative of recommending a partner ('sign')\n",
    "- Filtering 'status' to only 'single' or 'available', since we're recommending lovers and 'married' or 'seeing someone' already have a person of interest, assuming relationships aren't polyamorous"
   ]
  },
  {
   "cell_type": "code",
   "execution_count": 44,
   "metadata": {},
   "outputs": [],
   "source": [
    "# drop education + sign -- useless / not indicative, in my opinion\n",
    "\n",
    "cupid_df.drop(columns = ['education', 'sign'], inplace = True)"
   ]
  },
  {
   "cell_type": "code",
   "execution_count": 55,
   "metadata": {},
   "outputs": [
    {
     "data": {
      "text/plain": [
       "(59946, 13)"
      ]
     },
     "execution_count": 55,
     "metadata": {},
     "output_type": "execute_result"
    }
   ],
   "source": [
    "cupid_df.shape"
   ]
  },
  {
   "cell_type": "code",
   "execution_count": 56,
   "metadata": {},
   "outputs": [
    {
     "name": "stdout",
     "output_type": "stream",
     "text": [
      "<class 'pandas.core.frame.DataFrame'>\n",
      "RangeIndex: 59946 entries, 0 to 59945\n",
      "Data columns (total 13 columns):\n",
      " #   Column       Non-Null Count  Dtype   \n",
      "---  ------       --------------  -----   \n",
      " 0   age          59946 non-null  category\n",
      " 1   status       59946 non-null  category\n",
      " 2   sex          59946 non-null  category\n",
      " 3   orientation  59946 non-null  category\n",
      " 4   body_type    54650 non-null  category\n",
      " 5   diet         35551 non-null  category\n",
      " 6   drinks       56961 non-null  category\n",
      " 7   drugs        45866 non-null  category\n",
      " 8   location     59946 non-null  category\n",
      " 9   offspring    24385 non-null  category\n",
      " 10  pets         40025 non-null  category\n",
      " 11  religion     39720 non-null  category\n",
      " 12  smokes       54434 non-null  category\n",
      "dtypes: category(13)\n",
      "memory usage: 836.6 KB\n"
     ]
    }
   ],
   "source": [
    "cupid_df.info()"
   ]
  },
  {
   "cell_type": "code",
   "execution_count": 20,
   "metadata": {},
   "outputs": [
    {
     "data": {
      "text/plain": [
       "single            55697\n",
       "seeing someone     2064\n",
       "available          1865\n",
       "married             310\n",
       "unknown              10\n",
       "Name: status, dtype: int64"
      ]
     },
     "execution_count": 20,
     "metadata": {},
     "output_type": "execute_result"
    }
   ],
   "source": [
    "cupid_df['status'].value_counts()"
   ]
  },
  {
   "cell_type": "code",
   "execution_count": 45,
   "metadata": {},
   "outputs": [],
   "source": [
    "# filter for only those who are 'single' or 'available'\n",
    "\n",
    "cupid = cupid_df[(cupid_df['status'] == 'single') | (cupid_df['status'] == 'available')]"
   ]
  },
  {
   "cell_type": "code",
   "execution_count": 22,
   "metadata": {},
   "outputs": [
    {
     "data": {
      "text/plain": [
       "(57562, 13)"
      ]
     },
     "execution_count": 22,
     "metadata": {},
     "output_type": "execute_result"
    }
   ],
   "source": [
    "# dropped ~2k rows\n",
    "\n",
    "cupid.shape"
   ]
  },
  {
   "cell_type": "markdown",
   "metadata": {},
   "source": [
    "#### Null Values"
   ]
  },
  {
   "cell_type": "code",
   "execution_count": 23,
   "metadata": {},
   "outputs": [
    {
     "data": {
      "text/plain": [
       "age                0\n",
       "status             0\n",
       "sex                0\n",
       "orientation        0\n",
       "body_type       4867\n",
       "diet           23136\n",
       "drinks          2918\n",
       "drugs          13508\n",
       "location           0\n",
       "offspring      33881\n",
       "pets           19384\n",
       "religion       19656\n",
       "smokes          5361\n",
       "dtype: int64"
      ]
     },
     "execution_count": 23,
     "metadata": {},
     "output_type": "execute_result"
    }
   ],
   "source": [
    "# check for nulls\n",
    "\n",
    "cupid.isna().sum()"
   ]
  },
  {
   "cell_type": "code",
   "execution_count": 46,
   "metadata": {},
   "outputs": [
    {
     "name": "stderr",
     "output_type": "stream",
     "text": [
      "C:\\Users\\veron\\Anaconda3\\lib\\site-packages\\pandas\\core\\series.py:4469: SettingWithCopyWarning: \n",
      "A value is trying to be set on a copy of a slice from a DataFrame\n",
      "\n",
      "See the caveats in the documentation: https://pandas.pydata.org/pandas-docs/stable/user_guide/indexing.html#returning-a-view-versus-a-copy\n",
      "  downcast=downcast,\n"
     ]
    }
   ],
   "source": [
    "# impute missing values\n",
    "\n",
    "cupid['body_type'].fillna('rather not say', inplace = True)\n",
    "cupid['diet'].fillna('anything', inplace = True)\n",
    "cupid['drinks'].fillna('not at all', inplace = True)\n",
    "cupid['drugs'].fillna('never', inplace = True)\n",
    "cupid['offspring'].fillna(\"doesn't have kids\", inplace = True)\n",
    "cupid['pets'].fillna('dislikes dogs and dislikes cats', inplace = True)\n",
    "cupid['religion'].fillna('atheism', inplace = True)\n",
    "cupid['smokes'].fillna('no', inplace = True)"
   ]
  },
  {
   "cell_type": "code",
   "execution_count": 25,
   "metadata": {},
   "outputs": [
    {
     "data": {
      "text/plain": [
       "age            0\n",
       "status         0\n",
       "sex            0\n",
       "orientation    0\n",
       "body_type      0\n",
       "diet           0\n",
       "drinks         0\n",
       "drugs          0\n",
       "location       0\n",
       "offspring      0\n",
       "pets           0\n",
       "religion       0\n",
       "smokes         0\n",
       "dtype: int64"
      ]
     },
     "execution_count": 25,
     "metadata": {},
     "output_type": "execute_result"
    }
   ],
   "source": [
    "# ensure null values are handled\n",
    "\n",
    "cupid.isna().sum()"
   ]
  },
  {
   "cell_type": "code",
   "execution_count": 15,
   "metadata": {
    "collapsed": true,
    "jupyter": {
     "outputs_hidden": true
    }
   },
   "outputs": [
    {
     "data": {
      "text/plain": [
       "26     3537\n",
       "27     3518\n",
       "28     3396\n",
       "25     3393\n",
       "29     3147\n",
       "24     3106\n",
       "30     3012\n",
       "31     2619\n",
       "23     2463\n",
       "32     2446\n",
       "33     2115\n",
       "22     1848\n",
       "34     1826\n",
       "35     1683\n",
       "36     1530\n",
       "37     1381\n",
       "38     1289\n",
       "21     1217\n",
       "39     1139\n",
       "42     1049\n",
       "40     1002\n",
       "41      954\n",
       "20      915\n",
       "43      828\n",
       "44      683\n",
       "45      631\n",
       "19      593\n",
       "46      568\n",
       "47      514\n",
       "48      471\n",
       "49      450\n",
       "50      421\n",
       "51      342\n",
       "52      339\n",
       "18      298\n",
       "56      268\n",
       "54      261\n",
       "55      260\n",
       "57      253\n",
       "53      246\n",
       "59      218\n",
       "58      192\n",
       "60      189\n",
       "61      172\n",
       "62      166\n",
       "63      135\n",
       "64      112\n",
       "65      107\n",
       "66      103\n",
       "67       66\n",
       "68       58\n",
       "69       31\n",
       "109       1\n",
       "110       1\n",
       "Name: age, dtype: int64"
      ]
     },
     "execution_count": 15,
     "metadata": {},
     "output_type": "execute_result"
    }
   ],
   "source": [
    "# filter for age\n",
    "# entries where age is 109 + 110\n",
    "\n",
    "cupid['age'].value_counts()"
   ]
  },
  {
   "cell_type": "code",
   "execution_count": 47,
   "metadata": {},
   "outputs": [
    {
     "name": "stderr",
     "output_type": "stream",
     "text": [
      "C:\\Users\\veron\\Anaconda3\\lib\\site-packages\\ipykernel_launcher.py:2: SettingWithCopyWarning: \n",
      "A value is trying to be set on a copy of a slice from a DataFrame.\n",
      "Try using .loc[row_indexer,col_indexer] = value instead\n",
      "\n",
      "See the caveats in the documentation: https://pandas.pydata.org/pandas-docs/stable/user_guide/indexing.html#returning-a-view-versus-a-copy\n",
      "  \n"
     ]
    }
   ],
   "source": [
    "# change to data type int\n",
    "cupid['age'] = cupid['age'].astype('int32')"
   ]
  },
  {
   "cell_type": "code",
   "execution_count": 48,
   "metadata": {},
   "outputs": [],
   "source": [
    "# filter ages 109 + 110\n",
    "cupid = cupid[cupid['age'] < 109]"
   ]
  },
  {
   "cell_type": "code",
   "execution_count": 49,
   "metadata": {},
   "outputs": [],
   "source": [
    "# filter for location only in california\n",
    "cupid = cupid[cupid['location'].str.contains('california')]"
   ]
  },
  {
   "cell_type": "code",
   "execution_count": 80,
   "metadata": {
    "collapsed": true,
    "jupyter": {
     "outputs_hidden": true
    }
   },
   "outputs": [
    {
     "data": {
      "text/plain": [
       "san francisco, california              29918\n",
       "oakland, california                     6886\n",
       "berkeley, california                    3979\n",
       "san mateo, california                   1291\n",
       "palo alto, california                   1013\n",
       "alameda, california                      868\n",
       "san rafael, california                   733\n",
       "hayward, california                      710\n",
       "emeryville, california                   706\n",
       "daly city, california                    663\n",
       "redwood city, california                 654\n",
       "san leandro, california                  620\n",
       "walnut creek, california                 618\n",
       "vallejo, california                      537\n",
       "menlo park, california                   452\n",
       "south san francisco, california          405\n",
       "richmond, california                     399\n",
       "mountain view, california                365\n",
       "novato, california                       361\n",
       "burlingame, california                   348\n",
       "pleasant hill, california                333\n",
       "castro valley, california                333\n",
       "stanford, california                     328\n",
       "pacifica, california                     310\n",
       "mill valley, california                  308\n",
       "el cerrito, california                   307\n",
       "martinez, california                     302\n",
       "san bruno, california                    279\n",
       "san pablo, california                    241\n",
       "belmont, california                      232\n",
       "albany, california                       226\n",
       "san carlos, california                   221\n",
       "benicia, california                      193\n",
       "sausalito, california                    176\n",
       "lafayette, california                    170\n",
       "millbrae, california                     149\n",
       "san anselmo, california                  145\n",
       "el sobrante, california                  134\n",
       "san lorenzo, california                  133\n",
       "fairfax, california                      117\n",
       "hercules, california                     116\n",
       "pinole, california                       101\n",
       "half moon bay, california                 95\n",
       "green brae, california                    86\n",
       "fremont, california                       86\n",
       "orinda, california                        83\n",
       "moraga, california                        82\n",
       "larkspur, california                      78\n",
       "corte madera, california                  71\n",
       "belvedere tiburon, california             57\n",
       "atherton, california                      44\n",
       "rodeo, california                         36\n",
       "brisbane, california                      36\n",
       "crockett, california                      30\n",
       "el granada, california                    24\n",
       "foster city, california                   24\n",
       "kentfield, california                     17\n",
       "woodacre, california                      15\n",
       "montara, california                       12\n",
       "east palo alto, california                12\n",
       "ross, california                          12\n",
       "piedmont, california                      11\n",
       "lagunitas, california                     10\n",
       "woodside, california                      10\n",
       "westlake, california                      10\n",
       "san geronimo, california                   9\n",
       "los angeles, california                    9\n",
       "point richmond, california                 8\n",
       "bolinas, california                        8\n",
       "moss beach, california                     8\n",
       "west oakland, california                   7\n",
       "colma, california                          7\n",
       "san diego, california                      6\n",
       "santa cruz, california                     5\n",
       "tiburon, california                        4\n",
       "hillsborough, california                   4\n",
       "stinson beach, california                  4\n",
       "nicasio, california                        3\n",
       "santa monica, california                   3\n",
       "bayshore, california                       3\n",
       "los gatos, california                      2\n",
       "forest knolls, california                  2\n",
       "santa rosa, california                     2\n",
       "san jose, california                       2\n",
       "redwood shores, california                 2\n",
       "san quentin, california                    2\n",
       "napa, california                           2\n",
       "kensington, california                     2\n",
       "sacramento, california                     2\n",
       "irvine, california                         2\n",
       "petaluma, california                       2\n",
       "oakley, california                         1\n",
       "concord, california                        1\n",
       "pacheco, california                        1\n",
       "oceanview, california                      1\n",
       "olema, california                          1\n",
       "orange, california                         1\n",
       "san luis obispo, california                1\n",
       "port costa, california                     1\n",
       "riverside, california                      1\n",
       "rohnert park, california                   1\n",
       "santa ana, california                      1\n",
       "santa clara, california                    1\n",
       "seaside, california                        1\n",
       "south lake tahoe, california               1\n",
       "ashland, california                        1\n",
       "stockton, california                       1\n",
       "studio city, california                    1\n",
       "sunnyvale, california                      1\n",
       "union city, california                     1\n",
       "vacaville, california                      1\n",
       "arcadia, california                        1\n",
       "waterford, california                      1\n",
       "north hollywood, california                1\n",
       "brea, california                           1\n",
       "freedom, california                        1\n",
       "hilarita, california                       1\n",
       "marin city, california                     1\n",
       "glencove, california                       1\n",
       "granite bay, california                    1\n",
       "canyon country, california                 1\n",
       "campbell, california                       1\n",
       "long beach, california                     1\n",
       "chico, california                          1\n",
       "hacienda heights, california               1\n",
       "magalia, california                        1\n",
       "livingston, california                     1\n",
       "isla vista, california                     1\n",
       "canyon, california                         1\n",
       "modesto, california                        1\n",
       "muir beach, california                     1\n",
       "costa mesa, california                     1\n",
       "nevada city, california                    1\n",
       "chicago, illinois                          0\n",
       "astoria, new york                          0\n",
       "honolulu, hawaii                           0\n",
       "seattle, washington                        0\n",
       "guadalajara, mexico                        0\n",
       "south orange, new jersey                   0\n",
       "south wellfleet, massachusetts             0\n",
       "islip terrace, new york                    0\n",
       "jackson, mississippi                       0\n",
       "asheville, north carolina                  0\n",
       "nha trang, vietnam                         0\n",
       "grand rapids, michigan                     0\n",
       "stratford, connecticut                     0\n",
       "woodbridge, virginia                       0\n",
       "cork, ireland                              0\n",
       "crowley, texas                             0\n",
       "denver, colorado                           0\n",
       "washington, district of columbia           0\n",
       "amsterdam, netherlands                     0\n",
       "vancouver, british columbia, canada        0\n",
       "edinburgh, united kingdom                  0\n",
       "cincinnati, ohio                           0\n",
       "utica, michigan                            0\n",
       "tucson, arizona                            0\n",
       "fayetteville, west virginia                0\n",
       "taunton, massachusetts                     0\n",
       "fort lauderdale, florida                   0\n",
       "atlanta, georgia                           0\n",
       "kansas city, missouri                      0\n",
       "lake orion, michigan                       0\n",
       "austin, texas                              0\n",
       "kassel, germany                            0\n",
       "cambridge, massachusetts                   0\n",
       "brooklyn, new york                         0\n",
       "phoenix, arizona                           0\n",
       "philadelphia, pennsylvania                 0\n",
       "milpitas, california                       0\n",
       "peoria, illinois                           0\n",
       "pasadena, california                       0\n",
       "bonaduz, switzerland                       0\n",
       "boston, massachusetts                      0\n",
       "milwaukee, wisconsin                       0\n",
       "ozone park, new york                       0\n",
       "minneapolis, minnesota                     0\n",
       "murfreesboro, tennessee                    0\n",
       "boulder, colorado                          0\n",
       "new orleans, louisiana                     0\n",
       "miami, florida                             0\n",
       "portland, oregon                           0\n",
       "providence, rhode island                   0\n",
       "san antonio, texas                         0\n",
       "kula, hawaii                               0\n",
       "new york, new york                         0\n",
       "las vegas, nevada                          0\n",
       "bellingham, washington                     0\n",
       "leander, texas                             0\n",
       "bellwood, illinois                         0\n",
       "london, united kingdom                     0\n",
       "boise, idaho                               0\n",
       "salt lake city, utah                       0\n",
       "long beach, new york                       0\n",
       "longwood, florida                          0\n",
       "madrid, spain                              0\n",
       "rochester, michigan                        0\n",
       "billings, montana                          0\n",
       "columbus, ohio                             0\n",
       "Name: location, dtype: int64"
      ]
     },
     "execution_count": 80,
     "metadata": {},
     "output_type": "execute_result"
    }
   ],
   "source": [
    "cupid['location'].value_counts()"
   ]
  },
  {
   "cell_type": "code",
   "execution_count": 29,
   "metadata": {},
   "outputs": [
    {
     "data": {
      "text/plain": [
       "(57473, 13)"
      ]
     },
     "execution_count": 29,
     "metadata": {},
     "output_type": "execute_result"
    }
   ],
   "source": [
    "cupid.shape"
   ]
  },
  {
   "cell_type": "code",
   "execution_count": 30,
   "metadata": {},
   "outputs": [
    {
     "name": "stdout",
     "output_type": "stream",
     "text": [
      "<class 'pandas.core.frame.DataFrame'>\n",
      "Int64Index: 57473 entries, 0 to 59945\n",
      "Data columns (total 13 columns):\n",
      " #   Column       Non-Null Count  Dtype   \n",
      "---  ------       --------------  -----   \n",
      " 0   age          57473 non-null  int32   \n",
      " 1   status       57473 non-null  category\n",
      " 2   sex          57473 non-null  category\n",
      " 3   orientation  57473 non-null  category\n",
      " 4   body_type    57473 non-null  category\n",
      " 5   diet         57473 non-null  category\n",
      " 6   drinks       57473 non-null  category\n",
      " 7   drugs        57473 non-null  category\n",
      " 8   location     57473 non-null  category\n",
      " 9   offspring    57473 non-null  category\n",
      " 10  pets         57473 non-null  category\n",
      " 11  religion     57473 non-null  category\n",
      " 12  smokes       57473 non-null  category\n",
      "dtypes: category(12), int32(1)\n",
      "memory usage: 1.4 MB\n"
     ]
    }
   ],
   "source": [
    "cupid.info()"
   ]
  },
  {
   "cell_type": "code",
   "execution_count": 36,
   "metadata": {},
   "outputs": [],
   "source": [
    "cupid.to_pickle('data/clean_cupid.pkl')"
   ]
  },
  {
   "cell_type": "code",
   "execution_count": 37,
   "metadata": {},
   "outputs": [],
   "source": [
    "cupid_check = pd.read_pickle('data/clean_cupid.pkl')"
   ]
  },
  {
   "cell_type": "code",
   "execution_count": 38,
   "metadata": {},
   "outputs": [
    {
     "name": "stdout",
     "output_type": "stream",
     "text": [
      "<class 'pandas.core.frame.DataFrame'>\n",
      "Int64Index: 57473 entries, 0 to 59945\n",
      "Data columns (total 13 columns):\n",
      " #   Column       Non-Null Count  Dtype   \n",
      "---  ------       --------------  -----   \n",
      " 0   age          57473 non-null  int32   \n",
      " 1   status       57473 non-null  category\n",
      " 2   sex          57473 non-null  category\n",
      " 3   orientation  57473 non-null  category\n",
      " 4   body_type    57473 non-null  category\n",
      " 5   diet         57473 non-null  category\n",
      " 6   drinks       57473 non-null  category\n",
      " 7   drugs        57473 non-null  category\n",
      " 8   location     57473 non-null  category\n",
      " 9   offspring    57473 non-null  category\n",
      " 10  pets         57473 non-null  category\n",
      " 11  religion     57473 non-null  category\n",
      " 12  smokes       57473 non-null  category\n",
      "dtypes: category(12), int32(1)\n",
      "memory usage: 1.4 MB\n"
     ]
    }
   ],
   "source": [
    "cupid_check.info()"
   ]
  }
 ],
 "metadata": {
  "kernelspec": {
   "display_name": "Python 3",
   "language": "python",
   "name": "python3"
  },
  "language_info": {
   "codemirror_mode": {
    "name": "ipython",
    "version": 3
   },
   "file_extension": ".py",
   "mimetype": "text/x-python",
   "name": "python",
   "nbconvert_exporter": "python",
   "pygments_lexer": "ipython3",
   "version": "3.7.4"
  }
 },
 "nbformat": 4,
 "nbformat_minor": 4
}
