{
 "cells": [
  {
   "cell_type": "markdown",
   "metadata": {},
   "source": [
    "## Simple Recommender w/o Manipulating Values\n",
    "\n",
    "- Recommender Systems\n",
    "    - Cosine similarity -- X + Y\n",
    "- Modeling\n",
    "    - OHE, cosine similarity, sort similarities separately\n",
    "    - Initially based off other users in the database\n",
    "    - Simple model - Orientation only"
   ]
  },
  {
   "cell_type": "code",
   "execution_count": 4,
   "metadata": {},
   "outputs": [],
   "source": [
    "import pandas as pd\n",
    "import numpy as np\n",
    "import matplotlib.pyplot as plt\n",
    "import seaborn as sns\n",
    "\n",
    "from scipy import sparse\n",
    "import sys\n",
    "from sklearn.metrics.pairwise import pairwise_distances, cosine_distances, cosine_similarity\n",
    "from category_encoders import OneHotEncoder"
   ]
  },
  {
   "cell_type": "code",
   "execution_count": 5,
   "metadata": {},
   "outputs": [],
   "source": [
    "# read in data\n",
    "cupid = pd.read_pickle('data/clean_cupid.pkl')"
   ]
  },
  {
   "cell_type": "code",
   "execution_count": 16,
   "metadata": {},
   "outputs": [
    {
     "data": {
      "text/html": [
       "<div>\n",
       "<style scoped>\n",
       "    .dataframe tbody tr th:only-of-type {\n",
       "        vertical-align: middle;\n",
       "    }\n",
       "\n",
       "    .dataframe tbody tr th {\n",
       "        vertical-align: top;\n",
       "    }\n",
       "\n",
       "    .dataframe thead th {\n",
       "        text-align: right;\n",
       "    }\n",
       "</style>\n",
       "<table border=\"1\" class=\"dataframe\">\n",
       "  <thead>\n",
       "    <tr style=\"text-align: right;\">\n",
       "      <th></th>\n",
       "      <th>age</th>\n",
       "      <th>status</th>\n",
       "      <th>sex</th>\n",
       "      <th>orientation</th>\n",
       "      <th>body_type</th>\n",
       "      <th>diet</th>\n",
       "      <th>drinks</th>\n",
       "      <th>drugs</th>\n",
       "      <th>location</th>\n",
       "      <th>offspring</th>\n",
       "      <th>pets</th>\n",
       "      <th>religion</th>\n",
       "      <th>smokes</th>\n",
       "    </tr>\n",
       "  </thead>\n",
       "  <tbody>\n",
       "    <tr>\n",
       "      <th>0</th>\n",
       "      <td>22</td>\n",
       "      <td>single</td>\n",
       "      <td>m</td>\n",
       "      <td>straight</td>\n",
       "      <td>a little extra</td>\n",
       "      <td>strictly anything</td>\n",
       "      <td>socially</td>\n",
       "      <td>never</td>\n",
       "      <td>south san francisco, california</td>\n",
       "      <td>doesn't have kids, but might want them</td>\n",
       "      <td>likes dogs and likes cats</td>\n",
       "      <td>agnosticism and very serious about it</td>\n",
       "      <td>sometimes</td>\n",
       "    </tr>\n",
       "    <tr>\n",
       "      <th>1</th>\n",
       "      <td>35</td>\n",
       "      <td>single</td>\n",
       "      <td>m</td>\n",
       "      <td>straight</td>\n",
       "      <td>average</td>\n",
       "      <td>mostly other</td>\n",
       "      <td>often</td>\n",
       "      <td>sometimes</td>\n",
       "      <td>oakland, california</td>\n",
       "      <td>doesn't have kids, but might want them</td>\n",
       "      <td>likes dogs and likes cats</td>\n",
       "      <td>agnosticism but not too serious about it</td>\n",
       "      <td>no</td>\n",
       "    </tr>\n",
       "    <tr>\n",
       "      <th>2</th>\n",
       "      <td>38</td>\n",
       "      <td>available</td>\n",
       "      <td>m</td>\n",
       "      <td>straight</td>\n",
       "      <td>thin</td>\n",
       "      <td>anything</td>\n",
       "      <td>socially</td>\n",
       "      <td>never</td>\n",
       "      <td>san francisco, california</td>\n",
       "      <td>doesn't have kids</td>\n",
       "      <td>has cats</td>\n",
       "      <td>atheism</td>\n",
       "      <td>no</td>\n",
       "    </tr>\n",
       "  </tbody>\n",
       "</table>\n",
       "</div>"
      ],
      "text/plain": [
       "   age     status sex orientation       body_type               diet  \\\n",
       "0   22     single   m    straight  a little extra  strictly anything   \n",
       "1   35     single   m    straight         average       mostly other   \n",
       "2   38  available   m    straight            thin           anything   \n",
       "\n",
       "     drinks      drugs                         location  \\\n",
       "0  socially      never  south san francisco, california   \n",
       "1     often  sometimes              oakland, california   \n",
       "2  socially      never        san francisco, california   \n",
       "\n",
       "                                offspring                       pets  \\\n",
       "0  doesn't have kids, but might want them  likes dogs and likes cats   \n",
       "1  doesn't have kids, but might want them  likes dogs and likes cats   \n",
       "2                       doesn't have kids                   has cats   \n",
       "\n",
       "                                   religion     smokes  \n",
       "0     agnosticism and very serious about it  sometimes  \n",
       "1  agnosticism but not too serious about it         no  \n",
       "2                                   atheism         no  "
      ]
     },
     "execution_count": 16,
     "metadata": {},
     "output_type": "execute_result"
    }
   ],
   "source": [
    "cupid.head(3)"
   ]
  },
  {
   "cell_type": "code",
   "execution_count": 17,
   "metadata": {},
   "outputs": [
    {
     "name": "stdout",
     "output_type": "stream",
     "text": [
      "<class 'pandas.core.frame.DataFrame'>\n",
      "Int64Index: 57473 entries, 0 to 59945\n",
      "Data columns (total 13 columns):\n",
      " #   Column       Non-Null Count  Dtype   \n",
      "---  ------       --------------  -----   \n",
      " 0   age          57473 non-null  int32   \n",
      " 1   status       57473 non-null  category\n",
      " 2   sex          57473 non-null  category\n",
      " 3   orientation  57473 non-null  category\n",
      " 4   body_type    57473 non-null  category\n",
      " 5   diet         57473 non-null  category\n",
      " 6   drinks       57473 non-null  category\n",
      " 7   drugs        57473 non-null  category\n",
      " 8   location     57473 non-null  category\n",
      " 9   offspring    57473 non-null  category\n",
      " 10  pets         57473 non-null  category\n",
      " 11  religion     57473 non-null  category\n",
      " 12  smokes       57473 non-null  category\n",
      "dtypes: category(12), int32(1)\n",
      "memory usage: 1.4 MB\n"
     ]
    }
   ],
   "source": [
    "cupid.info()"
   ]
  },
  {
   "cell_type": "markdown",
   "metadata": {},
   "source": [
    "#### OHE + Creating sparse matrices + Cosine Similarities for each orientation"
   ]
  },
  {
   "cell_type": "code",
   "execution_count": 91,
   "metadata": {
    "collapsed": true,
    "jupyter": {
     "outputs_hidden": true,
     "source_hidden": true
    }
   },
   "outputs": [
    {
     "ename": "ValueError",
     "evalue": "The truth value of a Series is ambiguous. Use a.empty, a.bool(), a.item(), a.any() or a.all().",
     "output_type": "error",
     "traceback": [
      "\u001b[1;31m---------------------------------------------------------------------------\u001b[0m",
      "\u001b[1;31mValueError\u001b[0m                                Traceback (most recent call last)",
      "\u001b[1;32m<ipython-input-91-e019d78de58c>\u001b[0m in \u001b[0;36m<module>\u001b[1;34m\u001b[0m\n\u001b[0;32m      5\u001b[0m \u001b[1;31m# cupid[(cupid['sex'] == 'm') and cupid['orientation'] == straight] -- straight_male\u001b[0m\u001b[1;33m\u001b[0m\u001b[1;33m\u001b[0m\u001b[1;33m\u001b[0m\u001b[0m\n\u001b[0;32m      6\u001b[0m \u001b[1;31m# would have to OHE straight_male\u001b[0m\u001b[1;33m\u001b[0m\u001b[1;33m\u001b[0m\u001b[1;33m\u001b[0m\u001b[0m\n\u001b[1;32m----> 7\u001b[1;33m \u001b[1;32mif\u001b[0m \u001b[1;33m(\u001b[0m\u001b[1;33m(\u001b[0m\u001b[0mcupid\u001b[0m\u001b[1;33m[\u001b[0m\u001b[1;34m'sex'\u001b[0m\u001b[1;33m]\u001b[0m \u001b[1;33m==\u001b[0m \u001b[1;34m'm'\u001b[0m\u001b[1;33m)\u001b[0m \u001b[1;33m&\u001b[0m \u001b[1;33m(\u001b[0m\u001b[0mcupid\u001b[0m\u001b[1;33m[\u001b[0m\u001b[1;34m'orientation'\u001b[0m\u001b[1;33m]\u001b[0m \u001b[1;33m==\u001b[0m \u001b[1;34m'straight'\u001b[0m\u001b[1;33m)\u001b[0m\u001b[1;33m)\u001b[0m\u001b[1;33m:\u001b[0m\u001b[1;33m\u001b[0m\u001b[1;33m\u001b[0m\u001b[0m\n\u001b[0m\u001b[0;32m      8\u001b[0m     \u001b[0mstraight_female\u001b[0m \u001b[1;33m=\u001b[0m \u001b[0mcupid\u001b[0m\u001b[1;33m[\u001b[0m\u001b[1;33m(\u001b[0m\u001b[0mcupid\u001b[0m\u001b[1;33m[\u001b[0m\u001b[1;34m'sex'\u001b[0m\u001b[1;33m]\u001b[0m \u001b[1;33m==\u001b[0m \u001b[1;34m'f'\u001b[0m\u001b[1;33m)\u001b[0m \u001b[1;33m&\u001b[0m \u001b[1;33m(\u001b[0m\u001b[0mcupid\u001b[0m\u001b[1;33m[\u001b[0m\u001b[1;34m'orientation'\u001b[0m\u001b[1;33m]\u001b[0m \u001b[1;33m==\u001b[0m \u001b[1;34m'straight'\u001b[0m\u001b[1;33m)\u001b[0m\u001b[1;33m]\u001b[0m\u001b[1;33m\u001b[0m\u001b[1;33m\u001b[0m\u001b[0m\n\u001b[0;32m      9\u001b[0m     \u001b[1;31m# ohe\u001b[0m\u001b[1;33m\u001b[0m\u001b[1;33m\u001b[0m\u001b[1;33m\u001b[0m\u001b[0m\n",
      "\u001b[1;32m~\\Anaconda3\\lib\\site-packages\\pandas\\core\\generic.py\u001b[0m in \u001b[0;36m__nonzero__\u001b[1;34m(self)\u001b[0m\n\u001b[0;32m   1441\u001b[0m     \u001b[1;32mdef\u001b[0m \u001b[0m__nonzero__\u001b[0m\u001b[1;33m(\u001b[0m\u001b[0mself\u001b[0m\u001b[1;33m)\u001b[0m\u001b[1;33m:\u001b[0m\u001b[1;33m\u001b[0m\u001b[1;33m\u001b[0m\u001b[0m\n\u001b[0;32m   1442\u001b[0m         raise ValueError(\n\u001b[1;32m-> 1443\u001b[1;33m             \u001b[1;34mf\"The truth value of a {type(self).__name__} is ambiguous. \"\u001b[0m\u001b[1;33m\u001b[0m\u001b[1;33m\u001b[0m\u001b[0m\n\u001b[0m\u001b[0;32m   1444\u001b[0m             \u001b[1;34m\"Use a.empty, a.bool(), a.item(), a.any() or a.all().\"\u001b[0m\u001b[1;33m\u001b[0m\u001b[1;33m\u001b[0m\u001b[0m\n\u001b[0;32m   1445\u001b[0m         )\n",
      "\u001b[1;31mValueError\u001b[0m: The truth value of a Series is ambiguous. Use a.empty, a.bool(), a.item(), a.any() or a.all()."
     ]
    }
   ],
   "source": [
    "# # filtering based on sex, then orientation\n",
    "\n",
    "# # straight m/f\n",
    "\n",
    "# # cupid[(cupid['sex'] == 'm') and cupid['orientation'] == straight] -- straight_male\n",
    "# # would have to OHE straight_male\n",
    "# if ((cupid['sex'] == 'm') & (cupid['orientation'] == 'straight')):\n",
    "#     straight_female = cupid[(cupid['sex'] == 'f') & (cupid['orientation'] == 'straight')]\n",
    "#     # ohe\n",
    "#     straight_encoded = OneHotEncoder(use_cat_names = True).fit_transform(straight_female)\n",
    "    \n",
    "#     # recommender\n",
    "#     # create sparse matrix\n",
    "#     straight_sparse = sparse.csr_matrix(straight_encoded)\n",
    "\n",
    "#     # cosine_similarity\n",
    "#     similarities_straight = cosine_similarity(straight_sparse)\n",
    "\n",
    "# # gay male\n",
    "# elif (cupid['sex'] == 'm' & cupid['orientation'] == 'gay'):\n",
    "#     gay_male = cupid[(cupid['sex'] == 'm') & (cupid['orientation'] == 'gay')]\n",
    "#     # ohe\n",
    "#     gay_male_encoded = OneHotEncoder(use_cat_names = True).fit_transform(gay_male)\n",
    "    \n",
    "#     # recommender\n",
    "#     # create sparse matrix\n",
    "#     gay_male_sparse = sparse.csr_matrix(gay_male_encoded)\n",
    "\n",
    "#     # cosine_similarity\n",
    "#     similarities_gay_male = cosine_similarity(gay_male_sparse)\n",
    "    \n",
    "# # gay female\n",
    "# elif (cupid['sex'] == 'f' & cupid['orientation'] == 'gay'):\n",
    "#     gay_female = cupid[(cupid['sex'] == 'f') & (cupid['orientation'] == 'gay')]\n",
    "#     # ohe\n",
    "#     gay_female_encoded = OneHotEncoder(use_cat_names = True).fit_transform(gay_female)\n",
    "    \n",
    "#     # recommender\n",
    "#     # create sparse matrix\n",
    "#     gay_female_sparse = sparse.csr_matrix(gay_female_encoded)\n",
    "\n",
    "#     # cosine_similarity\n",
    "#     similarities_gay_female = cosine_similarity(gay_female_sparse)\n",
    "    \n",
    "# # bi m/f\n",
    "# elif (cupid['sex'] == 'm' & cupid['orientation'] == 'bi'):\n",
    "#     bi_female = cupid[(cupid['sex'] == 'f') & (cupid['orientation'] == 'bi')]\n",
    "#     # ohe\n",
    "#     bi_encoded = OneHotEncoder(use_cat_names = True).fit_transform(bi_female)\n",
    "    \n",
    "#     # recommender\n",
    "#     # create sparse matrix\n",
    "#     bi_sparse = sparse.csr_matrix(bi_encoded)\n",
    "\n",
    "#     # cosine_similarity\n",
    "#     similarities_bi = cosine_similarity(bi_sparse)"
   ]
  },
  {
   "cell_type": "code",
   "execution_count": 6,
   "metadata": {},
   "outputs": [
    {
     "name": "stderr",
     "output_type": "stream",
     "text": [
      "C:\\Users\\veron\\Anaconda3\\lib\\site-packages\\category_encoders\\utils.py:21: FutureWarning: is_categorical is deprecated and will be removed in a future version.  Use is_categorical_dtype instead\n",
      "  elif pd.api.types.is_categorical(cols):\n",
      "C:\\Users\\veron\\Anaconda3\\lib\\site-packages\\category_encoders\\utils.py:21: FutureWarning: is_categorical is deprecated and will be removed in a future version.  Use is_categorical_dtype instead\n",
      "  elif pd.api.types.is_categorical(cols):\n"
     ]
    }
   ],
   "source": [
    "# straight male\n",
    "\n",
    "# straight = cupid[cupid['orientation'] == 'straight'].head(int(len(cupid[cupid['orientation'] == 'straight'])*0.5))\n",
    "straight_male = cupid[(cupid['sex'] == 'm') & (cupid['orientation'] == 'straight')].head(3000)\n",
    "\n",
    "# ohe\n",
    "straight_male_encoded = OneHotEncoder(use_cat_names = True).fit_transform(straight_male)\n",
    "\n",
    "# create sparse matrix\n",
    "straight_male_sparse = sparse.csr_matrix(straight_male_encoded)\n",
    "\n",
    "# cosine_similarity\n",
    "similarities_straight_male = cosine_similarity(straight_male_sparse)\n",
    "\n",
    "# ---------------\n",
    "# straight female\n",
    "\n",
    "# straight = cupid[cupid['orientation'] == 'straight'].head(int(len(cupid[cupid['orientation'] == 'straight'])*0.5))\n",
    "straight_female = cupid[(cupid['sex'] == 'f') & (cupid['orientation'] == 'straight')].head(3000)\n",
    "\n",
    "# ohe\n",
    "straight_female_encoded = OneHotEncoder(use_cat_names = True).fit_transform(straight_female)\n",
    "\n",
    "# create sparse matrix\n",
    "straight_female_sparse = sparse.csr_matrix(straight_female_encoded)\n",
    "\n",
    "# cosine_similarity\n",
    "similarities_straight_female = cosine_similarity(straight_female_sparse)"
   ]
  },
  {
   "cell_type": "code",
   "execution_count": 7,
   "metadata": {},
   "outputs": [
    {
     "name": "stderr",
     "output_type": "stream",
     "text": [
      "C:\\Users\\veron\\Anaconda3\\lib\\site-packages\\category_encoders\\utils.py:21: FutureWarning: is_categorical is deprecated and will be removed in a future version.  Use is_categorical_dtype instead\n",
      "  elif pd.api.types.is_categorical(cols):\n",
      "C:\\Users\\veron\\Anaconda3\\lib\\site-packages\\category_encoders\\utils.py:21: FutureWarning: is_categorical is deprecated and will be removed in a future version.  Use is_categorical_dtype instead\n",
      "  elif pd.api.types.is_categorical(cols):\n"
     ]
    }
   ],
   "source": [
    "# gay male\n",
    "gay_male = cupid[(cupid['sex'] == 'm') & (cupid['orientation'] == 'gay')]\n",
    "\n",
    "# ohe\n",
    "gay_male_encoded = OneHotEncoder(use_cat_names = True).fit_transform(gay_male)\n",
    "\n",
    "# create sparse matrix\n",
    "gay_male_sparse = sparse.csr_matrix(gay_male_encoded)\n",
    "\n",
    "# cosine_similarity\n",
    "similarities_gay_male = cosine_similarity(gay_male_sparse)\n",
    "\n",
    "# ---------------\n",
    "\n",
    "# gay female\n",
    "gay_female = cupid[(cupid['sex'] == 'f') & (cupid['orientation'] == 'gay')]\n",
    "\n",
    "# ohe\n",
    "gay_female_encoded = OneHotEncoder(use_cat_names = True).fit_transform(gay_female)\n",
    "\n",
    "# create sparse matrix\n",
    "gay_female_sparse = sparse.csr_matrix(gay_female_encoded)\n",
    "\n",
    "# cosine_similarity\n",
    "similarities_gay_female = cosine_similarity(gay_female_sparse)\n",
    "\n",
    "# ---------------"
   ]
  },
  {
   "cell_type": "code",
   "execution_count": 8,
   "metadata": {},
   "outputs": [
    {
     "name": "stderr",
     "output_type": "stream",
     "text": [
      "C:\\Users\\veron\\Anaconda3\\lib\\site-packages\\category_encoders\\utils.py:21: FutureWarning: is_categorical is deprecated and will be removed in a future version.  Use is_categorical_dtype instead\n",
      "  elif pd.api.types.is_categorical(cols):\n"
     ]
    }
   ],
   "source": [
    "# bi m/f\n",
    "bi = cupid[cupid['orientation'] == 'bisexual']\n",
    "\n",
    "# ohe\n",
    "bi_encoded = OneHotEncoder(use_cat_names = True).fit_transform(bi)\n",
    "\n",
    "# create sparse matrix\n",
    "bi_sparse = sparse.csr_matrix(bi_encoded)\n",
    "\n",
    "# cosine_similarity\n",
    "similarities_bi = cosine_similarity(bi_sparse)"
   ]
  },
  {
   "cell_type": "markdown",
   "metadata": {},
   "source": [
    "#### Putting together DataFrames of similarities"
   ]
  },
  {
   "cell_type": "code",
   "execution_count": 9,
   "metadata": {},
   "outputs": [],
   "source": [
    "# checking gay male\n",
    "gay_male_df = pd.DataFrame(similarities_gay_male, columns = gay_male_encoded.index, index = gay_male_encoded.index)\n",
    "#gay_male_df"
   ]
  },
  {
   "cell_type": "code",
   "execution_count": 11,
   "metadata": {},
   "outputs": [],
   "source": [
    "# checking straight male\n",
    "straight_male_df = pd.DataFrame(similarities_straight_male, columns = straight_male_encoded.index, index = straight_male_encoded.index)\n",
    "#straight_male_df"
   ]
  },
  {
   "cell_type": "code",
   "execution_count": 12,
   "metadata": {},
   "outputs": [],
   "source": [
    "# checking straight female\n",
    "straight_female_df = pd.DataFrame(similarities_straight_female, columns = straight_female_encoded.index, index = straight_female_encoded.index)\n",
    "#straight_female_df"
   ]
  },
  {
   "cell_type": "code",
   "execution_count": 13,
   "metadata": {},
   "outputs": [],
   "source": [
    "# checking bisexual\n",
    "bi_df = pd.DataFrame(similarities_bi, columns = bi_encoded.index, index = bi_encoded.index)\n",
    "#bi_df"
   ]
  },
  {
   "cell_type": "markdown",
   "metadata": {},
   "source": [
    "---"
   ]
  },
  {
   "cell_type": "markdown",
   "metadata": {},
   "source": [
    "#### Creating recommender function"
   ]
  },
  {
   "cell_type": "code",
   "execution_count": 37,
   "metadata": {
    "jupyter": {
     "source_hidden": true
    }
   },
   "outputs": [],
   "source": [
    "# recommender function for matching folks\n",
    "# top 3 matches\n",
    "def lover_recommender(index, df):\n",
    "    lover_reco = df[index].sort_values(ascending = False).iloc[1:4]\n",
    "    return lover_reco"
   ]
  },
  {
   "cell_type": "code",
   "execution_count": 88,
   "metadata": {
    "jupyter": {
     "source_hidden": true
    }
   },
   "outputs": [],
   "source": [
    "# test\n",
    "# maybe for 'bisexual', have the return randomly be 'm' or 'f'\n",
    "\n",
    "# straight male and straight females separately\n",
    "\n",
    "def lover_recommender_test(index, sex, df):\n",
    "    \"\"\"\n",
    "    index (int): user_id we're looking to partner with matching orientation; None if df is 'straight'\n",
    "    sex (str): m, f, None\n",
    "    df (DataFrame): straight, gay_male, gay_female, bisexual\n",
    "    \"\"\"\n",
    "    if str(df) == 'straight' and sex == 'f':\n",
    "        index = df[df['sex'] == 'f'].sample().index\n",
    "        lover_reco = df[df['sex'] == 'm'][index].sort_values(ascending = False).iloc[1:4]\n",
    "        return lover_reco\n",
    "    \n",
    "    elif str(df) == 'straight' and sex == 'm':\n",
    "        index = df[df['sex'] == 'm'].sample().index\n",
    "        lover_reco = df[df['sex'] == 'f'][index].sort_values(ascending = False).iloc[1:4]\n",
    "        return lover_reco\n",
    "\n",
    "    else:\n",
    "        lover_reco = df[index].sort_values(ascending = False).iloc[1:4]\n",
    "        return lover_reco"
   ]
  },
  {
   "cell_type": "code",
   "execution_count": null,
   "metadata": {},
   "outputs": [],
   "source": [
    "# # grabbing just orientation dataframes\n",
    "# straight_male = cupid[(cupid['sex'] == 'm') & (cupid['orientation'] == 'straight')].head(int(len(cupid[(cupid['sex'] == 'm') & (cupid['orientation'] == 'straight')])*0.1))\n",
    "# straight_female = cupid[(cupid['sex'] == 'f') & (cupid['orientation'] == 'straight')].head(int(len(cupid[(cupid['sex'] == 'f') & (cupid['orientation'] == 'straight')])*0.1))\n",
    "# gay_male = cupid[(cupid['sex'] == 'm') & (cupid['orientation'] == 'gay')]\n",
    "# gay_female = cupid[(cupid['sex'] == 'f') & (cupid['orientation'] == 'gay')]\n",
    "# bi = cupid[cupid['orientation'] == 'bisexual']"
   ]
  },
  {
   "cell_type": "code",
   "execution_count": 16,
   "metadata": {
    "jupyter": {
     "source_hidden": true
    }
   },
   "outputs": [],
   "source": [
    "# test2\n",
    "# maybe for 'bisexual', have the return randomly be 'm' or 'f'\n",
    "\n",
    "def lover_recommender_test2(sex, orientation, index):\n",
    "    \"\"\"\n",
    "    index (int): user_id we're looking to partner with matching orientation\n",
    "    sex (str): m, f\n",
    "    orientation: straight, gay, bi/bisexual\n",
    "    \"\"\"\n",
    "   \n",
    "    # straight male looking for straight female\n",
    "    if orientation == 'straight' and sex == 'f':\n",
    "        return straight_male_df[index].sort_values(ascending = False).iloc[1:4]\n",
    "    \n",
    "    # straight female looking for straight male\n",
    "    elif orientation == 'straight' and sex == 'm':\n",
    "        return straight_female_df[index].sort_values(ascending = False).iloc[1:4]\n",
    "    \n",
    "    # gay male looking for gay male\n",
    "    elif orientation == 'gay' and sex == 'm':\n",
    "        return gay_male_df[index].sort_values(ascending = False).iloc[1:4]\n",
    "    \n",
    "    # gay female looking for gay female\n",
    "    elif orientation == 'gay' and sex == 'f':\n",
    "        return gay_female_df[index].sort_values(ascending = False).iloc[1:4]\n",
    "    \n",
    "    # bisexual male/female looking for bisexual male/female\n",
    "    elif ('bi' in orientation and sex == 'f') or ('bi' in orientation and sex == 'm'):\n",
    "        return bi_df[index].sort_values(ascending = False).iloc[1:4]"
   ]
  },
  {
   "cell_type": "code",
   "execution_count": 14,
   "metadata": {
    "jupyter": {
     "source_hidden": true
    }
   },
   "outputs": [],
   "source": [
    "# test 3\n",
    "# cosine_similarity(index, df_straight_females)\n",
    "# index = sex - male; orientation - straight -- therefore would look up a match within a straight female\n",
    "# then sort + take top X\n",
    "\n",
    "def lover_recommender_test3(sex, orientation, index):\n",
    "    \"\"\"\n",
    "    index (int): user_id we're looking to partner with matching orientation\n",
    "    sex (str): m, f\n",
    "    orientation: straight, gay, bi/bisexual\n",
    "    \"\"\"\n",
    "    \n",
    "    # straight male looking for straight female\n",
    "    if orientation == 'straight' and sex == 'm':\n",
    "        # straight females\n",
    "        # straight_female = cupid[(cupid['sex'] == 'f') & (cupid['orientation'] == 'straight')].head(int(len(cupid[(cupid['sex'] == 'f') & (cupid['orientation'] == 'straight')])*0.1))\n",
    "        \n",
    "        # ohe\n",
    "        straight_female_encoded = OneHotEncoder(use_cat_names = True).fit_transform(straight_female)\n",
    "\n",
    "        # create sparse matrix\n",
    "        # straight_female_sparse = sparse.csr_matrix(straight_female_encoded)\n",
    "\n",
    "        # cosine_similarity\n",
    "        similarities_straight_male = cosine_similarity(np.array(straight_male.loc[index]).reshape(-1, 1), straight_female_encoded)\n",
    "        \n",
    "        return similarities_straight_male.sort_values(ascending = False).iloc[1:6]\n",
    "            \n",
    "    # straight female looking for straight male\n",
    "    elif orientation == 'straight' and sex == 'f':\n",
    "        # straight females\n",
    "        # straight_male = cupid[(cupid['sex'] == 'm') & (cupid['orientation'] == 'straight')].head(int(len(cupid[(cupid['sex'] == 'm') & (cupid['orientation'] == 'straight')])*0.1))\n",
    "        \n",
    "        # ohe\n",
    "        straight_male_encoded = OneHotEncoder(use_cat_names = True).fit_transform(straight_male)\n",
    "\n",
    "        # create sparse matrix\n",
    "        # straight_male_sparse = sparse.csr_matrix(straight_male_encoded)\n",
    "\n",
    "        # cosine_similarity\n",
    "        similarities_straight_female = cosine_similarity(np.array(straight_female.loc[index]).reshape(-1, 1), straight_male_encoded)\n",
    "        \n",
    "        return similarities_straight_female.sort_values(ascending = False).iloc[1:6]\n",
    "    \n",
    "    # gay male looking for gay male\n",
    "    elif orientation == 'gay' and sex == 'm':    \n",
    "        # gay male\n",
    "        gay_male = cupid[(cupid['sex'] == 'm') & (cupid['orientation'] == 'gay')]\n",
    "\n",
    "        # ohe\n",
    "        gay_male_encoded = OneHotEncoder(use_cat_names = True).fit_transform(gay_male)\n",
    "\n",
    "        # create sparse matrix\n",
    "        #gay_male_sparse = sparse.csr_matrix(gay_male_encoded)\n",
    "\n",
    "        # cosine_similarity\n",
    "        similarities_gay_male = cosine_similarity(index, gay_male_encoded)\n",
    "        \n",
    "        return similarities_gay_male.sort_values(ascending = False).iloc[1:6]\n",
    "    \n",
    "    # gay female looking for gay female\n",
    "    elif orientation == 'gay' and sex == 'f':    \n",
    "        # gay female\n",
    "        gay_female = cupid[(cupid['sex'] == 'f') & (cupid['orientation'] == 'gay')]\n",
    "\n",
    "        # ohe\n",
    "        gay_female_encoded = OneHotEncoder(use_cat_names = True).fit_transform(gay_female)\n",
    "\n",
    "        # create sparse matrix\n",
    "        #gay_female_sparse = sparse.csr_matrix(gay_female_encoded)\n",
    "\n",
    "        # cosine_similarity\n",
    "        similarities_gay_female = cosine_similarity(index, gay_female_encoded)\n",
    "        \n",
    "        return similarities_gay_female.sort_values(ascending = False).iloc[1:6]\n",
    "    \n",
    "    # bi male/female looking for bi male/female\n",
    "    elif ('bi' in orientation and sex == 'f') or ('bi' in orientation and sex == 'm'):\n",
    "        # bi m/f\n",
    "        bi = cupid[cupid['orientation'] == 'bisexual']\n",
    "\n",
    "        # ohe\n",
    "        bi_encoded = OneHotEncoder(use_cat_names = True).fit_transform(bi)\n",
    "\n",
    "        # create sparse matrix\n",
    "        # bi_sparse = sparse.csr_matrix(bi_encoded)\n",
    "\n",
    "        # cosine_similarity\n",
    "        similarities_bi = cosine_similarity(bi_encoded)\n",
    "        \n",
    "        return similarities_bi.sort_values(ascending = False).iloc[1:6]"
   ]
  },
  {
   "cell_type": "code",
   "execution_count": 15,
   "metadata": {},
   "outputs": [],
   "source": [
    "# test 4\n",
    "\n",
    "# maybe for 'bisexual', have the return randomly be 'm' or 'f'\n",
    "\n",
    "def lover_recommender_test4(sex, orientation, index):\n",
    "    \"\"\"\n",
    "    index (int): user_id we're looking to partner with matching orientation\n",
    "    sex (str): m, f\n",
    "    orientation: straight, gay, bi/bisexual\n",
    "    \"\"\"\n",
    "   \n",
    "    # straight male looking for straight female\n",
    "    # straight_male_df.append(pd.DataFrame(straight_female_df.loc[index]).T)\n",
    "    if orientation == 'straight' and sex == 'f':\n",
    "        return straight_male_df.append(pd.DataFrame(straight_female_df.loc[index]).T)[index].sort_values(ascending = False).iloc[1:4]\n",
    "    \n",
    "    # straight female looking for straight male\n",
    "    elif orientation == 'straight' and sex == 'm':\n",
    "        return straight_female_df.append(pd.DataFrame(straight_male_df.loc[index]).T)[index].sort_values(ascending = False).iloc[1:4]\n",
    "    \n",
    "    # gay male looking for gay male\n",
    "    elif orientation == 'gay' and sex == 'm':\n",
    "        return gay_male_df[index].sort_values(ascending = False).iloc[1:4]\n",
    "    \n",
    "    # gay female looking for gay female\n",
    "    elif orientation == 'gay' and sex == 'f':\n",
    "        return gay_female_df[index].sort_values(ascending = False).iloc[1:4]\n",
    "    \n",
    "    # bisexual male/female looking for bisexual male/female\n",
    "    elif ('bi' in orientation and sex == 'f') or ('bi' in orientation and sex == 'm'):\n",
    "        return bi_df[index].sort_values(ascending = False).iloc[1:4]"
   ]
  },
  {
   "cell_type": "code",
   "execution_count": 17,
   "metadata": {},
   "outputs": [
    {
     "data": {
      "text/plain": [
       "31571    0.999452\n",
       "56072    0.999129\n",
       "7100     0.999129\n",
       "Name: 55, dtype: float64"
      ]
     },
     "execution_count": 17,
     "metadata": {},
     "output_type": "execute_result"
    }
   ],
   "source": [
    "lover_recommender_test2('m', 'gay', 55)"
   ]
  },
  {
   "cell_type": "code",
   "execution_count": 38,
   "metadata": {
    "collapsed": true,
    "jupyter": {
     "outputs_hidden": true,
     "source_hidden": true
    }
   },
   "outputs": [
    {
     "data": {
      "text/plain": [
       "31571    0.999452\n",
       "4631     0.999129\n",
       "7100     0.999129\n",
       "Name: 55, dtype: float64"
      ]
     },
     "execution_count": 38,
     "metadata": {},
     "output_type": "execute_result"
    }
   ],
   "source": [
    "# test for gay_male_df\n",
    "\n",
    "lover_recommender(55, gay_male_df)"
   ]
  },
  {
   "cell_type": "code",
   "execution_count": 43,
   "metadata": {},
   "outputs": [
    {
     "data": {
      "text/plain": [
       "age                                   33\n",
       "status                            single\n",
       "sex                                    m\n",
       "orientation                          gay\n",
       "body_type                       athletic\n",
       "diet                            anything\n",
       "drinks                          socially\n",
       "drugs                              never\n",
       "location       san francisco, california\n",
       "offspring              doesn't have kids\n",
       "pets             likes dogs and has cats\n",
       "religion                         atheism\n",
       "smokes                                no\n",
       "Name: 55, dtype: object"
      ]
     },
     "execution_count": 43,
     "metadata": {},
     "output_type": "execute_result"
    }
   ],
   "source": [
    "# point of reference\n",
    "gay_male.loc[55]"
   ]
  },
  {
   "cell_type": "code",
   "execution_count": 42,
   "metadata": {},
   "outputs": [
    {
     "data": {
      "text/plain": [
       "age                                   25\n",
       "status                            single\n",
       "sex                                    m\n",
       "orientation                          gay\n",
       "body_type                       athletic\n",
       "diet                            anything\n",
       "drinks                          socially\n",
       "drugs                              never\n",
       "location       san francisco, california\n",
       "offspring              doesn't have kids\n",
       "pets             likes dogs and has cats\n",
       "religion                         atheism\n",
       "smokes                                no\n",
       "Name: 31571, dtype: object"
      ]
     },
     "execution_count": 42,
     "metadata": {},
     "output_type": "execute_result"
    }
   ],
   "source": [
    "# 1\n",
    "gay_male.loc[31571]"
   ]
  },
  {
   "cell_type": "code",
   "execution_count": 44,
   "metadata": {},
   "outputs": [
    {
     "data": {
      "text/plain": [
       "age                                   36\n",
       "status                            single\n",
       "sex                                    m\n",
       "orientation                          gay\n",
       "body_type                       athletic\n",
       "diet                            anything\n",
       "drinks                          socially\n",
       "drugs                              never\n",
       "location       san francisco, california\n",
       "offspring              doesn't have kids\n",
       "pets                            has cats\n",
       "religion                         atheism\n",
       "smokes                                no\n",
       "Name: 4631, dtype: object"
      ]
     },
     "execution_count": 44,
     "metadata": {},
     "output_type": "execute_result"
    }
   ],
   "source": [
    "# 2\n",
    "gay_male.loc[4631]"
   ]
  },
  {
   "cell_type": "code",
   "execution_count": 45,
   "metadata": {},
   "outputs": [
    {
     "data": {
      "text/plain": [
       "age                                         36\n",
       "status                                  single\n",
       "sex                                          m\n",
       "orientation                                gay\n",
       "body_type                             athletic\n",
       "diet                                  anything\n",
       "drinks                                socially\n",
       "drugs                                    never\n",
       "location             san francisco, california\n",
       "offspring                    doesn't have kids\n",
       "pets           dislikes dogs and dislikes cats\n",
       "religion                               atheism\n",
       "smokes                                      no\n",
       "Name: 7100, dtype: object"
      ]
     },
     "execution_count": 45,
     "metadata": {},
     "output_type": "execute_result"
    }
   ],
   "source": [
    "# 3\n",
    "gay_male.loc[7100]"
   ]
  },
  {
   "cell_type": "code",
   "execution_count": 56,
   "metadata": {
    "collapsed": true,
    "jupyter": {
     "outputs_hidden": true
    }
   },
   "outputs": [
    {
     "name": "stdout",
     "output_type": "stream",
     "text": [
      "(24903, 224)\n",
      "(24903, 13)\n"
     ]
    }
   ],
   "source": [
    "print(straight_encoded.shape)\n",
    "print(straight.shape)"
   ]
  },
  {
   "cell_type": "code",
   "execution_count": 85,
   "metadata": {
    "collapsed": true,
    "jupyter": {
     "outputs_hidden": true
    }
   },
   "outputs": [
    {
     "ename": "KeyError",
     "evalue": "None",
     "output_type": "error",
     "traceback": [
      "\u001b[1;31m---------------------------------------------------------------------------\u001b[0m",
      "\u001b[1;31mKeyError\u001b[0m                                  Traceback (most recent call last)",
      "\u001b[1;32m~\\Anaconda3\\lib\\site-packages\\pandas\\core\\indexes\\base.py\u001b[0m in \u001b[0;36mget_loc\u001b[1;34m(self, key, method, tolerance)\u001b[0m\n\u001b[0;32m   3079\u001b[0m             \u001b[1;32mtry\u001b[0m\u001b[1;33m:\u001b[0m\u001b[1;33m\u001b[0m\u001b[1;33m\u001b[0m\u001b[0m\n\u001b[1;32m-> 3080\u001b[1;33m                 \u001b[1;32mreturn\u001b[0m \u001b[0mself\u001b[0m\u001b[1;33m.\u001b[0m\u001b[0m_engine\u001b[0m\u001b[1;33m.\u001b[0m\u001b[0mget_loc\u001b[0m\u001b[1;33m(\u001b[0m\u001b[0mcasted_key\u001b[0m\u001b[1;33m)\u001b[0m\u001b[1;33m\u001b[0m\u001b[1;33m\u001b[0m\u001b[0m\n\u001b[0m\u001b[0;32m   3081\u001b[0m             \u001b[1;32mexcept\u001b[0m \u001b[0mKeyError\u001b[0m \u001b[1;32mas\u001b[0m \u001b[0merr\u001b[0m\u001b[1;33m:\u001b[0m\u001b[1;33m\u001b[0m\u001b[1;33m\u001b[0m\u001b[0m\n",
      "\u001b[1;32mpandas\\_libs\\index.pyx\u001b[0m in \u001b[0;36mpandas._libs.index.IndexEngine.get_loc\u001b[1;34m()\u001b[0m\n",
      "\u001b[1;32mpandas\\_libs\\index.pyx\u001b[0m in \u001b[0;36mpandas._libs.index.IndexEngine.get_loc\u001b[1;34m()\u001b[0m\n",
      "\u001b[1;32mpandas\\_libs\\index_class_helper.pxi\u001b[0m in \u001b[0;36mpandas._libs.index.Int64Engine._check_type\u001b[1;34m()\u001b[0m\n",
      "\u001b[1;31mKeyError\u001b[0m: None",
      "\nThe above exception was the direct cause of the following exception:\n",
      "\u001b[1;31mKeyError\u001b[0m                                  Traceback (most recent call last)",
      "\u001b[1;32m<ipython-input-85-849e17fb30a7>\u001b[0m in \u001b[0;36m<module>\u001b[1;34m\u001b[0m\n\u001b[0;32m      1\u001b[0m \u001b[1;31m# test for straight\u001b[0m\u001b[1;33m\u001b[0m\u001b[1;33m\u001b[0m\u001b[1;33m\u001b[0m\u001b[0m\n\u001b[0;32m      2\u001b[0m \u001b[1;33m\u001b[0m\u001b[0m\n\u001b[1;32m----> 3\u001b[1;33m \u001b[0mlover_recommender_test\u001b[0m\u001b[1;33m(\u001b[0m\u001b[1;32mNone\u001b[0m\u001b[1;33m,\u001b[0m \u001b[1;34m'f'\u001b[0m\u001b[1;33m,\u001b[0m \u001b[0mstraight_df\u001b[0m\u001b[1;33m)\u001b[0m\u001b[1;33m\u001b[0m\u001b[1;33m\u001b[0m\u001b[0m\n\u001b[0m",
      "\u001b[1;32m<ipython-input-75-167ae928a9db>\u001b[0m in \u001b[0;36mlover_recommender_test\u001b[1;34m(index, sex, df)\u001b[0m\n\u001b[0;32m     18\u001b[0m \u001b[1;33m\u001b[0m\u001b[0m\n\u001b[0;32m     19\u001b[0m     \u001b[1;32melse\u001b[0m\u001b[1;33m:\u001b[0m\u001b[1;33m\u001b[0m\u001b[1;33m\u001b[0m\u001b[0m\n\u001b[1;32m---> 20\u001b[1;33m         \u001b[0mlover_reco\u001b[0m \u001b[1;33m=\u001b[0m \u001b[0mdf\u001b[0m\u001b[1;33m[\u001b[0m\u001b[0mindex\u001b[0m\u001b[1;33m]\u001b[0m\u001b[1;33m.\u001b[0m\u001b[0msort_values\u001b[0m\u001b[1;33m(\u001b[0m\u001b[0mascending\u001b[0m \u001b[1;33m=\u001b[0m \u001b[1;32mFalse\u001b[0m\u001b[1;33m)\u001b[0m\u001b[1;33m.\u001b[0m\u001b[0miloc\u001b[0m\u001b[1;33m[\u001b[0m\u001b[1;36m1\u001b[0m\u001b[1;33m:\u001b[0m\u001b[1;36m4\u001b[0m\u001b[1;33m]\u001b[0m\u001b[1;33m\u001b[0m\u001b[1;33m\u001b[0m\u001b[0m\n\u001b[0m\u001b[0;32m     21\u001b[0m         \u001b[1;32mreturn\u001b[0m \u001b[0mlover_reco\u001b[0m\u001b[1;33m\u001b[0m\u001b[1;33m\u001b[0m\u001b[0m\n",
      "\u001b[1;32m~\\Anaconda3\\lib\\site-packages\\pandas\\core\\frame.py\u001b[0m in \u001b[0;36m__getitem__\u001b[1;34m(self, key)\u001b[0m\n\u001b[0;32m   3022\u001b[0m             \u001b[1;32mif\u001b[0m \u001b[0mself\u001b[0m\u001b[1;33m.\u001b[0m\u001b[0mcolumns\u001b[0m\u001b[1;33m.\u001b[0m\u001b[0mnlevels\u001b[0m \u001b[1;33m>\u001b[0m \u001b[1;36m1\u001b[0m\u001b[1;33m:\u001b[0m\u001b[1;33m\u001b[0m\u001b[1;33m\u001b[0m\u001b[0m\n\u001b[0;32m   3023\u001b[0m                 \u001b[1;32mreturn\u001b[0m \u001b[0mself\u001b[0m\u001b[1;33m.\u001b[0m\u001b[0m_getitem_multilevel\u001b[0m\u001b[1;33m(\u001b[0m\u001b[0mkey\u001b[0m\u001b[1;33m)\u001b[0m\u001b[1;33m\u001b[0m\u001b[1;33m\u001b[0m\u001b[0m\n\u001b[1;32m-> 3024\u001b[1;33m             \u001b[0mindexer\u001b[0m \u001b[1;33m=\u001b[0m \u001b[0mself\u001b[0m\u001b[1;33m.\u001b[0m\u001b[0mcolumns\u001b[0m\u001b[1;33m.\u001b[0m\u001b[0mget_loc\u001b[0m\u001b[1;33m(\u001b[0m\u001b[0mkey\u001b[0m\u001b[1;33m)\u001b[0m\u001b[1;33m\u001b[0m\u001b[1;33m\u001b[0m\u001b[0m\n\u001b[0m\u001b[0;32m   3025\u001b[0m             \u001b[1;32mif\u001b[0m \u001b[0mis_integer\u001b[0m\u001b[1;33m(\u001b[0m\u001b[0mindexer\u001b[0m\u001b[1;33m)\u001b[0m\u001b[1;33m:\u001b[0m\u001b[1;33m\u001b[0m\u001b[1;33m\u001b[0m\u001b[0m\n\u001b[0;32m   3026\u001b[0m                 \u001b[0mindexer\u001b[0m \u001b[1;33m=\u001b[0m \u001b[1;33m[\u001b[0m\u001b[0mindexer\u001b[0m\u001b[1;33m]\u001b[0m\u001b[1;33m\u001b[0m\u001b[1;33m\u001b[0m\u001b[0m\n",
      "\u001b[1;32m~\\Anaconda3\\lib\\site-packages\\pandas\\core\\indexes\\base.py\u001b[0m in \u001b[0;36mget_loc\u001b[1;34m(self, key, method, tolerance)\u001b[0m\n\u001b[0;32m   3080\u001b[0m                 \u001b[1;32mreturn\u001b[0m \u001b[0mself\u001b[0m\u001b[1;33m.\u001b[0m\u001b[0m_engine\u001b[0m\u001b[1;33m.\u001b[0m\u001b[0mget_loc\u001b[0m\u001b[1;33m(\u001b[0m\u001b[0mcasted_key\u001b[0m\u001b[1;33m)\u001b[0m\u001b[1;33m\u001b[0m\u001b[1;33m\u001b[0m\u001b[0m\n\u001b[0;32m   3081\u001b[0m             \u001b[1;32mexcept\u001b[0m \u001b[0mKeyError\u001b[0m \u001b[1;32mas\u001b[0m \u001b[0merr\u001b[0m\u001b[1;33m:\u001b[0m\u001b[1;33m\u001b[0m\u001b[1;33m\u001b[0m\u001b[0m\n\u001b[1;32m-> 3082\u001b[1;33m                 \u001b[1;32mraise\u001b[0m \u001b[0mKeyError\u001b[0m\u001b[1;33m(\u001b[0m\u001b[0mkey\u001b[0m\u001b[1;33m)\u001b[0m \u001b[1;32mfrom\u001b[0m \u001b[0merr\u001b[0m\u001b[1;33m\u001b[0m\u001b[1;33m\u001b[0m\u001b[0m\n\u001b[0m\u001b[0;32m   3083\u001b[0m \u001b[1;33m\u001b[0m\u001b[0m\n\u001b[0;32m   3084\u001b[0m         \u001b[1;32mif\u001b[0m \u001b[0mtolerance\u001b[0m \u001b[1;32mis\u001b[0m \u001b[1;32mnot\u001b[0m \u001b[1;32mNone\u001b[0m\u001b[1;33m:\u001b[0m\u001b[1;33m\u001b[0m\u001b[1;33m\u001b[0m\u001b[0m\n",
      "\u001b[1;31mKeyError\u001b[0m: None"
     ]
    }
   ],
   "source": [
    "# test for straight\n",
    "# not specifying an index..\n",
    "\n",
    "lover_recommender_test(None, 'f', straight_df)"
   ]
  },
  {
   "cell_type": "code",
   "execution_count": 86,
   "metadata": {},
   "outputs": [
    {
     "data": {
      "text/plain": [
       "12770    0.999554\n",
       "2053     0.999071\n",
       "29381    0.999071\n",
       "Name: 6, dtype: float64"
      ]
     },
     "execution_count": 86,
     "metadata": {},
     "output_type": "execute_result"
    }
   ],
   "source": [
    "# test for straight\n",
    "\n",
    "lover_recommender_test(6, 'f', straight_df)"
   ]
  },
  {
   "cell_type": "code",
   "execution_count": 70,
   "metadata": {},
   "outputs": [
    {
     "data": {
      "text/plain": [
       "age                                   32\n",
       "status                            single\n",
       "sex                                    f\n",
       "orientation                     straight\n",
       "body_type                            fit\n",
       "diet                   strictly anything\n",
       "drinks                          socially\n",
       "drugs                              never\n",
       "location       san francisco, california\n",
       "offspring              doesn't have kids\n",
       "pets           likes dogs and likes cats\n",
       "religion                         atheism\n",
       "smokes                                no\n",
       "Name: 6, dtype: object"
      ]
     },
     "execution_count": 70,
     "metadata": {},
     "output_type": "execute_result"
    }
   ],
   "source": [
    "# point of reference\n",
    "straight.loc[6]"
   ]
  },
  {
   "cell_type": "code",
   "execution_count": 84,
   "metadata": {},
   "outputs": [
    {
     "data": {
      "text/plain": [
       "age                                   25\n",
       "status                            single\n",
       "sex                                    f\n",
       "orientation                     straight\n",
       "body_type                            fit\n",
       "diet                   strictly anything\n",
       "drinks                          socially\n",
       "drugs                              never\n",
       "location       san francisco, california\n",
       "offspring              doesn't have kids\n",
       "pets           likes dogs and likes cats\n",
       "religion                         atheism\n",
       "smokes                                no\n",
       "Name: 12770, dtype: object"
      ]
     },
     "execution_count": 84,
     "metadata": {},
     "output_type": "execute_result"
    }
   ],
   "source": [
    "# 1\n",
    "straight.loc[12770]"
   ]
  },
  {
   "cell_type": "code",
   "execution_count": 73,
   "metadata": {},
   "outputs": [
    {
     "data": {
      "text/plain": [
       "age                                   34\n",
       "status                            single\n",
       "sex                                    f\n",
       "orientation                     straight\n",
       "body_type                            fit\n",
       "diet                            anything\n",
       "drinks                          socially\n",
       "drugs                              never\n",
       "location       san francisco, california\n",
       "offspring              doesn't have kids\n",
       "pets           likes dogs and likes cats\n",
       "religion                         atheism\n",
       "smokes                                no\n",
       "Name: 2053, dtype: object"
      ]
     },
     "execution_count": 73,
     "metadata": {},
     "output_type": "execute_result"
    }
   ],
   "source": [
    "# 2\n",
    "straight.loc[2053]"
   ]
  },
  {
   "cell_type": "code",
   "execution_count": 74,
   "metadata": {},
   "outputs": [
    {
     "data": {
      "text/plain": [
       "age                                   34\n",
       "status                            single\n",
       "sex                                    f\n",
       "orientation                     straight\n",
       "body_type                            fit\n",
       "diet                   mostly vegetarian\n",
       "drinks                          socially\n",
       "drugs                              never\n",
       "location       san francisco, california\n",
       "offspring              doesn't have kids\n",
       "pets           likes dogs and likes cats\n",
       "religion                         atheism\n",
       "smokes                                no\n",
       "Name: 29381, dtype: object"
      ]
     },
     "execution_count": 74,
     "metadata": {},
     "output_type": "execute_result"
    }
   ],
   "source": [
    "# 3\n",
    "straight.loc[29381]"
   ]
  },
  {
   "cell_type": "code",
   "execution_count": null,
   "metadata": {},
   "outputs": [],
   "source": []
  },
  {
   "cell_type": "code",
   "execution_count": null,
   "metadata": {},
   "outputs": [],
   "source": []
  },
  {
   "cell_type": "code",
   "execution_count": null,
   "metadata": {},
   "outputs": [],
   "source": [
    "# test 4\n",
    "\n",
    "# maybe for 'bisexual', have the return randomly be 'm' or 'f'\n",
    "\n",
    "def lover_recommender_test4(sex, orientation, index):\n",
    "    \"\"\"\n",
    "    index (int): user_id we're looking to partner with matching orientation\n",
    "    sex (str): m, f\n",
    "    orientation: straight, gay, bi/bisexual\n",
    "    \"\"\"\n",
    "   \n",
    "    # straight female looking for straight male\n",
    "    if orientation == 'straight' and sex == 'f':\n",
    "        similarity = cosine_similarity(pd.DataFrame(straight_female_encoded.loc[index]).T, straight_male_encoded).tolist()[0]\n",
    "        return pd.DataFrame(similarity, columns = ['similarity'], index = straight_male_encoded.index).sort_values(by = 'similarity', ascending = False).iloc[:3]\n",
    "    \n",
    "    # straight male looking for straight female\n",
    "    elif orientation == 'straight' and sex == 'm':\n",
    "        # cosine_similarity\n",
    "        similarity = cosine_similarity(pd.DataFrame(straight_male_encoded.loc[index]).T, straight_female_encoded).tolist()[0]\n",
    "        return pd.DataFrame(similarity, columns = ['similarity'], index = straight_female_encoded.index).sort_values(by = 'similarity', ascending = False).iloc[:3]\n",
    "    \n",
    "    # gay male looking for gay male\n",
    "    elif orientation == 'gay' and sex == 'm':\n",
    "        # create sparse matrix\n",
    "        gay_male_sparse = sparse.csr_matrix(gay_male_encoded)\n",
    "\n",
    "        # cosine_similarity\n",
    "        similarities_gay_male = cosine_similarity(gay_male_sparse)\n",
    "        return gay_male_df[index].sort_values(ascending = False).iloc[1:4]\n",
    "    \n",
    "    # gay female looking for gay female\n",
    "    elif orientation == 'gay' and sex == 'f':\n",
    "        # create sparse matrix\n",
    "        gay_female_sparse = sparse.csr_matrix(gay_female_encoded)\n",
    "\n",
    "        # cosine_similarity\n",
    "        similarities_gay_female = cosine_similarity(gay_female_sparse)\n",
    "        return gay_female_df[index].sort_values(ascending = False).iloc[1:4]\n",
    "    \n",
    "    # bisexual male/female looking for bisexual male/female\n",
    "    elif ('bi' in orientation and sex == 'f') or ('bi' in orientation and sex == 'm'):\n",
    "        # create sparse matrix\n",
    "        bi_sparse = sparse.csr_matrix(bi_encoded)\n",
    "\n",
    "        # cosine_similarity\n",
    "        similarities_bi = cosine_similarity(bi_sparse)\n",
    "        return bi_df[index].sort_values(ascending = False).iloc[1:4]"
   ]
  },
  {
   "cell_type": "code",
   "execution_count": null,
   "metadata": {},
   "outputs": [],
   "source": []
  }
 ],
 "metadata": {
  "kernelspec": {
   "display_name": "Python 3",
   "language": "python",
   "name": "python3"
  },
  "language_info": {
   "codemirror_mode": {
    "name": "ipython",
    "version": 3
   },
   "file_extension": ".py",
   "mimetype": "text/x-python",
   "name": "python",
   "nbconvert_exporter": "python",
   "pygments_lexer": "ipython3",
   "version": "3.7.4"
  }
 },
 "nbformat": 4,
 "nbformat_minor": 4
}
