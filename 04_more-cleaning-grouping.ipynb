{
 "cells": [
  {
   "cell_type": "markdown",
   "metadata": {},
   "source": [
    "## Further Data Cleaning -- Grouping Values\n",
    "\n",
    "- Diet, body type, religion, pets, offspring"
   ]
  },
  {
   "cell_type": "code",
   "execution_count": 38,
   "metadata": {},
   "outputs": [],
   "source": [
    "import pandas as pd\n",
    "import numpy as np\n",
    "import matplotlib.pyplot as plt\n",
    "import seaborn as sns\n",
    "\n",
    "from sklearn.metrics.pairwise import cosine_similarity\n",
    "from category_encoders import OneHotEncoder"
   ]
  },
  {
   "cell_type": "code",
   "execution_count": 39,
   "metadata": {},
   "outputs": [],
   "source": [
    "# read in data\n",
    "cupid = pd.read_pickle('data/clean_cupid.pkl')"
   ]
  },
  {
   "cell_type": "code",
   "execution_count": 3,
   "metadata": {},
   "outputs": [
    {
     "data": {
      "text/html": [
       "<div>\n",
       "<style scoped>\n",
       "    .dataframe tbody tr th:only-of-type {\n",
       "        vertical-align: middle;\n",
       "    }\n",
       "\n",
       "    .dataframe tbody tr th {\n",
       "        vertical-align: top;\n",
       "    }\n",
       "\n",
       "    .dataframe thead th {\n",
       "        text-align: right;\n",
       "    }\n",
       "</style>\n",
       "<table border=\"1\" class=\"dataframe\">\n",
       "  <thead>\n",
       "    <tr style=\"text-align: right;\">\n",
       "      <th></th>\n",
       "      <th>age</th>\n",
       "      <th>status</th>\n",
       "      <th>sex</th>\n",
       "      <th>orientation</th>\n",
       "      <th>body_type</th>\n",
       "      <th>diet</th>\n",
       "      <th>drinks</th>\n",
       "      <th>drugs</th>\n",
       "      <th>location</th>\n",
       "      <th>offspring</th>\n",
       "      <th>pets</th>\n",
       "      <th>religion</th>\n",
       "      <th>smokes</th>\n",
       "    </tr>\n",
       "  </thead>\n",
       "  <tbody>\n",
       "    <tr>\n",
       "      <th>0</th>\n",
       "      <td>22</td>\n",
       "      <td>single</td>\n",
       "      <td>m</td>\n",
       "      <td>straight</td>\n",
       "      <td>a little extra</td>\n",
       "      <td>strictly anything</td>\n",
       "      <td>socially</td>\n",
       "      <td>never</td>\n",
       "      <td>south san francisco, california</td>\n",
       "      <td>doesn't have kids, but might want them</td>\n",
       "      <td>likes dogs and likes cats</td>\n",
       "      <td>agnosticism and very serious about it</td>\n",
       "      <td>sometimes</td>\n",
       "    </tr>\n",
       "    <tr>\n",
       "      <th>1</th>\n",
       "      <td>35</td>\n",
       "      <td>single</td>\n",
       "      <td>m</td>\n",
       "      <td>straight</td>\n",
       "      <td>average</td>\n",
       "      <td>mostly other</td>\n",
       "      <td>often</td>\n",
       "      <td>sometimes</td>\n",
       "      <td>oakland, california</td>\n",
       "      <td>doesn't have kids, but might want them</td>\n",
       "      <td>likes dogs and likes cats</td>\n",
       "      <td>agnosticism but not too serious about it</td>\n",
       "      <td>no</td>\n",
       "    </tr>\n",
       "    <tr>\n",
       "      <th>2</th>\n",
       "      <td>38</td>\n",
       "      <td>available</td>\n",
       "      <td>m</td>\n",
       "      <td>straight</td>\n",
       "      <td>thin</td>\n",
       "      <td>anything</td>\n",
       "      <td>socially</td>\n",
       "      <td>never</td>\n",
       "      <td>san francisco, california</td>\n",
       "      <td>doesn't have kids</td>\n",
       "      <td>has cats</td>\n",
       "      <td>atheism</td>\n",
       "      <td>no</td>\n",
       "    </tr>\n",
       "  </tbody>\n",
       "</table>\n",
       "</div>"
      ],
      "text/plain": [
       "   age     status sex orientation       body_type               diet  \\\n",
       "0   22     single   m    straight  a little extra  strictly anything   \n",
       "1   35     single   m    straight         average       mostly other   \n",
       "2   38  available   m    straight            thin           anything   \n",
       "\n",
       "     drinks      drugs                         location  \\\n",
       "0  socially      never  south san francisco, california   \n",
       "1     often  sometimes              oakland, california   \n",
       "2  socially      never        san francisco, california   \n",
       "\n",
       "                                offspring                       pets  \\\n",
       "0  doesn't have kids, but might want them  likes dogs and likes cats   \n",
       "1  doesn't have kids, but might want them  likes dogs and likes cats   \n",
       "2                       doesn't have kids                   has cats   \n",
       "\n",
       "                                   religion     smokes  \n",
       "0     agnosticism and very serious about it  sometimes  \n",
       "1  agnosticism but not too serious about it         no  \n",
       "2                                   atheism         no  "
      ]
     },
     "execution_count": 3,
     "metadata": {},
     "output_type": "execute_result"
    }
   ],
   "source": [
    "cupid.head(3)"
   ]
  },
  {
   "cell_type": "code",
   "execution_count": 40,
   "metadata": {},
   "outputs": [],
   "source": [
    "# drop location, since all entries are generally in NorCal\n",
    "# and so recommender won't return an \"exact\" location match\n",
    "\n",
    "# cupid['city'] = cupid['location'].str.split(\",\").str[0]\n",
    "\n",
    "cupid.drop(columns = 'location', inplace = True)"
   ]
  },
  {
   "cell_type": "code",
   "execution_count": 41,
   "metadata": {},
   "outputs": [],
   "source": [
    "# drop \"status\", since they're all single/available\n",
    "cupid.drop(columns = 'status', inplace = True)"
   ]
  },
  {
   "cell_type": "code",
   "execution_count": 42,
   "metadata": {},
   "outputs": [],
   "source": [
    "# make copy of data\n",
    "cupid_df = cupid.copy()"
   ]
  },
  {
   "cell_type": "code",
   "execution_count": 425,
   "metadata": {},
   "outputs": [
    {
     "data": {
      "text/html": [
       "<div>\n",
       "<style scoped>\n",
       "    .dataframe tbody tr th:only-of-type {\n",
       "        vertical-align: middle;\n",
       "    }\n",
       "\n",
       "    .dataframe tbody tr th {\n",
       "        vertical-align: top;\n",
       "    }\n",
       "\n",
       "    .dataframe thead th {\n",
       "        text-align: right;\n",
       "    }\n",
       "</style>\n",
       "<table border=\"1\" class=\"dataframe\">\n",
       "  <thead>\n",
       "    <tr style=\"text-align: right;\">\n",
       "      <th></th>\n",
       "      <th>age</th>\n",
       "      <th>sex</th>\n",
       "      <th>orientation</th>\n",
       "      <th>body_type</th>\n",
       "      <th>diet</th>\n",
       "      <th>drinks</th>\n",
       "      <th>drugs</th>\n",
       "      <th>offspring</th>\n",
       "      <th>pets</th>\n",
       "      <th>religion</th>\n",
       "      <th>smokes</th>\n",
       "    </tr>\n",
       "  </thead>\n",
       "  <tbody>\n",
       "    <tr>\n",
       "      <th>0</th>\n",
       "      <td>22</td>\n",
       "      <td>m</td>\n",
       "      <td>straight</td>\n",
       "      <td>a little extra</td>\n",
       "      <td>strictly anything</td>\n",
       "      <td>socially</td>\n",
       "      <td>never</td>\n",
       "      <td>doesn't have kids, but might want them</td>\n",
       "      <td>likes dogs and likes cats</td>\n",
       "      <td>agnosticism and very serious about it</td>\n",
       "      <td>sometimes</td>\n",
       "    </tr>\n",
       "    <tr>\n",
       "      <th>1</th>\n",
       "      <td>35</td>\n",
       "      <td>m</td>\n",
       "      <td>straight</td>\n",
       "      <td>average</td>\n",
       "      <td>mostly other</td>\n",
       "      <td>often</td>\n",
       "      <td>sometimes</td>\n",
       "      <td>doesn't have kids, but might want them</td>\n",
       "      <td>likes dogs and likes cats</td>\n",
       "      <td>agnosticism but not too serious about it</td>\n",
       "      <td>no</td>\n",
       "    </tr>\n",
       "    <tr>\n",
       "      <th>2</th>\n",
       "      <td>38</td>\n",
       "      <td>m</td>\n",
       "      <td>straight</td>\n",
       "      <td>thin</td>\n",
       "      <td>anything</td>\n",
       "      <td>socially</td>\n",
       "      <td>never</td>\n",
       "      <td>doesn't have kids</td>\n",
       "      <td>has cats</td>\n",
       "      <td>atheism</td>\n",
       "      <td>no</td>\n",
       "    </tr>\n",
       "  </tbody>\n",
       "</table>\n",
       "</div>"
      ],
      "text/plain": [
       "   age sex orientation       body_type               diet    drinks  \\\n",
       "0   22   m    straight  a little extra  strictly anything  socially   \n",
       "1   35   m    straight         average       mostly other     often   \n",
       "2   38   m    straight            thin           anything  socially   \n",
       "\n",
       "       drugs                               offspring  \\\n",
       "0      never  doesn't have kids, but might want them   \n",
       "1  sometimes  doesn't have kids, but might want them   \n",
       "2      never                       doesn't have kids   \n",
       "\n",
       "                        pets                                  religion  \\\n",
       "0  likes dogs and likes cats     agnosticism and very serious about it   \n",
       "1  likes dogs and likes cats  agnosticism but not too serious about it   \n",
       "2                   has cats                                   atheism   \n",
       "\n",
       "      smokes  \n",
       "0  sometimes  \n",
       "1         no  \n",
       "2         no  "
      ]
     },
     "execution_count": 425,
     "metadata": {},
     "output_type": "execute_result"
    }
   ],
   "source": [
    "cupid_df.head(3)"
   ]
  },
  {
   "cell_type": "code",
   "execution_count": 83,
   "metadata": {},
   "outputs": [
    {
     "data": {
      "text/plain": [
       "(57473, 11)"
      ]
     },
     "execution_count": 83,
     "metadata": {},
     "output_type": "execute_result"
    }
   ],
   "source": [
    "cupid_df.shape"
   ]
  },
  {
   "cell_type": "markdown",
   "metadata": {},
   "source": [
    "---"
   ]
  },
  {
   "cell_type": "markdown",
   "metadata": {},
   "source": [
    "#### Begin grouping values"
   ]
  },
  {
   "cell_type": "code",
   "execution_count": 43,
   "metadata": {},
   "outputs": [],
   "source": [
    "# clean up smokes to \"when drinking\" and \"trying to quit\" to \"sometimes\"\n",
    "cupid_df.replace(\"when drinking\", \"sometimes\", inplace = True)\n",
    "cupid_df.replace(\"trying to quit\", \"sometimes\", inplace = True)"
   ]
  },
  {
   "cell_type": "code",
   "execution_count": 70,
   "metadata": {},
   "outputs": [
    {
     "data": {
      "text/plain": [
       "no           47405\n",
       "sometimes     7940\n",
       "yes           2128\n",
       "Name: smokes, dtype: int64"
      ]
     },
     "execution_count": 70,
     "metadata": {},
     "output_type": "execute_result"
    }
   ],
   "source": [
    "cupid_df['smokes'].value_counts()"
   ]
  },
  {
   "cell_type": "code",
   "execution_count": 44,
   "metadata": {},
   "outputs": [],
   "source": [
    "# pet sentiment?\n",
    "\n",
    "# \"likes/has dogs and likes/has cats\" -- \"likes dogs and cats\"\n",
    "# \"likes/has dogs\" or \"likes/has dogs and dislikes cats\" -- \"likes dogs\"\n",
    "# \"likes/has cats\" or \"likes/has cats and dislikes dogs\" -- \"likes cats\"\n",
    "# \"dislikes dogs and dislikes cats\" -- \"dislikes dogs and cats\"\n",
    "\n",
    "for value in list(cupid_df['pets'].unique()):\n",
    "    if value == 'dislikes dogs and dislikes cats':\n",
    "        cupid_df.replace(value, \"dislikes dogs and cats\", inplace = True)\n",
    "    elif (value == 'likes dogs and likes cats') or (value == 'likes dogs and has cats') or (value == 'has dogs and likes cats') or (value == 'has dogs and has cats'):\n",
    "        cupid_df.replace(value, \"likes dogs and cats\", inplace = True)\n",
    "    elif ('dislikes cats' in value) or (value == 'likes dogs') or (value == 'has dogs'):\n",
    "        cupid_df.replace(value, \"likes dogs\", inplace = True)\n",
    "    elif ('dislikes dogs' in value) or (value == 'likes cats') or (value == 'has cats'):\n",
    "        cupid_df.replace(value, \"likes cats\", inplace = True)"
   ]
  },
  {
   "cell_type": "code",
   "execution_count": 177,
   "metadata": {},
   "outputs": [
    {
     "data": {
      "text/plain": [
       "likes dogs and cats       21658\n",
       "dislikes dogs and cats    19538\n",
       "likes dogs                13978\n",
       "likes cats                 2299\n",
       "Name: pets, dtype: int64"
      ]
     },
     "execution_count": 177,
     "metadata": {},
     "output_type": "execute_result"
    }
   ],
   "source": [
    "cupid_df['pets'].value_counts()"
   ]
  },
  {
   "cell_type": "code",
   "execution_count": 45,
   "metadata": {},
   "outputs": [],
   "source": [
    "# does diet matter?\n",
    "\n",
    "# weird that 'other' changed to 'matters' somewhere in the data manipulation earlier\n",
    "cupid_df['diet'].replace('matters', 'other', inplace = True)\n",
    "\n",
    "# mostly/strictly anything, mostly/strictly vegitarian, mostly/strictly vegan, mostly/strictly other, mostly/strictly kosher, mostly/strictly halal\n",
    "for value in list(cupid_df['diet'].unique()):\n",
    "    if 'anything' in value:\n",
    "        cupid_df.replace(value, \"anything\", inplace = True)\n",
    "    elif 'vegetarian' in value:\n",
    "        cupid_df.replace(value, \"vegetarian\", inplace = True)\n",
    "    elif 'vegan' in value:\n",
    "        cupid_df.replace(value, \"vegan\", inplace = True)\n",
    "    elif 'kosher' in value:\n",
    "        cupid_df.replace(value, \"kosher\", inplace = True)\n",
    "    elif 'halal' in value:\n",
    "        cupid_df.replace(value, \"halal\", inplace = True)\n",
    "    elif 'other' in value:\n",
    "        cupid_df.replace(value, \"other\", inplace = True)"
   ]
  },
  {
   "cell_type": "code",
   "execution_count": 64,
   "metadata": {},
   "outputs": [
    {
     "data": {
      "text/plain": [
       "anything      50168\n",
       "vegetarian     4749\n",
       "other          1719\n",
       "vegan           656\n",
       "kosher          110\n",
       "halal            71\n",
       "Name: diet, dtype: int64"
      ]
     },
     "execution_count": 64,
     "metadata": {},
     "output_type": "execute_result"
    }
   ],
   "source": [
    "cupid_df['diet'].value_counts()"
   ]
  },
  {
   "cell_type": "code",
   "execution_count": 46,
   "metadata": {},
   "outputs": [],
   "source": [
    "# body_type grouping\n",
    "\n",
    "# \"average\" or \"a little extra\" -- \"average\"\n",
    "# \"fit\", \"athletic\", \"jacked\" -- \"fit\"\n",
    "# \"thin\" or \"skinny\" -- \"thin\"\n",
    "# \"curvy\", \"full figured\", \"overweight\" -- \"full figured\"\n",
    "# \"used up\" -- \"used up\"\n",
    "# \"rather not say\" -- \"rather not say\" [wild card]\n",
    "\n",
    "for value in list(cupid_df['body_type'].unique()):\n",
    "    if (value == \"average\") or (value == \"a little extra\"):\n",
    "        cupid_df.replace(value, \"average\", inplace = True)\n",
    "    elif (value == \"fit\") or (value == \"athletic\") or (value == \"jacked\"):\n",
    "        cupid_df.replace(value, \"fit\", inplace = True)\n",
    "    elif (value == \"thin\") or (value == \"skinny\"):\n",
    "        cupid_df.replace(value, \"thin\", inplace = True)\n",
    "    elif (value == \"full figured\") or (value == \"curvy\") or (value == \"overweight\"):\n",
    "        cupid_df.replace(value, \"full figured\", inplace = True)\n",
    "    else:\n",
    "        continue"
   ]
  },
  {
   "cell_type": "code",
   "execution_count": 179,
   "metadata": {},
   "outputs": [
    {
     "data": {
      "text/plain": [
       "fit               24303\n",
       "average           16596\n",
       "thin               6151\n",
       "full figured       5054\n",
       "rather not say     5040\n",
       "used up             329\n",
       "Name: body_type, dtype: int64"
      ]
     },
     "execution_count": 179,
     "metadata": {},
     "output_type": "execute_result"
    }
   ],
   "source": [
    "# body type\n",
    "cupid_df['body_type'].value_counts()"
   ]
  },
  {
   "cell_type": "code",
   "execution_count": 47,
   "metadata": {},
   "outputs": [],
   "source": [
    "# drinking habits\n",
    "\n",
    "# \"often\", \"very often\", \"desperately\" -- \"yes\"\n",
    "# \"socially\" or \"rarely\" -- \"sometimes\"\n",
    "# \"not at all\" -- \"no\"\n",
    "\n",
    "for value in list(cupid_df['drinks'].unique()):\n",
    "    if ('often' in value) or (value == \"desperately\"):\n",
    "        cupid_df.replace(value, \"yes\", inplace = True)\n",
    "    elif (value == \"socially\") or (value == \"rarely\"):\n",
    "        cupid_df.replace(value, \"sometimes\", inplace = True)\n",
    "    elif (value == \"not at all\"):\n",
    "        cupid_df.replace(value, \"no\", inplace = True)"
   ]
  },
  {
   "cell_type": "code",
   "execution_count": 400,
   "metadata": {},
   "outputs": [
    {
     "data": {
      "text/plain": [
       "sometimes    45835\n",
       "no            6023\n",
       "yes           5615\n",
       "Name: drinks, dtype: int64"
      ]
     },
     "execution_count": 400,
     "metadata": {},
     "output_type": "execute_result"
    }
   ],
   "source": [
    "cupid_df['drinks'].value_counts()"
   ]
  },
  {
   "cell_type": "code",
   "execution_count": 48,
   "metadata": {},
   "outputs": [],
   "source": [
    "# drug habits\n",
    "\n",
    "# cleaning \"drugs\" to maintain consistency with \"yes/no/sometimes\"\n",
    "# never -- no\n",
    "\n",
    "for value in list(cupid_df['drugs'].unique()):\n",
    "    if value == \"never\":\n",
    "        cupid_df.replace(value, \"no\", inplace = True)\n",
    "    else:\n",
    "        continue"
   ]
  },
  {
   "cell_type": "code",
   "execution_count": 432,
   "metadata": {},
   "outputs": [
    {
     "data": {
      "text/plain": [
       "no           49856\n",
       "sometimes     7228\n",
       "yes            389\n",
       "Name: drugs, dtype: int64"
      ]
     },
     "execution_count": 432,
     "metadata": {},
     "output_type": "execute_result"
    }
   ],
   "source": [
    "cupid_df['drugs'].value_counts()"
   ]
  },
  {
   "cell_type": "code",
   "execution_count": 49,
   "metadata": {},
   "outputs": [],
   "source": [
    "# has kids / has a kid -- \"has kid(s)\"\n",
    "# wants kids / might want kids -- \"wants kids\"\n",
    "# has a kid, and [might] wants more -- \"has kid(s) and wants more\"\n",
    "# doesn't have kids, but [might] want them -- \"doesn't have kid(s), but wants kids\"\n",
    "# has a kid / has kids, but doesn't want more -- \"has kid(s), but doesn't want more\"\n",
    "\n",
    "for value in list(cupid_df['offspring'].unique()):\n",
    "    if \"doesn't have kids, but\" in value:\n",
    "        cupid_df.replace(value, \"doesn't have kid(s), but wants kid(s)\", inplace = True)\n",
    "    elif (value == \"has kids\") or (value == \"has a kid\"):\n",
    "        cupid_df.replace(value, \"has kid(s)\", inplace = True)\n",
    "    elif (value == 'wants kids') or (value == 'might want kids'):\n",
    "        cupid_df.replace(value, \"wants kid(s)\", inplace = True)\n",
    "    elif \"but doesn't want more\" in value:\n",
    "        cupid_df.replace(value, \"has kid(s), but doesn't want more\", inplace = True)\n",
    "    elif (\"might want more\" in value) or (\"wants more\" in value):\n",
    "        cupid_df.replace(value, \"has kid(s) and wants more\", inplace = True)\n",
    "    else:\n",
    "        continue"
   ]
  },
  {
   "cell_type": "code",
   "execution_count": 34,
   "metadata": {},
   "outputs": [
    {
     "data": {
      "text/plain": [
       "doesn't have kids                          41250\n",
       "doesn't have kid(s), but wants kid(s)       7303\n",
       "has kid(s)                                  3627\n",
       "doesn't want kids                           2686\n",
       "doesn't have kids, and doesn't want any     1080\n",
       "has kid(s), but doesn't want more            702\n",
       "has kid(s) and wants more                    425\n",
       "wants kid(s)                                 400\n",
       "Name: offspring, dtype: int64"
      ]
     },
     "execution_count": 34,
     "metadata": {},
     "output_type": "execute_result"
    }
   ],
   "source": [
    "cupid_df['offspring'].value_counts()"
   ]
  },
  {
   "cell_type": "code",
   "execution_count": 50,
   "metadata": {},
   "outputs": [],
   "source": [
    "# clean/group religion\n",
    "\n",
    "for value in list(cupid_df['religion'].unique()):\n",
    "    if ('not too serious about it' in value) or ('laughing about it' in value) or ('atheism' in value):\n",
    "        cupid_df.replace(value, \"doesn't matter\", inplace = True)\n",
    "    elif 'agnosticism' in value:\n",
    "        cupid_df.replace(value, \"agnosticism\", inplace = True)\n",
    "    elif 'other' in value:\n",
    "        cupid_df.replace(value, \"other\", inplace = True)\n",
    "    elif 'christianity' in value:\n",
    "        cupid_df.replace(value, \"christianity\", inplace = True)\n",
    "    elif 'catholicism' in value:\n",
    "        cupid_df.replace(value, \"catholicism\", inplace = True)\n",
    "    elif 'judaism' in value:\n",
    "        cupid_df.replace(value, \"judaism\", inplace = True)\n",
    "    elif 'buddhism' in value:\n",
    "        cupid_df.replace(value, \"buddhism\", inplace = True)\n",
    "    elif 'hinduism' in value:\n",
    "        cupid_df.replace(value, \"hinduism\", inplace = True)\n",
    "    elif 'islam' in value:\n",
    "        cupid_df.replace(value, \"islam\", inplace = True)"
   ]
  },
  {
   "cell_type": "code",
   "execution_count": 51,
   "metadata": {},
   "outputs": [
    {
     "data": {
      "text/plain": [
       "doesn't matter    43081\n",
       "other              3908\n",
       "agnosticism        3512\n",
       "christianity       3361\n",
       "catholicism        1682\n",
       "judaism             873\n",
       "buddhism            799\n",
       "hinduism            176\n",
       "islam                81\n",
       "Name: religion, dtype: int64"
      ]
     },
     "execution_count": 51,
     "metadata": {},
     "output_type": "execute_result"
    }
   ],
   "source": [
    "cupid_df['religion'].value_counts()"
   ]
  },
  {
   "cell_type": "markdown",
   "metadata": {},
   "source": [
    "---"
   ]
  },
  {
   "cell_type": "markdown",
   "metadata": {},
   "source": [
    "#### Write cleaned data to a new pickle file"
   ]
  },
  {
   "cell_type": "code",
   "execution_count": 52,
   "metadata": {},
   "outputs": [],
   "source": [
    "# write to pickle file\n",
    "cupid_df.to_pickle('data/grouped_cupid.pkl')"
   ]
  },
  {
   "cell_type": "code",
   "execution_count": 53,
   "metadata": {},
   "outputs": [],
   "source": [
    "# check file\n",
    "cupid_check = pd.read_pickle('data/grouped_cupid.pkl')"
   ]
  },
  {
   "cell_type": "code",
   "execution_count": 54,
   "metadata": {},
   "outputs": [
    {
     "name": "stdout",
     "output_type": "stream",
     "text": [
      "<class 'pandas.core.frame.DataFrame'>\n",
      "Int64Index: 57473 entries, 0 to 59945\n",
      "Data columns (total 11 columns):\n",
      " #   Column       Non-Null Count  Dtype   \n",
      "---  ------       --------------  -----   \n",
      " 0   age          57473 non-null  int32   \n",
      " 1   sex          57473 non-null  category\n",
      " 2   orientation  57473 non-null  category\n",
      " 3   body_type    57473 non-null  category\n",
      " 4   diet         57473 non-null  category\n",
      " 5   drinks       57473 non-null  category\n",
      " 6   drugs        57473 non-null  category\n",
      " 7   offspring    57473 non-null  category\n",
      " 8   pets         57473 non-null  category\n",
      " 9   religion     57473 non-null  category\n",
      " 10  smokes       57473 non-null  category\n",
      "dtypes: category(10), int32(1)\n",
      "memory usage: 1.2 MB\n"
     ]
    }
   ],
   "source": [
    "cupid_check.info()"
   ]
  },
  {
   "cell_type": "code",
   "execution_count": 55,
   "metadata": {},
   "outputs": [
    {
     "data": {
      "text/html": [
       "<div>\n",
       "<style scoped>\n",
       "    .dataframe tbody tr th:only-of-type {\n",
       "        vertical-align: middle;\n",
       "    }\n",
       "\n",
       "    .dataframe tbody tr th {\n",
       "        vertical-align: top;\n",
       "    }\n",
       "\n",
       "    .dataframe thead th {\n",
       "        text-align: right;\n",
       "    }\n",
       "</style>\n",
       "<table border=\"1\" class=\"dataframe\">\n",
       "  <thead>\n",
       "    <tr style=\"text-align: right;\">\n",
       "      <th></th>\n",
       "      <th>age</th>\n",
       "      <th>sex</th>\n",
       "      <th>orientation</th>\n",
       "      <th>body_type</th>\n",
       "      <th>diet</th>\n",
       "      <th>drinks</th>\n",
       "      <th>drugs</th>\n",
       "      <th>offspring</th>\n",
       "      <th>pets</th>\n",
       "      <th>religion</th>\n",
       "      <th>smokes</th>\n",
       "    </tr>\n",
       "  </thead>\n",
       "  <tbody>\n",
       "    <tr>\n",
       "      <th>0</th>\n",
       "      <td>22</td>\n",
       "      <td>m</td>\n",
       "      <td>straight</td>\n",
       "      <td>average</td>\n",
       "      <td>anything</td>\n",
       "      <td>sometimes</td>\n",
       "      <td>no</td>\n",
       "      <td>doesn't have kid(s), but wants kid(s)</td>\n",
       "      <td>likes dogs and cats</td>\n",
       "      <td>agnosticism</td>\n",
       "      <td>sometimes</td>\n",
       "    </tr>\n",
       "    <tr>\n",
       "      <th>1</th>\n",
       "      <td>35</td>\n",
       "      <td>m</td>\n",
       "      <td>straight</td>\n",
       "      <td>average</td>\n",
       "      <td>other</td>\n",
       "      <td>yes</td>\n",
       "      <td>sometimes</td>\n",
       "      <td>doesn't have kid(s), but wants kid(s)</td>\n",
       "      <td>likes dogs and cats</td>\n",
       "      <td>doesn't matter</td>\n",
       "      <td>no</td>\n",
       "    </tr>\n",
       "    <tr>\n",
       "      <th>2</th>\n",
       "      <td>38</td>\n",
       "      <td>m</td>\n",
       "      <td>straight</td>\n",
       "      <td>thin</td>\n",
       "      <td>anything</td>\n",
       "      <td>sometimes</td>\n",
       "      <td>no</td>\n",
       "      <td>doesn't have kids</td>\n",
       "      <td>likes cats</td>\n",
       "      <td>doesn't matter</td>\n",
       "      <td>no</td>\n",
       "    </tr>\n",
       "    <tr>\n",
       "      <th>3</th>\n",
       "      <td>23</td>\n",
       "      <td>m</td>\n",
       "      <td>straight</td>\n",
       "      <td>thin</td>\n",
       "      <td>vegetarian</td>\n",
       "      <td>sometimes</td>\n",
       "      <td>no</td>\n",
       "      <td>doesn't want kids</td>\n",
       "      <td>likes cats</td>\n",
       "      <td>doesn't matter</td>\n",
       "      <td>no</td>\n",
       "    </tr>\n",
       "    <tr>\n",
       "      <th>4</th>\n",
       "      <td>29</td>\n",
       "      <td>m</td>\n",
       "      <td>straight</td>\n",
       "      <td>fit</td>\n",
       "      <td>anything</td>\n",
       "      <td>sometimes</td>\n",
       "      <td>no</td>\n",
       "      <td>doesn't have kids</td>\n",
       "      <td>likes dogs and cats</td>\n",
       "      <td>doesn't matter</td>\n",
       "      <td>no</td>\n",
       "    </tr>\n",
       "    <tr>\n",
       "      <th>...</th>\n",
       "      <td>...</td>\n",
       "      <td>...</td>\n",
       "      <td>...</td>\n",
       "      <td>...</td>\n",
       "      <td>...</td>\n",
       "      <td>...</td>\n",
       "      <td>...</td>\n",
       "      <td>...</td>\n",
       "      <td>...</td>\n",
       "      <td>...</td>\n",
       "      <td>...</td>\n",
       "    </tr>\n",
       "    <tr>\n",
       "      <th>59941</th>\n",
       "      <td>59</td>\n",
       "      <td>f</td>\n",
       "      <td>straight</td>\n",
       "      <td>rather not say</td>\n",
       "      <td>anything</td>\n",
       "      <td>sometimes</td>\n",
       "      <td>no</td>\n",
       "      <td>has kid(s)</td>\n",
       "      <td>likes dogs</td>\n",
       "      <td>doesn't matter</td>\n",
       "      <td>no</td>\n",
       "    </tr>\n",
       "    <tr>\n",
       "      <th>59942</th>\n",
       "      <td>24</td>\n",
       "      <td>m</td>\n",
       "      <td>straight</td>\n",
       "      <td>fit</td>\n",
       "      <td>anything</td>\n",
       "      <td>yes</td>\n",
       "      <td>sometimes</td>\n",
       "      <td>doesn't have kids</td>\n",
       "      <td>likes dogs and cats</td>\n",
       "      <td>agnosticism</td>\n",
       "      <td>no</td>\n",
       "    </tr>\n",
       "    <tr>\n",
       "      <th>59943</th>\n",
       "      <td>42</td>\n",
       "      <td>m</td>\n",
       "      <td>straight</td>\n",
       "      <td>average</td>\n",
       "      <td>anything</td>\n",
       "      <td>no</td>\n",
       "      <td>no</td>\n",
       "      <td>doesn't have kids</td>\n",
       "      <td>dislikes dogs and cats</td>\n",
       "      <td>doesn't matter</td>\n",
       "      <td>no</td>\n",
       "    </tr>\n",
       "    <tr>\n",
       "      <th>59944</th>\n",
       "      <td>27</td>\n",
       "      <td>m</td>\n",
       "      <td>straight</td>\n",
       "      <td>fit</td>\n",
       "      <td>anything</td>\n",
       "      <td>sometimes</td>\n",
       "      <td>yes</td>\n",
       "      <td>doesn't have kid(s), but wants kid(s)</td>\n",
       "      <td>likes dogs and cats</td>\n",
       "      <td>doesn't matter</td>\n",
       "      <td>sometimes</td>\n",
       "    </tr>\n",
       "    <tr>\n",
       "      <th>59945</th>\n",
       "      <td>39</td>\n",
       "      <td>m</td>\n",
       "      <td>gay</td>\n",
       "      <td>average</td>\n",
       "      <td>anything</td>\n",
       "      <td>sometimes</td>\n",
       "      <td>no</td>\n",
       "      <td>doesn't have kids</td>\n",
       "      <td>likes dogs and cats</td>\n",
       "      <td>doesn't matter</td>\n",
       "      <td>sometimes</td>\n",
       "    </tr>\n",
       "  </tbody>\n",
       "</table>\n",
       "<p>57473 rows × 11 columns</p>\n",
       "</div>"
      ],
      "text/plain": [
       "       age sex orientation       body_type        diet     drinks      drugs  \\\n",
       "0       22   m    straight         average    anything  sometimes         no   \n",
       "1       35   m    straight         average       other        yes  sometimes   \n",
       "2       38   m    straight            thin    anything  sometimes         no   \n",
       "3       23   m    straight            thin  vegetarian  sometimes         no   \n",
       "4       29   m    straight             fit    anything  sometimes         no   \n",
       "...    ...  ..         ...             ...         ...        ...        ...   \n",
       "59941   59   f    straight  rather not say    anything  sometimes         no   \n",
       "59942   24   m    straight             fit    anything        yes  sometimes   \n",
       "59943   42   m    straight         average    anything         no         no   \n",
       "59944   27   m    straight             fit    anything  sometimes        yes   \n",
       "59945   39   m         gay         average    anything  sometimes         no   \n",
       "\n",
       "                                   offspring                    pets  \\\n",
       "0      doesn't have kid(s), but wants kid(s)     likes dogs and cats   \n",
       "1      doesn't have kid(s), but wants kid(s)     likes dogs and cats   \n",
       "2                          doesn't have kids              likes cats   \n",
       "3                          doesn't want kids              likes cats   \n",
       "4                          doesn't have kids     likes dogs and cats   \n",
       "...                                      ...                     ...   \n",
       "59941                             has kid(s)              likes dogs   \n",
       "59942                      doesn't have kids     likes dogs and cats   \n",
       "59943                      doesn't have kids  dislikes dogs and cats   \n",
       "59944  doesn't have kid(s), but wants kid(s)     likes dogs and cats   \n",
       "59945                      doesn't have kids     likes dogs and cats   \n",
       "\n",
       "             religion     smokes  \n",
       "0         agnosticism  sometimes  \n",
       "1      doesn't matter         no  \n",
       "2      doesn't matter         no  \n",
       "3      doesn't matter         no  \n",
       "4      doesn't matter         no  \n",
       "...               ...        ...  \n",
       "59941  doesn't matter         no  \n",
       "59942     agnosticism         no  \n",
       "59943  doesn't matter         no  \n",
       "59944  doesn't matter  sometimes  \n",
       "59945  doesn't matter  sometimes  \n",
       "\n",
       "[57473 rows x 11 columns]"
      ]
     },
     "execution_count": 55,
     "metadata": {},
     "output_type": "execute_result"
    }
   ],
   "source": [
    "cupid_check"
   ]
  },
  {
   "cell_type": "markdown",
   "metadata": {},
   "source": [
    "---"
   ]
  }
 ],
 "metadata": {
  "kernelspec": {
   "display_name": "Python 3",
   "language": "python",
   "name": "python3"
  },
  "language_info": {
   "codemirror_mode": {
    "name": "ipython",
    "version": 3
   },
   "file_extension": ".py",
   "mimetype": "text/x-python",
   "name": "python",
   "nbconvert_exporter": "python",
   "pygments_lexer": "ipython3",
   "version": "3.7.4"
  }
 },
 "nbformat": 4,
 "nbformat_minor": 4
}
