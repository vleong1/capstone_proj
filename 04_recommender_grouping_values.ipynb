{
 "cells": [
  {
   "cell_type": "markdown",
   "metadata": {},
   "source": [
    "## Simple Recommender by Orientation Only w/ Grouping"
   ]
  },
  {
   "cell_type": "code",
   "execution_count": 1,
   "metadata": {},
   "outputs": [],
   "source": [
    "import pandas as pd\n",
    "import numpy as np\n",
    "import matplotlib.pyplot as plt\n",
    "import seaborn as sns\n",
    "\n",
    "from scipy import sparse\n",
    "import sys\n",
    "from sklearn.metrics.pairwise import pairwise_distances, cosine_distances, cosine_similarity\n",
    "from category_encoders import OneHotEncoder"
   ]
  },
  {
   "cell_type": "code",
   "execution_count": 2,
   "metadata": {},
   "outputs": [],
   "source": [
    "# read in data\n",
    "cupid = pd.read_pickle('data/clean_cupid.pkl')"
   ]
  },
  {
   "cell_type": "code",
   "execution_count": 18,
   "metadata": {},
   "outputs": [
    {
     "data": {
      "text/html": [
       "<div>\n",
       "<style scoped>\n",
       "    .dataframe tbody tr th:only-of-type {\n",
       "        vertical-align: middle;\n",
       "    }\n",
       "\n",
       "    .dataframe tbody tr th {\n",
       "        vertical-align: top;\n",
       "    }\n",
       "\n",
       "    .dataframe thead th {\n",
       "        text-align: right;\n",
       "    }\n",
       "</style>\n",
       "<table border=\"1\" class=\"dataframe\">\n",
       "  <thead>\n",
       "    <tr style=\"text-align: right;\">\n",
       "      <th></th>\n",
       "      <th>age</th>\n",
       "      <th>status</th>\n",
       "      <th>sex</th>\n",
       "      <th>orientation</th>\n",
       "      <th>body_type</th>\n",
       "      <th>diet</th>\n",
       "      <th>drinks</th>\n",
       "      <th>drugs</th>\n",
       "      <th>location</th>\n",
       "      <th>offspring</th>\n",
       "      <th>pets</th>\n",
       "      <th>religion</th>\n",
       "      <th>smokes</th>\n",
       "    </tr>\n",
       "  </thead>\n",
       "  <tbody>\n",
       "    <tr>\n",
       "      <th>0</th>\n",
       "      <td>22</td>\n",
       "      <td>single</td>\n",
       "      <td>m</td>\n",
       "      <td>straight</td>\n",
       "      <td>a little extra</td>\n",
       "      <td>strictly anything</td>\n",
       "      <td>socially</td>\n",
       "      <td>never</td>\n",
       "      <td>south san francisco, california</td>\n",
       "      <td>doesn't have kids, but might want them</td>\n",
       "      <td>likes dogs and likes cats</td>\n",
       "      <td>agnosticism and very serious about it</td>\n",
       "      <td>sometimes</td>\n",
       "    </tr>\n",
       "    <tr>\n",
       "      <th>1</th>\n",
       "      <td>35</td>\n",
       "      <td>single</td>\n",
       "      <td>m</td>\n",
       "      <td>straight</td>\n",
       "      <td>average</td>\n",
       "      <td>mostly other</td>\n",
       "      <td>often</td>\n",
       "      <td>sometimes</td>\n",
       "      <td>oakland, california</td>\n",
       "      <td>doesn't have kids, but might want them</td>\n",
       "      <td>likes dogs and likes cats</td>\n",
       "      <td>agnosticism but not too serious about it</td>\n",
       "      <td>no</td>\n",
       "    </tr>\n",
       "    <tr>\n",
       "      <th>2</th>\n",
       "      <td>38</td>\n",
       "      <td>available</td>\n",
       "      <td>m</td>\n",
       "      <td>straight</td>\n",
       "      <td>thin</td>\n",
       "      <td>anything</td>\n",
       "      <td>socially</td>\n",
       "      <td>never</td>\n",
       "      <td>san francisco, california</td>\n",
       "      <td>doesn't have kids</td>\n",
       "      <td>has cats</td>\n",
       "      <td>atheism</td>\n",
       "      <td>no</td>\n",
       "    </tr>\n",
       "  </tbody>\n",
       "</table>\n",
       "</div>"
      ],
      "text/plain": [
       "   age     status sex orientation       body_type               diet  \\\n",
       "0   22     single   m    straight  a little extra  strictly anything   \n",
       "1   35     single   m    straight         average       mostly other   \n",
       "2   38  available   m    straight            thin           anything   \n",
       "\n",
       "     drinks      drugs                         location  \\\n",
       "0  socially      never  south san francisco, california   \n",
       "1     often  sometimes              oakland, california   \n",
       "2  socially      never        san francisco, california   \n",
       "\n",
       "                                offspring                       pets  \\\n",
       "0  doesn't have kids, but might want them  likes dogs and likes cats   \n",
       "1  doesn't have kids, but might want them  likes dogs and likes cats   \n",
       "2                       doesn't have kids                   has cats   \n",
       "\n",
       "                                   religion     smokes  \n",
       "0     agnosticism and very serious about it  sometimes  \n",
       "1  agnosticism but not too serious about it         no  \n",
       "2                                   atheism         no  "
      ]
     },
     "execution_count": 18,
     "metadata": {},
     "output_type": "execute_result"
    }
   ],
   "source": [
    "cupid.head(3)"
   ]
  },
  {
   "cell_type": "code",
   "execution_count": 3,
   "metadata": {},
   "outputs": [],
   "source": [
    "# drop location, since all entries are generally in NorCal\n",
    "# and so recommender won't return an \"exact\" location match\n",
    "\n",
    "# cupid['city'] = cupid['location'].str.split(\",\").str[0]\n",
    "\n",
    "cupid.drop(columns = 'location', inplace = True)"
   ]
  },
  {
   "cell_type": "code",
   "execution_count": 4,
   "metadata": {},
   "outputs": [],
   "source": [
    "# drop \"status\", since they're all single/available\n",
    "cupid.drop(columns = 'status', inplace = True)"
   ]
  },
  {
   "cell_type": "code",
   "execution_count": 20,
   "metadata": {},
   "outputs": [],
   "source": [
    "# make copy of data\n",
    "cupid_df = cupid.copy()"
   ]
  },
  {
   "cell_type": "code",
   "execution_count": 425,
   "metadata": {},
   "outputs": [
    {
     "data": {
      "text/html": [
       "<div>\n",
       "<style scoped>\n",
       "    .dataframe tbody tr th:only-of-type {\n",
       "        vertical-align: middle;\n",
       "    }\n",
       "\n",
       "    .dataframe tbody tr th {\n",
       "        vertical-align: top;\n",
       "    }\n",
       "\n",
       "    .dataframe thead th {\n",
       "        text-align: right;\n",
       "    }\n",
       "</style>\n",
       "<table border=\"1\" class=\"dataframe\">\n",
       "  <thead>\n",
       "    <tr style=\"text-align: right;\">\n",
       "      <th></th>\n",
       "      <th>age</th>\n",
       "      <th>sex</th>\n",
       "      <th>orientation</th>\n",
       "      <th>body_type</th>\n",
       "      <th>diet</th>\n",
       "      <th>drinks</th>\n",
       "      <th>drugs</th>\n",
       "      <th>offspring</th>\n",
       "      <th>pets</th>\n",
       "      <th>religion</th>\n",
       "      <th>smokes</th>\n",
       "    </tr>\n",
       "  </thead>\n",
       "  <tbody>\n",
       "    <tr>\n",
       "      <th>0</th>\n",
       "      <td>22</td>\n",
       "      <td>m</td>\n",
       "      <td>straight</td>\n",
       "      <td>a little extra</td>\n",
       "      <td>strictly anything</td>\n",
       "      <td>socially</td>\n",
       "      <td>never</td>\n",
       "      <td>doesn't have kids, but might want them</td>\n",
       "      <td>likes dogs and likes cats</td>\n",
       "      <td>agnosticism and very serious about it</td>\n",
       "      <td>sometimes</td>\n",
       "    </tr>\n",
       "    <tr>\n",
       "      <th>1</th>\n",
       "      <td>35</td>\n",
       "      <td>m</td>\n",
       "      <td>straight</td>\n",
       "      <td>average</td>\n",
       "      <td>mostly other</td>\n",
       "      <td>often</td>\n",
       "      <td>sometimes</td>\n",
       "      <td>doesn't have kids, but might want them</td>\n",
       "      <td>likes dogs and likes cats</td>\n",
       "      <td>agnosticism but not too serious about it</td>\n",
       "      <td>no</td>\n",
       "    </tr>\n",
       "    <tr>\n",
       "      <th>2</th>\n",
       "      <td>38</td>\n",
       "      <td>m</td>\n",
       "      <td>straight</td>\n",
       "      <td>thin</td>\n",
       "      <td>anything</td>\n",
       "      <td>socially</td>\n",
       "      <td>never</td>\n",
       "      <td>doesn't have kids</td>\n",
       "      <td>has cats</td>\n",
       "      <td>atheism</td>\n",
       "      <td>no</td>\n",
       "    </tr>\n",
       "  </tbody>\n",
       "</table>\n",
       "</div>"
      ],
      "text/plain": [
       "   age sex orientation       body_type               diet    drinks  \\\n",
       "0   22   m    straight  a little extra  strictly anything  socially   \n",
       "1   35   m    straight         average       mostly other     often   \n",
       "2   38   m    straight            thin           anything  socially   \n",
       "\n",
       "       drugs                               offspring  \\\n",
       "0      never  doesn't have kids, but might want them   \n",
       "1  sometimes  doesn't have kids, but might want them   \n",
       "2      never                       doesn't have kids   \n",
       "\n",
       "                        pets                                  religion  \\\n",
       "0  likes dogs and likes cats     agnosticism and very serious about it   \n",
       "1  likes dogs and likes cats  agnosticism but not too serious about it   \n",
       "2                   has cats                                   atheism   \n",
       "\n",
       "      smokes  \n",
       "0  sometimes  \n",
       "1         no  \n",
       "2         no  "
      ]
     },
     "execution_count": 425,
     "metadata": {},
     "output_type": "execute_result"
    }
   ],
   "source": [
    "cupid_df.head(3)"
   ]
  },
  {
   "cell_type": "code",
   "execution_count": 83,
   "metadata": {},
   "outputs": [
    {
     "data": {
      "text/plain": [
       "(57473, 11)"
      ]
     },
     "execution_count": 83,
     "metadata": {},
     "output_type": "execute_result"
    }
   ],
   "source": [
    "cupid_df.shape"
   ]
  },
  {
   "cell_type": "markdown",
   "metadata": {},
   "source": [
    "---"
   ]
  },
  {
   "cell_type": "markdown",
   "metadata": {},
   "source": [
    "#### Begin grouping values"
   ]
  },
  {
   "cell_type": "code",
   "execution_count": 21,
   "metadata": {},
   "outputs": [],
   "source": [
    "# clean up smokes to \"when drinking\" and \"trying to quit\" to \"sometimes\"\n",
    "cupid_df.replace(\"when drinking\", \"sometimes\", inplace = True)\n",
    "cupid_df.replace(\"trying to quit\", \"sometimes\", inplace = True)"
   ]
  },
  {
   "cell_type": "code",
   "execution_count": 70,
   "metadata": {},
   "outputs": [
    {
     "data": {
      "text/plain": [
       "no           47405\n",
       "sometimes     7940\n",
       "yes           2128\n",
       "Name: smokes, dtype: int64"
      ]
     },
     "execution_count": 70,
     "metadata": {},
     "output_type": "execute_result"
    }
   ],
   "source": [
    "cupid_df['smokes'].value_counts()"
   ]
  },
  {
   "cell_type": "code",
   "execution_count": 22,
   "metadata": {},
   "outputs": [],
   "source": [
    "# pet sentiment?\n",
    "\n",
    "# \"likes/has dogs and likes/has cats\" -- \"likes dogs and cats\"\n",
    "# \"likes/has dogs\" or \"likes/has dogs and dislikes cats\" -- \"likes dogs\"\n",
    "# \"likes/has cats\" or \"likes/has cats and dislikes dogs\" -- \"likes cats\"\n",
    "# \"dislikes dogs and dislikes cats\" -- \"dislikes dogs and cats\"\n",
    "\n",
    "for value in list(cupid_df['pets'].unique()):\n",
    "    if value == 'dislikes dogs and dislikes cats':\n",
    "        cupid_df.replace(value, \"dislikes dogs and cats\", inplace = True)\n",
    "    elif (value == 'likes dogs and likes cats') or (value == 'likes dogs and has cats') or (value == 'has dogs and likes cats') or (value == 'has dogs and has cats'):\n",
    "        cupid_df.replace(value, \"likes dogs and cats\", inplace = True)\n",
    "    elif ('dislikes cats' in value) or (value == 'likes dogs') or (value == 'has dogs'):\n",
    "        cupid_df.replace(value, \"likes dogs\", inplace = True)\n",
    "    elif ('dislikes dogs' in value) or (value == 'likes cats') or (value == 'has cats'):\n",
    "        cupid_df.replace(value, \"likes cats\", inplace = True)"
   ]
  },
  {
   "cell_type": "code",
   "execution_count": 177,
   "metadata": {},
   "outputs": [
    {
     "data": {
      "text/plain": [
       "likes dogs and cats       21658\n",
       "dislikes dogs and cats    19538\n",
       "likes dogs                13978\n",
       "likes cats                 2299\n",
       "Name: pets, dtype: int64"
      ]
     },
     "execution_count": 177,
     "metadata": {},
     "output_type": "execute_result"
    }
   ],
   "source": [
    "cupid_df['pets'].value_counts()"
   ]
  },
  {
   "cell_type": "code",
   "execution_count": 23,
   "metadata": {},
   "outputs": [],
   "source": [
    "# does diet matter?\n",
    "\n",
    "# weird that 'other' changed to 'matters' somewhere in the data manipulation earlier\n",
    "cupid_df['diet'].replace('matters', 'other', inplace = True)\n",
    "\n",
    "# mostly/strictly anything, mostly/strictly vegitarian, mostly/strictly vegan, mostly/strictly other, mostly/strictly kosher, mostly/strictly halal\n",
    "for value in list(cupid_df['diet'].unique()):\n",
    "    if 'anything' in value:\n",
    "        cupid_df.replace(value, \"anything\", inplace = True)\n",
    "    elif 'vegetarian' in value:\n",
    "        cupid_df.replace(value, \"vegetarian\", inplace = True)\n",
    "    elif 'vegan' in value:\n",
    "        cupid_df.replace(value, \"vegan\", inplace = True)\n",
    "    elif 'kosher' in value:\n",
    "        cupid_df.replace(value, \"kosher\", inplace = True)\n",
    "    elif 'halal' in value:\n",
    "        cupid_df.replace(value, \"halal\", inplace = True)\n",
    "    elif 'other' in value:\n",
    "        cupid_df.replace(value, \"other\", inplace = True)"
   ]
  },
  {
   "cell_type": "code",
   "execution_count": 64,
   "metadata": {},
   "outputs": [
    {
     "data": {
      "text/plain": [
       "anything      50168\n",
       "vegetarian     4749\n",
       "other          1719\n",
       "vegan           656\n",
       "kosher          110\n",
       "halal            71\n",
       "Name: diet, dtype: int64"
      ]
     },
     "execution_count": 64,
     "metadata": {},
     "output_type": "execute_result"
    }
   ],
   "source": [
    "cupid_df['diet'].value_counts()"
   ]
  },
  {
   "cell_type": "code",
   "execution_count": 24,
   "metadata": {},
   "outputs": [],
   "source": [
    "# body_type grouping\n",
    "\n",
    "# \"average\" or \"a little extra\" -- \"average\"\n",
    "# \"fit\", \"athletic\", \"jacked\" -- \"fit\"\n",
    "# \"thin\" or \"skinny\" -- \"thin\"\n",
    "# \"curvy\", \"full figured\", \"overweight\" -- \"full figured\"\n",
    "# \"used up\" -- \"used up\"\n",
    "# \"rather not say\" -- \"rather not say\" [wild card]\n",
    "\n",
    "for value in list(cupid_df['body_type'].unique()):\n",
    "    if (value == \"average\") or (value == \"a little extra\"):\n",
    "        cupid_df.replace(value, \"average\", inplace = True)\n",
    "    elif (value == \"fit\") or (value == \"athletic\") or (value == \"jacked\"):\n",
    "        cupid_df.replace(value, \"fit\", inplace = True)\n",
    "    elif (value == \"thin\") or (value == \"skinny\"):\n",
    "        cupid_df.replace(value, \"thin\", inplace = True)\n",
    "    elif (value == \"full figured\") or (value == \"curvy\") or (value == \"overweight\"):\n",
    "        cupid_df.replace(value, \"full figured\", inplace = True)\n",
    "    else:\n",
    "        continue"
   ]
  },
  {
   "cell_type": "code",
   "execution_count": 179,
   "metadata": {},
   "outputs": [
    {
     "data": {
      "text/plain": [
       "fit               24303\n",
       "average           16596\n",
       "thin               6151\n",
       "full figured       5054\n",
       "rather not say     5040\n",
       "used up             329\n",
       "Name: body_type, dtype: int64"
      ]
     },
     "execution_count": 179,
     "metadata": {},
     "output_type": "execute_result"
    }
   ],
   "source": [
    "# body type\n",
    "cupid_df['body_type'].value_counts()"
   ]
  },
  {
   "cell_type": "code",
   "execution_count": 25,
   "metadata": {},
   "outputs": [],
   "source": [
    "# drinking habits\n",
    "\n",
    "# \"socially\" or \"rarely\" -- \"sometimes\"\n",
    "# \"often\", \"very often\", \"desperately\" -- \"yes\"\n",
    "# \"not at all\" -- \"not at all\"\n",
    "\n",
    "for value in list(cupid_df['drinks'].unique()):\n",
    "    if ('often' in value) or (value == \"desperately\"):\n",
    "        cupid_df.replace(value, \"yes\", inplace = True)\n",
    "    elif (value == \"socially\") or (value == \"rarely\"):\n",
    "        cupid_df.replace(value, \"sometimes\", inplace = True)\n",
    "    elif (value == \"not at all\"):\n",
    "        cupid_df.replace(value, \"no\", inplace = True)"
   ]
  },
  {
   "cell_type": "code",
   "execution_count": 400,
   "metadata": {},
   "outputs": [
    {
     "data": {
      "text/plain": [
       "sometimes    45835\n",
       "no            6023\n",
       "yes           5615\n",
       "Name: drinks, dtype: int64"
      ]
     },
     "execution_count": 400,
     "metadata": {},
     "output_type": "execute_result"
    }
   ],
   "source": [
    "cupid_df['drinks'].value_counts()"
   ]
  },
  {
   "cell_type": "code",
   "execution_count": 26,
   "metadata": {},
   "outputs": [],
   "source": [
    "# drug habits\n",
    "\n",
    "# cleaning \"drugs\" to maintain consistency with \"yes/no/sometimes\"\n",
    "# never -- no\n",
    "\n",
    "for value in list(cupid_df['drugs'].unique()):\n",
    "    if value == \"never\":\n",
    "        cupid_df.replace(value, \"no\", inplace = True)\n",
    "    else:\n",
    "        continue"
   ]
  },
  {
   "cell_type": "code",
   "execution_count": 432,
   "metadata": {},
   "outputs": [
    {
     "data": {
      "text/plain": [
       "no           49856\n",
       "sometimes     7228\n",
       "yes            389\n",
       "Name: drugs, dtype: int64"
      ]
     },
     "execution_count": 432,
     "metadata": {},
     "output_type": "execute_result"
    }
   ],
   "source": [
    "cupid_df['drugs'].value_counts()"
   ]
  },
  {
   "cell_type": "code",
   "execution_count": 33,
   "metadata": {},
   "outputs": [],
   "source": [
    "# has kids / has a kid -- \"has kid(s)\"\n",
    "# wants kids / might want kids -- \"wants kids\"\n",
    "# has a kid, and [might] wants more -- \"has kid(s) and wants more\"\n",
    "# doesn't have kids, but [might] want them -- \"doesn't have kid(s), but wants kids\"\n",
    "# has a kid / has kids, but doesn't want more -- \"has kid(s), but doesn't want more\"\n",
    "\n",
    "for value in list(cupid_df['offspring'].unique()):\n",
    "    if \"doesn't have kids, but\" in value:\n",
    "        cupid_df.replace(value, \"doesn't have kid(s), but wants kid(s)\", inplace = True)\n",
    "    elif (value == \"has kids\") or (value == \"has a kid\"):\n",
    "        cupid_df.replace(value, \"has kid(s)\", inplace = True)\n",
    "    elif (value == 'wants kids') or (value == 'might want kids'):\n",
    "        cupid_df.replace(value, \"wants kid(s)\", inplace = True)\n",
    "    elif \"but doesn't want more\" in value:\n",
    "        cupid_df.replace(value, \"has kid(s), but doesn't want more\", inplace = True)\n",
    "    elif (\"might want more\" in value) or (\"wants more\" in value):\n",
    "        cupid_df.replace(value, \"has kid(s) and wants more\", inplace = True)\n",
    "    else:\n",
    "        continue"
   ]
  },
  {
   "cell_type": "code",
   "execution_count": 34,
   "metadata": {},
   "outputs": [
    {
     "data": {
      "text/plain": [
       "doesn't have kids                          41250\n",
       "doesn't have kid(s), but wants kid(s)       7303\n",
       "has kid(s)                                  3627\n",
       "doesn't want kids                           2686\n",
       "doesn't have kids, and doesn't want any     1080\n",
       "has kid(s), but doesn't want more            702\n",
       "has kid(s) and wants more                    425\n",
       "wants kid(s)                                 400\n",
       "Name: offspring, dtype: int64"
      ]
     },
     "execution_count": 34,
     "metadata": {},
     "output_type": "execute_result"
    }
   ],
   "source": [
    "cupid_df['offspring'].value_counts()"
   ]
  },
  {
   "cell_type": "code",
   "execution_count": 13,
   "metadata": {},
   "outputs": [],
   "source": [
    "# write grouped values data to a new df -- BEFORE grouping religion\n",
    "# this dataset would be used if religion MATTERS\n",
    "\n",
    "# cupid_df.to_pickle('data/religion_cupid.pkl')"
   ]
  },
  {
   "cell_type": "code",
   "execution_count": 14,
   "metadata": {},
   "outputs": [],
   "source": [
    "# read in religion data to further group/clean 'religion'\n",
    "# cupid_religion = pd.read_pickle('data/religion_cupid.pkl')"
   ]
  },
  {
   "cell_type": "code",
   "execution_count": 15,
   "metadata": {},
   "outputs": [
    {
     "data": {
      "text/html": [
       "<div>\n",
       "<style scoped>\n",
       "    .dataframe tbody tr th:only-of-type {\n",
       "        vertical-align: middle;\n",
       "    }\n",
       "\n",
       "    .dataframe tbody tr th {\n",
       "        vertical-align: top;\n",
       "    }\n",
       "\n",
       "    .dataframe thead th {\n",
       "        text-align: right;\n",
       "    }\n",
       "</style>\n",
       "<table border=\"1\" class=\"dataframe\">\n",
       "  <thead>\n",
       "    <tr style=\"text-align: right;\">\n",
       "      <th></th>\n",
       "      <th>age</th>\n",
       "      <th>sex</th>\n",
       "      <th>orientation</th>\n",
       "      <th>body_type</th>\n",
       "      <th>diet</th>\n",
       "      <th>drinks</th>\n",
       "      <th>drugs</th>\n",
       "      <th>offspring</th>\n",
       "      <th>pets</th>\n",
       "      <th>religion</th>\n",
       "      <th>smokes</th>\n",
       "    </tr>\n",
       "  </thead>\n",
       "  <tbody>\n",
       "    <tr>\n",
       "      <th>0</th>\n",
       "      <td>22</td>\n",
       "      <td>m</td>\n",
       "      <td>straight</td>\n",
       "      <td>average</td>\n",
       "      <td>anything</td>\n",
       "      <td>sometimes</td>\n",
       "      <td>no</td>\n",
       "      <td>doesn't have kid(s), but wants kid(s)</td>\n",
       "      <td>likes dogs and cats</td>\n",
       "      <td>agnosticism and very serious about it</td>\n",
       "      <td>sometimes</td>\n",
       "    </tr>\n",
       "    <tr>\n",
       "      <th>1</th>\n",
       "      <td>35</td>\n",
       "      <td>m</td>\n",
       "      <td>straight</td>\n",
       "      <td>average</td>\n",
       "      <td>other</td>\n",
       "      <td>yes</td>\n",
       "      <td>sometimes</td>\n",
       "      <td>doesn't have kid(s), but wants kid(s)</td>\n",
       "      <td>likes dogs and cats</td>\n",
       "      <td>agnosticism but not too serious about it</td>\n",
       "      <td>no</td>\n",
       "    </tr>\n",
       "    <tr>\n",
       "      <th>2</th>\n",
       "      <td>38</td>\n",
       "      <td>m</td>\n",
       "      <td>straight</td>\n",
       "      <td>thin</td>\n",
       "      <td>anything</td>\n",
       "      <td>sometimes</td>\n",
       "      <td>no</td>\n",
       "      <td>doesn't have kids</td>\n",
       "      <td>likes cats</td>\n",
       "      <td>atheism</td>\n",
       "      <td>no</td>\n",
       "    </tr>\n",
       "  </tbody>\n",
       "</table>\n",
       "</div>"
      ],
      "text/plain": [
       "   age sex orientation body_type      diet     drinks      drugs  \\\n",
       "0   22   m    straight   average  anything  sometimes         no   \n",
       "1   35   m    straight   average     other        yes  sometimes   \n",
       "2   38   m    straight      thin  anything  sometimes         no   \n",
       "\n",
       "                               offspring                 pets  \\\n",
       "0  doesn't have kid(s), but wants kid(s)  likes dogs and cats   \n",
       "1  doesn't have kid(s), but wants kid(s)  likes dogs and cats   \n",
       "2                      doesn't have kids           likes cats   \n",
       "\n",
       "                                   religion     smokes  \n",
       "0     agnosticism and very serious about it  sometimes  \n",
       "1  agnosticism but not too serious about it         no  \n",
       "2                                   atheism         no  "
      ]
     },
     "execution_count": 15,
     "metadata": {},
     "output_type": "execute_result"
    }
   ],
   "source": [
    "# cupid_religion.head(3)"
   ]
  },
  {
   "cell_type": "code",
   "execution_count": 28,
   "metadata": {},
   "outputs": [],
   "source": [
    "# # clean/group religion\n",
    "\n",
    "# for value in list(cupid_religion['religion'].unique()):\n",
    "#     if ('not too serious about it' in value) or ('laughing about it' in value) or ('atheism' in value):\n",
    "#         cupid_religion.replace(value, \"doesn't matter\", inplace = True)\n",
    "#     elif 'agnosticism' in value:\n",
    "#         cupid_religion.replace(value, \"agnosticism\", inplace = True)\n",
    "#     elif 'other' in value:\n",
    "#         cupid_religion.replace(value, \"other\", inplace = True)\n",
    "#     elif 'christianity' in value:\n",
    "#         cupid_religion.replace(value, \"christianity\", inplace = True)\n",
    "#     elif 'catholicism' in value:\n",
    "#         cupid_religion.replace(value, \"catholicism\", inplace = True)\n",
    "#     elif 'judaism' in value:\n",
    "#         cupid_religion.replace(value, \"judaism\", inplace = True)\n",
    "#     elif 'buddhism' in value:\n",
    "#         cupid_religion.replace(value, \"buddhism\", inplace = True)\n",
    "#     elif 'hinduism' in value:\n",
    "#         cupid_religion.replace(value, \"hinduism\", inplace = True)\n",
    "#     elif 'islam' in value:\n",
    "#         cupid_religion.replace(value, \"islam\", inplace = True)"
   ]
  },
  {
   "cell_type": "code",
   "execution_count": 17,
   "metadata": {},
   "outputs": [
    {
     "data": {
      "text/plain": [
       "doesn't matter    43081\n",
       "other              3908\n",
       "agnosticism        3512\n",
       "christianity       3361\n",
       "catholicism        1682\n",
       "judaism             873\n",
       "buddhism            799\n",
       "hinduism            176\n",
       "islam                81\n",
       "Name: religion, dtype: int64"
      ]
     },
     "execution_count": 17,
     "metadata": {},
     "output_type": "execute_result"
    }
   ],
   "source": [
    "# cupid_religion['religion'].value_counts()"
   ]
  },
  {
   "cell_type": "code",
   "execution_count": 19,
   "metadata": {},
   "outputs": [],
   "source": [
    "# overwrite cupid_religion with updated grouped religion\n",
    "# cupid_religion.to_pickle('data/religion_cupid.pkl')"
   ]
  },
  {
   "cell_type": "code",
   "execution_count": 447,
   "metadata": {},
   "outputs": [],
   "source": [
    "# # does religion matter?\n",
    "\n",
    "# # \"laughing about it\" or \"not too serious about it\" AS \"doesn't matter\"\n",
    "# # group by \"somewhat serious about it\" or \"serious about it\" AS \"matters\"\n",
    "# # all other values -- group by \"matters\"\n",
    "\n",
    "# for value in list(cupid_df['religion'].unique()):\n",
    "#     if ('not too serious about it' in value) or ('laughing about it' in value) or ('atheism' in value):\n",
    "#         cupid_df.replace(value, \"doesn't matter\", inplace = True)\n",
    "#     else:\n",
    "#         cupid_df.replace(value, \"matters\", inplace = True)"
   ]
  },
  {
   "cell_type": "code",
   "execution_count": 29,
   "metadata": {},
   "outputs": [],
   "source": [
    "# clean/group religion\n",
    "\n",
    "for value in list(cupid_df['religion'].unique()):\n",
    "    if ('not too serious about it' in value) or ('laughing about it' in value) or ('atheism' in value):\n",
    "        cupid_df.replace(value, \"doesn't matter\", inplace = True)\n",
    "    elif 'agnosticism' in value:\n",
    "        cupid_df.replace(value, \"agnosticism\", inplace = True)\n",
    "    elif 'other' in value:\n",
    "        cupid_df.replace(value, \"other\", inplace = True)\n",
    "    elif 'christianity' in value:\n",
    "        cupid_df.replace(value, \"christianity\", inplace = True)\n",
    "    elif 'catholicism' in value:\n",
    "        cupid_df.replace(value, \"catholicism\", inplace = True)\n",
    "    elif 'judaism' in value:\n",
    "        cupid_df.replace(value, \"judaism\", inplace = True)\n",
    "    elif 'buddhism' in value:\n",
    "        cupid_df.replace(value, \"buddhism\", inplace = True)\n",
    "    elif 'hinduism' in value:\n",
    "        cupid_df.replace(value, \"hinduism\", inplace = True)\n",
    "    elif 'islam' in value:\n",
    "        cupid_df.replace(value, \"islam\", inplace = True)"
   ]
  },
  {
   "cell_type": "code",
   "execution_count": 30,
   "metadata": {},
   "outputs": [
    {
     "data": {
      "text/plain": [
       "doesn't matter    43081\n",
       "other              3908\n",
       "agnosticism        3512\n",
       "christianity       3361\n",
       "catholicism        1682\n",
       "judaism             873\n",
       "buddhism            799\n",
       "hinduism            176\n",
       "islam                81\n",
       "Name: religion, dtype: int64"
      ]
     },
     "execution_count": 30,
     "metadata": {},
     "output_type": "execute_result"
    }
   ],
   "source": [
    "cupid_df['religion'].value_counts()"
   ]
  },
  {
   "cell_type": "code",
   "execution_count": 437,
   "metadata": {},
   "outputs": [
    {
     "name": "stdout",
     "output_type": "stream",
     "text": [
      "<class 'pandas.core.frame.DataFrame'>\n",
      "Int64Index: 57473 entries, 0 to 59945\n",
      "Data columns (total 11 columns):\n",
      " #   Column       Non-Null Count  Dtype   \n",
      "---  ------       --------------  -----   \n",
      " 0   age          57473 non-null  int32   \n",
      " 1   sex          57473 non-null  category\n",
      " 2   orientation  57473 non-null  category\n",
      " 3   body_type    57473 non-null  category\n",
      " 4   diet         57473 non-null  category\n",
      " 5   drinks       57473 non-null  category\n",
      " 6   drugs        57473 non-null  category\n",
      " 7   offspring    57473 non-null  category\n",
      " 8   pets         57473 non-null  category\n",
      " 9   religion     57473 non-null  category\n",
      " 10  smokes       57473 non-null  category\n",
      "dtypes: category(10), int32(1)\n",
      "memory usage: 1.2 MB\n"
     ]
    }
   ],
   "source": [
    "# write grouped values data to a new df -- AFTER grouping religion\n",
    "# this dataset woudl be used if religion DOESN'T MATTER\n",
    "\n",
    "cupid_df.info()"
   ]
  },
  {
   "cell_type": "code",
   "execution_count": 35,
   "metadata": {},
   "outputs": [],
   "source": [
    "cupid_df.to_pickle('data/grouped_cupid.pkl')"
   ]
  },
  {
   "cell_type": "code",
   "execution_count": 250,
   "metadata": {},
   "outputs": [],
   "source": [
    "cupid_check = pd.read_pickle('data/grouped_cupid.pkl')"
   ]
  },
  {
   "cell_type": "code",
   "execution_count": 192,
   "metadata": {},
   "outputs": [
    {
     "name": "stdout",
     "output_type": "stream",
     "text": [
      "<class 'pandas.core.frame.DataFrame'>\n",
      "Int64Index: 57473 entries, 0 to 59945\n",
      "Data columns (total 11 columns):\n",
      " #   Column       Non-Null Count  Dtype   \n",
      "---  ------       --------------  -----   \n",
      " 0   age          57473 non-null  int32   \n",
      " 1   sex          57473 non-null  category\n",
      " 2   orientation  57473 non-null  category\n",
      " 3   body_type    57473 non-null  category\n",
      " 4   diet         57473 non-null  category\n",
      " 5   drinks       57473 non-null  category\n",
      " 6   drugs        57473 non-null  category\n",
      " 7   offspring    57473 non-null  category\n",
      " 8   pets         57473 non-null  category\n",
      " 9   religion     57473 non-null  category\n",
      " 10  smokes       57473 non-null  category\n",
      "dtypes: category(10), int32(1)\n",
      "memory usage: 1.2 MB\n"
     ]
    }
   ],
   "source": [
    "cupid_check.info()"
   ]
  },
  {
   "cell_type": "markdown",
   "metadata": {},
   "source": [
    "---"
   ]
  },
  {
   "cell_type": "markdown",
   "metadata": {},
   "source": [
    "#### Subset \"Orientation\" Datasets & OneHotEncode"
   ]
  },
  {
   "cell_type": "code",
   "execution_count": 270,
   "metadata": {},
   "outputs": [
    {
     "name": "stderr",
     "output_type": "stream",
     "text": [
      "C:\\Users\\veron\\Anaconda3\\lib\\site-packages\\category_encoders\\utils.py:21: FutureWarning: is_categorical is deprecated and will be removed in a future version.  Use is_categorical_dtype instead\n",
      "  elif pd.api.types.is_categorical(cols):\n",
      "C:\\Users\\veron\\Anaconda3\\lib\\site-packages\\category_encoders\\utils.py:21: FutureWarning: is_categorical is deprecated and will be removed in a future version.  Use is_categorical_dtype instead\n",
      "  elif pd.api.types.is_categorical(cols):\n",
      "C:\\Users\\veron\\Anaconda3\\lib\\site-packages\\category_encoders\\utils.py:21: FutureWarning: is_categorical is deprecated and will be removed in a future version.  Use is_categorical_dtype instead\n",
      "  elif pd.api.types.is_categorical(cols):\n",
      "C:\\Users\\veron\\Anaconda3\\lib\\site-packages\\category_encoders\\utils.py:21: FutureWarning: is_categorical is deprecated and will be removed in a future version.  Use is_categorical_dtype instead\n",
      "  elif pd.api.types.is_categorical(cols):\n",
      "C:\\Users\\veron\\Anaconda3\\lib\\site-packages\\category_encoders\\utils.py:21: FutureWarning: is_categorical is deprecated and will be removed in a future version.  Use is_categorical_dtype instead\n",
      "  elif pd.api.types.is_categorical(cols):\n"
     ]
    }
   ],
   "source": [
    "# straight male\n",
    "straight_male = cupid_df[(cupid_df['sex'] == 'm') & (cupid_df['orientation'] == 'straight')].head(3000)\n",
    "\n",
    "# ohe\n",
    "straight_male_encoded = OneHotEncoder(use_cat_names = True).fit_transform(straight_male)\n",
    "\n",
    "# ---------------\n",
    "\n",
    "# straight female\n",
    "straight_female = cupid_df[(cupid_df['sex'] == 'f') & (cupid_df['orientation'] == 'straight')].head(3000)\n",
    "\n",
    "# ohe\n",
    "straight_female_encoded = OneHotEncoder(use_cat_names = True).fit_transform(straight_female)\n",
    "\n",
    "# ---------------\n",
    "\n",
    "# gay male\n",
    "gay_male = cupid_df[(cupid_df['sex'] == 'm') & (cupid_df['orientation'] == 'gay')]\n",
    "\n",
    "# ohe\n",
    "gay_male_encoded = OneHotEncoder(use_cat_names = True).fit_transform(gay_male)\n",
    "\n",
    "# ---------------\n",
    "\n",
    "# gay female\n",
    "gay_female = cupid_df[(cupid_df['sex'] == 'f') & (cupid_df['orientation'] == 'gay')]\n",
    "\n",
    "# ohe\n",
    "gay_female_encoded = OneHotEncoder(use_cat_names = True).fit_transform(gay_female)\n",
    "\n",
    "# ---------------\n",
    "\n",
    "# bi m/f\n",
    "bi = cupid_df[cupid_df['orientation'] == 'bisexual']\n",
    "\n",
    "# ohe\n",
    "bi_encoded = OneHotEncoder(use_cat_names = True).fit_transform(bi)"
   ]
  },
  {
   "cell_type": "markdown",
   "metadata": {},
   "source": [
    "----"
   ]
  },
  {
   "cell_type": "markdown",
   "metadata": {},
   "source": [
    "#### Recommender System"
   ]
  },
  {
   "cell_type": "code",
   "execution_count": 285,
   "metadata": {},
   "outputs": [
    {
     "data": {
      "text/html": [
       "<div>\n",
       "<style scoped>\n",
       "    .dataframe tbody tr th:only-of-type {\n",
       "        vertical-align: middle;\n",
       "    }\n",
       "\n",
       "    .dataframe tbody tr th {\n",
       "        vertical-align: top;\n",
       "    }\n",
       "\n",
       "    .dataframe thead th {\n",
       "        text-align: right;\n",
       "    }\n",
       "</style>\n",
       "<table border=\"1\" class=\"dataframe\">\n",
       "  <thead>\n",
       "    <tr style=\"text-align: right;\">\n",
       "      <th></th>\n",
       "      <th>similarity</th>\n",
       "    </tr>\n",
       "  </thead>\n",
       "  <tbody>\n",
       "    <tr>\n",
       "      <th>5030</th>\n",
       "      <td>0.999058</td>\n",
       "    </tr>\n",
       "    <tr>\n",
       "      <th>0</th>\n",
       "      <td>0.999021</td>\n",
       "    </tr>\n",
       "    <tr>\n",
       "      <th>634</th>\n",
       "      <td>0.998997</td>\n",
       "    </tr>\n",
       "  </tbody>\n",
       "</table>\n",
       "</div>"
      ],
      "text/plain": [
       "      similarity\n",
       "5030    0.999058\n",
       "0       0.999021\n",
       "634     0.998997"
      ]
     },
     "execution_count": 285,
     "metadata": {},
     "output_type": "execute_result"
    }
   ],
   "source": [
    "# THIS IS THE WAY JACOB MENTIONED\n",
    "\n",
    "# .loc[index]\n",
    "\n",
    "# straight female loking for straight male\n",
    "similarity = cosine_similarity(pd.DataFrame(straight_female_encoded.loc[6]).T, straight_male_encoded).tolist()[0]\n",
    "pd.DataFrame(similarity, columns = ['similarity'], index = straight_male_encoded.index).sort_values(by = 'similarity', ascending = False).iloc[:3]"
   ]
  },
  {
   "cell_type": "code",
   "execution_count": 309,
   "metadata": {},
   "outputs": [],
   "source": [
    "# test 4\n",
    "\n",
    "# maybe for 'bisexual', have the return randomly be 'm' or 'f'\n",
    "\n",
    "def lover_recommender_test4(sex, orientation, index):\n",
    "    \"\"\"\n",
    "    index (int): user_id we're looking to partner with matching orientation\n",
    "    sex (str): m, f\n",
    "    orientation: straight, gay, bi/bisexual\n",
    "    \"\"\"\n",
    "   \n",
    "    # straight female looking for straight male\n",
    "    if orientation == 'straight' and sex == 'f':\n",
    "        similarity = cosine_similarity(pd.DataFrame(straight_female_encoded.loc[index]).T, straight_male_encoded).tolist()[0]\n",
    "        return pd.DataFrame(similarity, columns = ['similarity'], index = straight_male_encoded.index).sort_values(by = 'similarity', ascending = False).iloc[:3]\n",
    "    \n",
    "    # straight male looking for straight female\n",
    "    elif orientation == 'straight' and sex == 'm':\n",
    "        # cosine_similarity\n",
    "        similarity = cosine_similarity(pd.DataFrame(straight_male_encoded.loc[index]).T, straight_female_encoded).tolist()[0]\n",
    "        return pd.DataFrame(similarity, columns = ['similarity'], index = straight_female_encoded.index).sort_values(by = 'similarity', ascending = False).iloc[:3]\n",
    "    \n",
    "    # gay male looking for gay male\n",
    "    elif orientation == 'gay' and sex == 'm':\n",
    "        # create sparse matrix\n",
    "        gay_male_sparse = sparse.csr_matrix(gay_male_encoded)\n",
    "\n",
    "        # cosine_similarity\n",
    "        similarities_gay_male = cosine_similarity(gay_male_sparse)\n",
    "        return gay_male_df[index].sort_values(ascending = False).iloc[1:4]\n",
    "    \n",
    "    # gay female looking for gay female\n",
    "    elif orientation == 'gay' and sex == 'f':\n",
    "        # create sparse matrix\n",
    "        gay_female_sparse = sparse.csr_matrix(gay_female_encoded)\n",
    "\n",
    "        # cosine_similarity\n",
    "        similarities_gay_female = cosine_similarity(gay_female_sparse)\n",
    "        return gay_female_df[index].sort_values(ascending = False).iloc[1:4]\n",
    "    \n",
    "    # bisexual male/female looking for bisexual male/female\n",
    "    elif ('bi' in orientation and sex == 'f') or ('bi' in orientation and sex == 'm'):\n",
    "        # create sparse matrix\n",
    "        bi_sparse = sparse.csr_matrix(bi_encoded)\n",
    "\n",
    "        # cosine_similarity\n",
    "        similarities_bi = cosine_similarity(bi_sparse)\n",
    "        return bi_df[index].sort_values(ascending = False).iloc[1:4]"
   ]
  },
  {
   "cell_type": "code",
   "execution_count": 369,
   "metadata": {},
   "outputs": [
    {
     "data": {
      "text/html": [
       "<div>\n",
       "<style scoped>\n",
       "    .dataframe tbody tr th:only-of-type {\n",
       "        vertical-align: middle;\n",
       "    }\n",
       "\n",
       "    .dataframe tbody tr th {\n",
       "        vertical-align: top;\n",
       "    }\n",
       "\n",
       "    .dataframe thead th {\n",
       "        text-align: right;\n",
       "    }\n",
       "</style>\n",
       "<table border=\"1\" class=\"dataframe\">\n",
       "  <thead>\n",
       "    <tr style=\"text-align: right;\">\n",
       "      <th></th>\n",
       "      <th>similarity</th>\n",
       "    </tr>\n",
       "  </thead>\n",
       "  <tbody>\n",
       "    <tr>\n",
       "      <th>3179</th>\n",
       "      <td>0.998985</td>\n",
       "    </tr>\n",
       "    <tr>\n",
       "      <th>4724</th>\n",
       "      <td>0.998759</td>\n",
       "    </tr>\n",
       "    <tr>\n",
       "      <th>2799</th>\n",
       "      <td>0.998747</td>\n",
       "    </tr>\n",
       "  </tbody>\n",
       "</table>\n",
       "</div>"
      ],
      "text/plain": [
       "      similarity\n",
       "3179    0.998985\n",
       "4724    0.998759\n",
       "2799    0.998747"
      ]
     },
     "execution_count": 369,
     "metadata": {},
     "output_type": "execute_result"
    }
   ],
   "source": [
    "lover_recommender_test4('m', 'straight', 2)\n",
    "# lover_recommender_test4('f', 'straight', 6)\n",
    "# lover_recommender_test4('m', 'gay', 55)\n",
    "\n",
    "#lover_recommender_test4('f', 'bi', 37)"
   ]
  },
  {
   "cell_type": "code",
   "execution_count": 370,
   "metadata": {
    "collapsed": true,
    "jupyter": {
     "outputs_hidden": true
    }
   },
   "outputs": [
    {
     "data": {
      "text/plain": [
       "age                           38\n",
       "sex                            m\n",
       "orientation             straight\n",
       "body_type                   thin\n",
       "diet                    anything\n",
       "drinks                 sometimes\n",
       "drugs                      never\n",
       "offspring      doesn't have kids\n",
       "pets                  likes cats\n",
       "religion          doesn't matter\n",
       "smokes                        no\n",
       "Name: 2, dtype: object"
      ]
     },
     "execution_count": 370,
     "metadata": {},
     "output_type": "execute_result"
    }
   ],
   "source": [
    "cupid_df.loc[2]"
   ]
  },
  {
   "cell_type": "code",
   "execution_count": 371,
   "metadata": {
    "collapsed": true,
    "jupyter": {
     "outputs_hidden": true
    }
   },
   "outputs": [
    {
     "data": {
      "text/plain": [
       "age                                31\n",
       "sex                                 f\n",
       "orientation                  straight\n",
       "body_type              rather not say\n",
       "diet                         anything\n",
       "drinks                      sometimes\n",
       "drugs                           never\n",
       "offspring           doesn't have kids\n",
       "pets           dislikes dogs and cats\n",
       "religion                      matters\n",
       "smokes                      sometimes\n",
       "Name: 3179, dtype: object"
      ]
     },
     "execution_count": 371,
     "metadata": {},
     "output_type": "execute_result"
    }
   ],
   "source": [
    "cupid_df.loc[3179]"
   ]
  },
  {
   "cell_type": "code",
   "execution_count": 314,
   "metadata": {
    "collapsed": true,
    "jupyter": {
     "outputs_hidden": true
    }
   },
   "outputs": [
    {
     "data": {
      "text/plain": [
       "age                                                25\n",
       "sex                                                 m\n",
       "orientation                                  bisexual\n",
       "body_type                                         fit\n",
       "diet                                  mostly anything\n",
       "drinks                                       socially\n",
       "drugs                                           never\n",
       "offspring      doesn't have kids, but might want them\n",
       "pets                        likes dogs and likes cats\n",
       "religion                                      atheism\n",
       "smokes                                             no\n",
       "Name: 37, dtype: object"
      ]
     },
     "execution_count": 314,
     "metadata": {},
     "output_type": "execute_result"
    }
   ],
   "source": [
    "cupid.loc[37]"
   ]
  },
  {
   "cell_type": "code",
   "execution_count": 322,
   "metadata": {
    "collapsed": true,
    "jupyter": {
     "outputs_hidden": true
    }
   },
   "outputs": [
    {
     "data": {
      "text/plain": [
       "age                                                27\n",
       "sex                                                 m\n",
       "orientation                                  bisexual\n",
       "body_type                              rather not say\n",
       "diet                                         anything\n",
       "drinks                                       socially\n",
       "drugs                                           never\n",
       "offspring      doesn't have kids, but might want them\n",
       "pets                     likes dogs and dislikes cats\n",
       "religion                                      atheism\n",
       "smokes                                             no\n",
       "Name: 11527, dtype: object"
      ]
     },
     "execution_count": 322,
     "metadata": {},
     "output_type": "execute_result"
    }
   ],
   "source": [
    "cupid.loc[11527]"
   ]
  },
  {
   "cell_type": "markdown",
   "metadata": {},
   "source": [
    "#### If there were random inputs (like the app)"
   ]
  },
  {
   "cell_type": "code",
   "execution_count": 381,
   "metadata": {},
   "outputs": [],
   "source": [
    "# function to ohe, create sparse matrices, and return the cosine similarity based on orientation\n",
    "\n",
    "def invalue_to_similarity(invalue_df, orientation_df):\n",
    "    \"\"\"\n",
    "    invalue_df: converted DataFrame of user inputs\n",
    "    orientation_df: DataFrame of all people of that orientation\n",
    "    \"\"\"\n",
    "    \n",
    "    # concat input values to orientation df to prep for cosine similarity\n",
    "    df = pd.concat([orientation_df, invalue_df])\n",
    "\n",
    "    # ohe\n",
    "    df_encoded = OneHotEncoder(use_cat_names = True).fit_transform(df)\n",
    "    \n",
    "    # make cosine_similarity input (input X)\n",
    "    cosine_input = pd.DataFrame(df_encoded.iloc[-1]).T\n",
    "    \n",
    "    # drop last encoded row (input Y)\n",
    "    df_encoded.drop(df_encoded.tail(1).index, inplace = True)\n",
    "    \n",
    "    # cosine_similarity\n",
    "    similarity = cosine_similarity(cosine_input, df_encoded)\n",
    "    \n",
    "    # return top 5 matches\n",
    "    top5 = pd.DataFrame(similarity.tolist()[0], columns = ['similarity'], index = df_encoded.index).sort_values(by = 'similarity', ascending = False).iloc[:5]\n",
    "    \n",
    "    # return top 5 matches in a df with cosine similarities\n",
    "    results = pd.DataFrame(columns = cupid.columns)\n",
    "\n",
    "    for i in part.index:\n",
    "        results = results.append(pd.DataFrame(cupid.loc[i]).T)\n",
    "\n",
    "    matches = pd.merge(part, results, on = part.index)\n",
    "    matches.rename(columns = {'key_0' : 'user_id'})\n",
    "    \n",
    "    return matches"
   ]
  },
  {
   "cell_type": "code",
   "execution_count": 382,
   "metadata": {},
   "outputs": [],
   "source": [
    "# test 5 -- using a new user input\n",
    "# referenced https://stackoverflow.com/questions/44296648/using-lists-in-pandas-to-replace-column-names\n",
    "\n",
    "def lover_recommender_test5(invalue):\n",
    "    \"\"\"\n",
    "    invalue (list): survey/streamlit app responses\n",
    "    \"\"\"\n",
    "   \n",
    "    # convert input to DataFrame\n",
    "    invalue_df = pd.DataFrame(invalue).T.rename(columns = {i:j for i,j in zip(np.arange(11), cupid_check.columns)})\n",
    "\n",
    "    # ----------------\n",
    "    \n",
    "    # straight female looking for straight female\n",
    "    if invalue_df['orientation'].unique()[0] == 'straight' and invalue_df['sex'].unique()[0] == 'f':\n",
    "        \n",
    "        # straight male\n",
    "        straight_male = cupid_check[(cupid_check['sex'] == 'm') & (cupid_check['orientation'] == 'straight')].head(3000)\n",
    "        \n",
    "        # call 'invalue_to_similarity' function to return similarities\n",
    "        return invalue_to_similarity(invalue_df, straight_male)\n",
    "    \n",
    "    # straight male looking for straight male\n",
    "    elif invalue_df['orientation'].unique()[0] == 'straight' and invalue_df['sex'].unique()[0] == 'm':\n",
    "        \n",
    "        # straight female\n",
    "        straight_female = cupid_check[(cupid_check['sex'] == 'f') & (cupid_check['orientation'] == 'straight')].head(3000)\n",
    "\n",
    "        # call 'invalue_to_similarity' function to return similarities\n",
    "        return invalue_to_similarity(invalue_df, straight_female)\n",
    "    \n",
    "    # gay male looking for gay male\n",
    "    elif invalue_df['orientation'].unique()[0] == 'gay' and invalue_df['sex'].unique()[0] == 'm':\n",
    "        \n",
    "        # gay male\n",
    "        gay_male = cupid_check[(cupid_check['sex'] == 'm') & (cupid_check['orientation'] == 'gay')]\n",
    "        \n",
    "        # call 'invalue_to_similarity' function to return similarities\n",
    "        return invalue_to_similarity(invalue_df, gay_male)\n",
    "    \n",
    "    # gay female looking for gay female\n",
    "    elif invalue_df['orientation'].unique()[0] == 'gay' and invalue_df['sex'].unique()[0] == 'f':\n",
    "        \n",
    "        # gay female\n",
    "        gay_female = cupid_check[(cupid_check['sex'] == 'f') & (cupid_check['orientation'] == 'gay')]\n",
    "        \n",
    "        # call 'invalue_to_similarity' function to return similarities\n",
    "        return invalue_to_similarity(invalue_df, gay_female)\n",
    "    \n",
    "    # bisexual male/female looking for bisexual male/female\n",
    "    elif (invalue_df['orientation'].unique()[0] == 'bisexual' and invalue_df['sex'].unique()[0] == 'f') or \\\n",
    "         (invalue_df['orientation'].unique()[0] == 'bisexual' and invalue_df['sex'].unique()[0] == 'm'):\n",
    "        \n",
    "        # bi individual\n",
    "        bi = cupid_check[cupid_check['orientation'] == 'bisexual']\n",
    "        \n",
    "        # call 'invalue_to_similarity' function to return similarities\n",
    "        return invalue_to_similarity(invalue_df, bi)"
   ]
  },
  {
   "cell_type": "code",
   "execution_count": 383,
   "metadata": {},
   "outputs": [
    {
     "name": "stderr",
     "output_type": "stream",
     "text": [
      "C:\\Users\\veron\\Anaconda3\\lib\\site-packages\\category_encoders\\utils.py:21: FutureWarning: is_categorical is deprecated and will be removed in a future version.  Use is_categorical_dtype instead\n",
      "  elif pd.api.types.is_categorical(cols):\n"
     ]
    },
    {
     "data": {
      "text/html": [
       "<div>\n",
       "<style scoped>\n",
       "    .dataframe tbody tr th:only-of-type {\n",
       "        vertical-align: middle;\n",
       "    }\n",
       "\n",
       "    .dataframe tbody tr th {\n",
       "        vertical-align: top;\n",
       "    }\n",
       "\n",
       "    .dataframe thead th {\n",
       "        text-align: right;\n",
       "    }\n",
       "</style>\n",
       "<table border=\"1\" class=\"dataframe\">\n",
       "  <thead>\n",
       "    <tr style=\"text-align: right;\">\n",
       "      <th></th>\n",
       "      <th>key_0</th>\n",
       "      <th>similarity</th>\n",
       "      <th>age</th>\n",
       "      <th>sex</th>\n",
       "      <th>orientation</th>\n",
       "      <th>body_type</th>\n",
       "      <th>diet</th>\n",
       "      <th>drinks</th>\n",
       "      <th>drugs</th>\n",
       "      <th>offspring</th>\n",
       "      <th>pets</th>\n",
       "      <th>religion</th>\n",
       "      <th>smokes</th>\n",
       "    </tr>\n",
       "  </thead>\n",
       "  <tbody>\n",
       "    <tr>\n",
       "      <th>0</th>\n",
       "      <td>6083</td>\n",
       "      <td>1.000000</td>\n",
       "      <td>27</td>\n",
       "      <td>m</td>\n",
       "      <td>straight</td>\n",
       "      <td>athletic</td>\n",
       "      <td>mostly anything</td>\n",
       "      <td>socially</td>\n",
       "      <td>never</td>\n",
       "      <td>doesn't have kids, but might want them</td>\n",
       "      <td>likes dogs and likes cats</td>\n",
       "      <td>catholicism and somewhat serious about it</td>\n",
       "      <td>no</td>\n",
       "    </tr>\n",
       "    <tr>\n",
       "      <th>1</th>\n",
       "      <td>459</td>\n",
       "      <td>0.909091</td>\n",
       "      <td>32</td>\n",
       "      <td>m</td>\n",
       "      <td>straight</td>\n",
       "      <td>athletic</td>\n",
       "      <td>anything</td>\n",
       "      <td>socially</td>\n",
       "      <td>never</td>\n",
       "      <td>doesn't have kids, but might want them</td>\n",
       "      <td>likes dogs and likes cats</td>\n",
       "      <td>buddhism and somewhat serious about it</td>\n",
       "      <td>no</td>\n",
       "    </tr>\n",
       "    <tr>\n",
       "      <th>2</th>\n",
       "      <td>1552</td>\n",
       "      <td>0.909091</td>\n",
       "      <td>27</td>\n",
       "      <td>m</td>\n",
       "      <td>straight</td>\n",
       "      <td>athletic</td>\n",
       "      <td>mostly anything</td>\n",
       "      <td>socially</td>\n",
       "      <td>never</td>\n",
       "      <td>doesn't have kids</td>\n",
       "      <td>has dogs and likes cats</td>\n",
       "      <td>judaism</td>\n",
       "      <td>no</td>\n",
       "    </tr>\n",
       "    <tr>\n",
       "      <th>3</th>\n",
       "      <td>2720</td>\n",
       "      <td>0.909091</td>\n",
       "      <td>45</td>\n",
       "      <td>m</td>\n",
       "      <td>straight</td>\n",
       "      <td>athletic</td>\n",
       "      <td>mostly anything</td>\n",
       "      <td>socially</td>\n",
       "      <td>never</td>\n",
       "      <td>doesn't have kids, but might want them</td>\n",
       "      <td>likes dogs and has cats</td>\n",
       "      <td>other</td>\n",
       "      <td>no</td>\n",
       "    </tr>\n",
       "    <tr>\n",
       "      <th>4</th>\n",
       "      <td>868</td>\n",
       "      <td>0.818182</td>\n",
       "      <td>34</td>\n",
       "      <td>m</td>\n",
       "      <td>straight</td>\n",
       "      <td>athletic</td>\n",
       "      <td>strictly anything</td>\n",
       "      <td>socially</td>\n",
       "      <td>never</td>\n",
       "      <td>doesn't have kids</td>\n",
       "      <td>likes dogs and likes cats</td>\n",
       "      <td>agnosticism</td>\n",
       "      <td>no</td>\n",
       "    </tr>\n",
       "  </tbody>\n",
       "</table>\n",
       "</div>"
      ],
      "text/plain": [
       "   key_0  similarity age sex orientation body_type               diet  \\\n",
       "0   6083    1.000000  27   m    straight  athletic    mostly anything   \n",
       "1    459    0.909091  32   m    straight  athletic           anything   \n",
       "2   1552    0.909091  27   m    straight  athletic    mostly anything   \n",
       "3   2720    0.909091  45   m    straight  athletic    mostly anything   \n",
       "4    868    0.818182  34   m    straight  athletic  strictly anything   \n",
       "\n",
       "     drinks  drugs                               offspring  \\\n",
       "0  socially  never  doesn't have kids, but might want them   \n",
       "1  socially  never  doesn't have kids, but might want them   \n",
       "2  socially  never                       doesn't have kids   \n",
       "3  socially  never  doesn't have kids, but might want them   \n",
       "4  socially  never                       doesn't have kids   \n",
       "\n",
       "                        pets                                   religion smokes  \n",
       "0  likes dogs and likes cats  catholicism and somewhat serious about it     no  \n",
       "1  likes dogs and likes cats     buddhism and somewhat serious about it     no  \n",
       "2    has dogs and likes cats                                    judaism     no  \n",
       "3    likes dogs and has cats                                      other     no  \n",
       "4  likes dogs and likes cats                                agnosticism     no  "
      ]
     },
     "execution_count": 383,
     "metadata": {},
     "output_type": "execute_result"
    }
   ],
   "source": [
    "# invalue = [30, 'f', 'straight', 'rather not say', 'anything', 'yes', 'never', \"doesn't have kids\", 'likes dogs', 'atheism', 'no']\n",
    "invalue = [19, 'f', 'gay', 'rather not say', 'vegan', 'no', 'yes', \"doesn't have kids\", 'likes dogs and cats', 'atheism', 'yes']\n",
    "\n",
    "lover_recommender_test5(invalue)"
   ]
  },
  {
   "cell_type": "code",
   "execution_count": 245,
   "metadata": {},
   "outputs": [
    {
     "data": {
      "text/html": [
       "<div>\n",
       "<style scoped>\n",
       "    .dataframe tbody tr th:only-of-type {\n",
       "        vertical-align: middle;\n",
       "    }\n",
       "\n",
       "    .dataframe tbody tr th {\n",
       "        vertical-align: top;\n",
       "    }\n",
       "\n",
       "    .dataframe thead th {\n",
       "        text-align: right;\n",
       "    }\n",
       "</style>\n",
       "<table border=\"1\" class=\"dataframe\">\n",
       "  <thead>\n",
       "    <tr style=\"text-align: right;\">\n",
       "      <th></th>\n",
       "      <th>age</th>\n",
       "      <th>sex</th>\n",
       "      <th>orientation</th>\n",
       "      <th>body_type</th>\n",
       "      <th>diet</th>\n",
       "      <th>drinks</th>\n",
       "      <th>drugs</th>\n",
       "      <th>offspring</th>\n",
       "      <th>pets</th>\n",
       "      <th>religion</th>\n",
       "      <th>smokes</th>\n",
       "    </tr>\n",
       "  </thead>\n",
       "  <tbody>\n",
       "    <tr>\n",
       "      <th>0</th>\n",
       "      <td>19</td>\n",
       "      <td>f</td>\n",
       "      <td>gay</td>\n",
       "      <td>rather not say</td>\n",
       "      <td>vegan</td>\n",
       "      <td>no</td>\n",
       "      <td>yes</td>\n",
       "      <td>doesn't have kids</td>\n",
       "      <td>likes dogs and cats</td>\n",
       "      <td>atheism</td>\n",
       "      <td>yes</td>\n",
       "    </tr>\n",
       "  </tbody>\n",
       "</table>\n",
       "</div>"
      ],
      "text/plain": [
       "  age sex orientation       body_type   diet drinks drugs          offspring  \\\n",
       "0  19   f         gay  rather not say  vegan     no   yes  doesn't have kids   \n",
       "\n",
       "                  pets religion smokes  \n",
       "0  likes dogs and cats  atheism    yes  "
      ]
     },
     "execution_count": 245,
     "metadata": {},
     "output_type": "execute_result"
    }
   ],
   "source": [
    "invalue_df = pd.DataFrame(invalue).T.rename(columns = {i:j for i,j in zip(np.arange(11), cupid_df.columns)})\n",
    "invalue_df"
   ]
  },
  {
   "cell_type": "code",
   "execution_count": 247,
   "metadata": {},
   "outputs": [
    {
     "data": {
      "text/plain": [
       "'gay'"
      ]
     },
     "execution_count": 247,
     "metadata": {},
     "output_type": "execute_result"
    }
   ],
   "source": [
    "invalue_df['orientation'].unique()[0]"
   ]
  },
  {
   "cell_type": "code",
   "execution_count": 270,
   "metadata": {},
   "outputs": [
    {
     "data": {
      "text/plain": [
       "age                           19\n",
       "sex                            f\n",
       "orientation                  gay\n",
       "body_type         rather not say\n",
       "diet                    anything\n",
       "drinks                not at all\n",
       "drugs                      often\n",
       "offspring      doesn't have kids\n",
       "pets                    has dogs\n",
       "religion                 atheism\n",
       "smokes                       yes\n",
       "Name: 53666, dtype: object"
      ]
     },
     "execution_count": 270,
     "metadata": {},
     "output_type": "execute_result"
    }
   ],
   "source": [
    "cupid.loc[53666]"
   ]
  },
  {
   "cell_type": "code",
   "execution_count": 265,
   "metadata": {},
   "outputs": [
    {
     "data": {
      "text/plain": [
       "age                             19\n",
       "sex                              f\n",
       "orientation               straight\n",
       "body_type           rather not say\n",
       "diet                      anything\n",
       "drinks                   sometimes\n",
       "drugs                        never\n",
       "offspring        doesn't have kids\n",
       "pets           likes dogs and cats\n",
       "religion                   matters\n",
       "smokes                          no\n",
       "Name: 2132, dtype: object"
      ]
     },
     "execution_count": 265,
     "metadata": {},
     "output_type": "execute_result"
    }
   ],
   "source": [
    "cupid_df.loc[2132]"
   ]
  },
  {
   "cell_type": "markdown",
   "metadata": {},
   "source": [
    "---"
   ]
  },
  {
   "cell_type": "markdown",
   "metadata": {},
   "source": [
    "#### Ask questions to create the inputs"
   ]
  },
  {
   "cell_type": "code",
   "execution_count": 235,
   "metadata": {},
   "outputs": [
    {
     "name": "stdin",
     "output_type": "stream",
     "text": [
      "How old are you? 19\n",
      "What gender do you identify as? f\n",
      "What sexual orientation do you identify as? gay\n",
      "What's your body type? thin\n",
      "What does your diet consist of? vegan\n",
      "Do you consume alcoholic beverages? yes\n",
      "Do you use drugs? yes\n",
      "Do you have children and/or plan on having [more] children? doesn't want kids\n",
      "What's your sentiment on dogs and/or cats likes cats\n",
      "Does religion matter to you? doesn't matter\n",
      "Do you smoke? no\n"
     ]
    }
   ],
   "source": [
    "# input / up + down arrow\n",
    "age = int(input('How old are you?'))\n",
    "\n",
    "# dropdowns\n",
    "sex = str(input('What gender do you identify as?'))\n",
    "orientation = str(input('What sexual orientation do you identify as?'))\n",
    "body_type = str(input(\"What's your body type?\"))\n",
    "diet = str(input('What does your diet consist of?'))\n",
    "drinks = str(input('Do you consume alcoholic beverages?'))\n",
    "drugs = str(input('Do you use drugs?'))\n",
    "offspring = str(input('Do you have children and/or plan on having [more] children?'))\n",
    "pets = str(input(\"What's your sentiment on dogs and/or cats\"))\n",
    "religion = str(input(\"Does religion matter to you?\"))\n",
    "smokes = str(input(\"Do you smoke?\"))\n",
    "\n",
    "invalue = np.array([age, sex, orientation, body_type, diet, drinks, drugs, offspring, pets, religion, smokes])"
   ]
  },
  {
   "cell_type": "code",
   "execution_count": 239,
   "metadata": {},
   "outputs": [
    {
     "data": {
      "text/html": [
       "<div>\n",
       "<style scoped>\n",
       "    .dataframe tbody tr th:only-of-type {\n",
       "        vertical-align: middle;\n",
       "    }\n",
       "\n",
       "    .dataframe tbody tr th {\n",
       "        vertical-align: top;\n",
       "    }\n",
       "\n",
       "    .dataframe thead th {\n",
       "        text-align: right;\n",
       "    }\n",
       "</style>\n",
       "<table border=\"1\" class=\"dataframe\">\n",
       "  <thead>\n",
       "    <tr style=\"text-align: right;\">\n",
       "      <th></th>\n",
       "      <th>age</th>\n",
       "      <th>sex</th>\n",
       "      <th>orientation</th>\n",
       "      <th>body_type</th>\n",
       "      <th>diet</th>\n",
       "      <th>drinks</th>\n",
       "      <th>drugs</th>\n",
       "      <th>offspring</th>\n",
       "      <th>pets</th>\n",
       "      <th>religion</th>\n",
       "      <th>smokes</th>\n",
       "    </tr>\n",
       "  </thead>\n",
       "  <tbody>\n",
       "    <tr>\n",
       "      <th>0</th>\n",
       "      <td>19</td>\n",
       "      <td>f</td>\n",
       "      <td>gay</td>\n",
       "      <td>thin</td>\n",
       "      <td>vegan</td>\n",
       "      <td>yes</td>\n",
       "      <td>yes</td>\n",
       "      <td>doesn't want kids</td>\n",
       "      <td>likes cats</td>\n",
       "      <td>doesn't matter</td>\n",
       "      <td>no</td>\n",
       "    </tr>\n",
       "  </tbody>\n",
       "</table>\n",
       "</div>"
      ],
      "text/plain": [
       "  age sex orientation body_type   diet drinks drugs          offspring  \\\n",
       "0  19   f         gay      thin  vegan    yes   yes  doesn't want kids   \n",
       "\n",
       "         pets        religion smokes  \n",
       "0  likes cats  doesn't matter     no  "
      ]
     },
     "execution_count": 239,
     "metadata": {},
     "output_type": "execute_result"
    }
   ],
   "source": [
    "invalue_df = pd.DataFrame(invalue).T.rename(columns = {i:j for i,j in zip(np.arange(11), cupid_df.columns)})\n",
    "invalue_df"
   ]
  },
  {
   "cell_type": "code",
   "execution_count": 241,
   "metadata": {},
   "outputs": [
    {
     "data": {
      "text/plain": [
       "'f'"
      ]
     },
     "execution_count": 241,
     "metadata": {},
     "output_type": "execute_result"
    }
   ],
   "source": [
    "invalue_df['sex'].unique()[0]"
   ]
  },
  {
   "cell_type": "code",
   "execution_count": 236,
   "metadata": {
    "collapsed": true,
    "jupyter": {
     "outputs_hidden": true
    }
   },
   "outputs": [
    {
     "name": "stderr",
     "output_type": "stream",
     "text": [
      "C:\\Users\\veron\\Anaconda3\\lib\\site-packages\\category_encoders\\utils.py:21: FutureWarning: is_categorical is deprecated and will be removed in a future version.  Use is_categorical_dtype instead\n",
      "  elif pd.api.types.is_categorical(cols):\n"
     ]
    },
    {
     "name": "stdout",
     "output_type": "stream",
     "text": [
      "age                                                   27\n",
      "sex                                                    m\n",
      "orientation                                     straight\n",
      "body_type                                       athletic\n",
      "diet                                     mostly anything\n",
      "drinks                                          socially\n",
      "drugs                                              never\n",
      "offspring         doesn't have kids, but might want them\n",
      "pets                           likes dogs and likes cats\n",
      "religion       catholicism and somewhat serious about it\n",
      "smokes                                                no\n",
      "Name: 6083, dtype: object \n",
      "=================================================================\n",
      "age                                                32\n",
      "sex                                                 m\n",
      "orientation                                  straight\n",
      "body_type                                    athletic\n",
      "diet                                         anything\n",
      "drinks                                       socially\n",
      "drugs                                           never\n",
      "offspring      doesn't have kids, but might want them\n",
      "pets                        likes dogs and likes cats\n",
      "religion       buddhism and somewhat serious about it\n",
      "smokes                                             no\n",
      "Name: 459, dtype: object \n",
      "=================================================================\n",
      "age                                 27\n",
      "sex                                  m\n",
      "orientation                   straight\n",
      "body_type                     athletic\n",
      "diet                   mostly anything\n",
      "drinks                        socially\n",
      "drugs                            never\n",
      "offspring            doesn't have kids\n",
      "pets           has dogs and likes cats\n",
      "religion                       judaism\n",
      "smokes                              no\n",
      "Name: 1552, dtype: object \n",
      "=================================================================\n",
      "age                                                45\n",
      "sex                                                 m\n",
      "orientation                                  straight\n",
      "body_type                                    athletic\n",
      "diet                                  mostly anything\n",
      "drinks                                       socially\n",
      "drugs                                           never\n",
      "offspring      doesn't have kids, but might want them\n",
      "pets                          likes dogs and has cats\n",
      "religion                                        other\n",
      "smokes                                             no\n",
      "Name: 2720, dtype: object \n",
      "=================================================================\n",
      "age                                   34\n",
      "sex                                    m\n",
      "orientation                     straight\n",
      "body_type                       athletic\n",
      "diet                   strictly anything\n",
      "drinks                          socially\n",
      "drugs                              never\n",
      "offspring              doesn't have kids\n",
      "pets           likes dogs and likes cats\n",
      "religion                     agnosticism\n",
      "smokes                                no\n",
      "Name: 868, dtype: object \n",
      "=================================================================\n"
     ]
    }
   ],
   "source": [
    "lover_recommender_test5(invalue)"
   ]
  },
  {
   "cell_type": "code",
   "execution_count": 372,
   "metadata": {},
   "outputs": [
    {
     "data": {
      "text/html": [
       "<div>\n",
       "<style scoped>\n",
       "    .dataframe tbody tr th:only-of-type {\n",
       "        vertical-align: middle;\n",
       "    }\n",
       "\n",
       "    .dataframe tbody tr th {\n",
       "        vertical-align: top;\n",
       "    }\n",
       "\n",
       "    .dataframe thead th {\n",
       "        text-align: right;\n",
       "    }\n",
       "</style>\n",
       "<table border=\"1\" class=\"dataframe\">\n",
       "  <thead>\n",
       "    <tr style=\"text-align: right;\">\n",
       "      <th></th>\n",
       "      <th>key_0</th>\n",
       "      <th>similarity</th>\n",
       "      <th>age</th>\n",
       "      <th>sex</th>\n",
       "      <th>orientation</th>\n",
       "      <th>body_type</th>\n",
       "      <th>diet</th>\n",
       "      <th>drinks</th>\n",
       "      <th>drugs</th>\n",
       "      <th>offspring</th>\n",
       "      <th>pets</th>\n",
       "      <th>religion</th>\n",
       "      <th>smokes</th>\n",
       "    </tr>\n",
       "  </thead>\n",
       "  <tbody>\n",
       "    <tr>\n",
       "      <th>0</th>\n",
       "      <td>6083</td>\n",
       "      <td>1.000000</td>\n",
       "      <td>27</td>\n",
       "      <td>m</td>\n",
       "      <td>straight</td>\n",
       "      <td>athletic</td>\n",
       "      <td>mostly anything</td>\n",
       "      <td>socially</td>\n",
       "      <td>never</td>\n",
       "      <td>doesn't have kids, but might want them</td>\n",
       "      <td>likes dogs and likes cats</td>\n",
       "      <td>catholicism and somewhat serious about it</td>\n",
       "      <td>no</td>\n",
       "    </tr>\n",
       "    <tr>\n",
       "      <th>1</th>\n",
       "      <td>459</td>\n",
       "      <td>0.909091</td>\n",
       "      <td>32</td>\n",
       "      <td>m</td>\n",
       "      <td>straight</td>\n",
       "      <td>athletic</td>\n",
       "      <td>anything</td>\n",
       "      <td>socially</td>\n",
       "      <td>never</td>\n",
       "      <td>doesn't have kids, but might want them</td>\n",
       "      <td>likes dogs and likes cats</td>\n",
       "      <td>buddhism and somewhat serious about it</td>\n",
       "      <td>no</td>\n",
       "    </tr>\n",
       "    <tr>\n",
       "      <th>2</th>\n",
       "      <td>1552</td>\n",
       "      <td>0.909091</td>\n",
       "      <td>27</td>\n",
       "      <td>m</td>\n",
       "      <td>straight</td>\n",
       "      <td>athletic</td>\n",
       "      <td>mostly anything</td>\n",
       "      <td>socially</td>\n",
       "      <td>never</td>\n",
       "      <td>doesn't have kids</td>\n",
       "      <td>has dogs and likes cats</td>\n",
       "      <td>judaism</td>\n",
       "      <td>no</td>\n",
       "    </tr>\n",
       "    <tr>\n",
       "      <th>3</th>\n",
       "      <td>2720</td>\n",
       "      <td>0.909091</td>\n",
       "      <td>45</td>\n",
       "      <td>m</td>\n",
       "      <td>straight</td>\n",
       "      <td>athletic</td>\n",
       "      <td>mostly anything</td>\n",
       "      <td>socially</td>\n",
       "      <td>never</td>\n",
       "      <td>doesn't have kids, but might want them</td>\n",
       "      <td>likes dogs and has cats</td>\n",
       "      <td>other</td>\n",
       "      <td>no</td>\n",
       "    </tr>\n",
       "    <tr>\n",
       "      <th>4</th>\n",
       "      <td>868</td>\n",
       "      <td>0.818182</td>\n",
       "      <td>34</td>\n",
       "      <td>m</td>\n",
       "      <td>straight</td>\n",
       "      <td>athletic</td>\n",
       "      <td>strictly anything</td>\n",
       "      <td>socially</td>\n",
       "      <td>never</td>\n",
       "      <td>doesn't have kids</td>\n",
       "      <td>likes dogs and likes cats</td>\n",
       "      <td>agnosticism</td>\n",
       "      <td>no</td>\n",
       "    </tr>\n",
       "  </tbody>\n",
       "</table>\n",
       "</div>"
      ],
      "text/plain": [
       "   key_0  similarity age sex orientation body_type               diet  \\\n",
       "0   6083    1.000000  27   m    straight  athletic    mostly anything   \n",
       "1    459    0.909091  32   m    straight  athletic           anything   \n",
       "2   1552    0.909091  27   m    straight  athletic    mostly anything   \n",
       "3   2720    0.909091  45   m    straight  athletic    mostly anything   \n",
       "4    868    0.818182  34   m    straight  athletic  strictly anything   \n",
       "\n",
       "     drinks  drugs                               offspring  \\\n",
       "0  socially  never  doesn't have kids, but might want them   \n",
       "1  socially  never  doesn't have kids, but might want them   \n",
       "2  socially  never                       doesn't have kids   \n",
       "3  socially  never  doesn't have kids, but might want them   \n",
       "4  socially  never                       doesn't have kids   \n",
       "\n",
       "                        pets                                   religion smokes  \n",
       "0  likes dogs and likes cats  catholicism and somewhat serious about it     no  \n",
       "1  likes dogs and likes cats     buddhism and somewhat serious about it     no  \n",
       "2    has dogs and likes cats                                    judaism     no  \n",
       "3    likes dogs and has cats                                      other     no  \n",
       "4  likes dogs and likes cats                                agnosticism     no  "
      ]
     },
     "execution_count": 372,
     "metadata": {},
     "output_type": "execute_result"
    }
   ],
   "source": [
    "results = pd.DataFrame(columns = cupid.columns)\n",
    "\n",
    "for i in part.index:\n",
    "    results = results.append(pd.DataFrame(cupid.loc[i]).T)\n",
    "\n",
    "pd.merge(part, results, on = part.index)"
   ]
  },
  {
   "cell_type": "code",
   "execution_count": 389,
   "metadata": {},
   "outputs": [
    {
     "data": {
      "text/html": [
       "<div>\n",
       "<style scoped>\n",
       "    .dataframe tbody tr th:only-of-type {\n",
       "        vertical-align: middle;\n",
       "    }\n",
       "\n",
       "    .dataframe tbody tr th {\n",
       "        vertical-align: top;\n",
       "    }\n",
       "\n",
       "    .dataframe thead th {\n",
       "        text-align: right;\n",
       "    }\n",
       "</style>\n",
       "<table border=\"1\" class=\"dataframe\">\n",
       "  <thead>\n",
       "    <tr style=\"text-align: right;\">\n",
       "      <th></th>\n",
       "      <th>similarity</th>\n",
       "      <th>age</th>\n",
       "      <th>sex</th>\n",
       "      <th>orientation</th>\n",
       "      <th>body_type</th>\n",
       "      <th>diet</th>\n",
       "      <th>drinks</th>\n",
       "      <th>drugs</th>\n",
       "      <th>offspring</th>\n",
       "      <th>pets</th>\n",
       "      <th>religion</th>\n",
       "      <th>smokes</th>\n",
       "    </tr>\n",
       "    <tr>\n",
       "      <th>user_id</th>\n",
       "      <th></th>\n",
       "      <th></th>\n",
       "      <th></th>\n",
       "      <th></th>\n",
       "      <th></th>\n",
       "      <th></th>\n",
       "      <th></th>\n",
       "      <th></th>\n",
       "      <th></th>\n",
       "      <th></th>\n",
       "      <th></th>\n",
       "      <th></th>\n",
       "    </tr>\n",
       "  </thead>\n",
       "  <tbody>\n",
       "    <tr>\n",
       "      <th>6083</th>\n",
       "      <td>1.000000</td>\n",
       "      <td>27</td>\n",
       "      <td>m</td>\n",
       "      <td>straight</td>\n",
       "      <td>athletic</td>\n",
       "      <td>mostly anything</td>\n",
       "      <td>socially</td>\n",
       "      <td>never</td>\n",
       "      <td>doesn't have kids, but might want them</td>\n",
       "      <td>likes dogs and likes cats</td>\n",
       "      <td>catholicism and somewhat serious about it</td>\n",
       "      <td>no</td>\n",
       "    </tr>\n",
       "    <tr>\n",
       "      <th>459</th>\n",
       "      <td>0.909091</td>\n",
       "      <td>32</td>\n",
       "      <td>m</td>\n",
       "      <td>straight</td>\n",
       "      <td>athletic</td>\n",
       "      <td>anything</td>\n",
       "      <td>socially</td>\n",
       "      <td>never</td>\n",
       "      <td>doesn't have kids, but might want them</td>\n",
       "      <td>likes dogs and likes cats</td>\n",
       "      <td>buddhism and somewhat serious about it</td>\n",
       "      <td>no</td>\n",
       "    </tr>\n",
       "    <tr>\n",
       "      <th>1552</th>\n",
       "      <td>0.909091</td>\n",
       "      <td>27</td>\n",
       "      <td>m</td>\n",
       "      <td>straight</td>\n",
       "      <td>athletic</td>\n",
       "      <td>mostly anything</td>\n",
       "      <td>socially</td>\n",
       "      <td>never</td>\n",
       "      <td>doesn't have kids</td>\n",
       "      <td>has dogs and likes cats</td>\n",
       "      <td>judaism</td>\n",
       "      <td>no</td>\n",
       "    </tr>\n",
       "    <tr>\n",
       "      <th>2720</th>\n",
       "      <td>0.909091</td>\n",
       "      <td>45</td>\n",
       "      <td>m</td>\n",
       "      <td>straight</td>\n",
       "      <td>athletic</td>\n",
       "      <td>mostly anything</td>\n",
       "      <td>socially</td>\n",
       "      <td>never</td>\n",
       "      <td>doesn't have kids, but might want them</td>\n",
       "      <td>likes dogs and has cats</td>\n",
       "      <td>other</td>\n",
       "      <td>no</td>\n",
       "    </tr>\n",
       "    <tr>\n",
       "      <th>868</th>\n",
       "      <td>0.818182</td>\n",
       "      <td>34</td>\n",
       "      <td>m</td>\n",
       "      <td>straight</td>\n",
       "      <td>athletic</td>\n",
       "      <td>strictly anything</td>\n",
       "      <td>socially</td>\n",
       "      <td>never</td>\n",
       "      <td>doesn't have kids</td>\n",
       "      <td>likes dogs and likes cats</td>\n",
       "      <td>agnosticism</td>\n",
       "      <td>no</td>\n",
       "    </tr>\n",
       "  </tbody>\n",
       "</table>\n",
       "</div>"
      ],
      "text/plain": [
       "         similarity age sex orientation body_type               diet  \\\n",
       "user_id                                                                \n",
       "6083       1.000000  27   m    straight  athletic    mostly anything   \n",
       "459        0.909091  32   m    straight  athletic           anything   \n",
       "1552       0.909091  27   m    straight  athletic    mostly anything   \n",
       "2720       0.909091  45   m    straight  athletic    mostly anything   \n",
       "868        0.818182  34   m    straight  athletic  strictly anything   \n",
       "\n",
       "           drinks  drugs                               offspring  \\\n",
       "user_id                                                            \n",
       "6083     socially  never  doesn't have kids, but might want them   \n",
       "459      socially  never  doesn't have kids, but might want them   \n",
       "1552     socially  never                       doesn't have kids   \n",
       "2720     socially  never  doesn't have kids, but might want them   \n",
       "868      socially  never                       doesn't have kids   \n",
       "\n",
       "                              pets                                   religion  \\\n",
       "user_id                                                                         \n",
       "6083     likes dogs and likes cats  catholicism and somewhat serious about it   \n",
       "459      likes dogs and likes cats     buddhism and somewhat serious about it   \n",
       "1552       has dogs and likes cats                                    judaism   \n",
       "2720       likes dogs and has cats                                      other   \n",
       "868      likes dogs and likes cats                                agnosticism   \n",
       "\n",
       "        smokes  \n",
       "user_id         \n",
       "6083        no  \n",
       "459         no  \n",
       "1552        no  \n",
       "2720        no  \n",
       "868         no  "
      ]
     },
     "execution_count": 389,
     "metadata": {},
     "output_type": "execute_result"
    }
   ],
   "source": [
    "matches = pd.merge(part, results, on = part.index)\n",
    "matches.rename(columns = {'key_0' : 'user_id'}, inplace = True)\n",
    "matches.set_index('user_id', inplace = True)\n",
    "matches"
   ]
  },
  {
   "cell_type": "code",
   "execution_count": null,
   "metadata": {},
   "outputs": [],
   "source": []
  }
 ],
 "metadata": {
  "kernelspec": {
   "display_name": "Python 3",
   "language": "python",
   "name": "python3"
  },
  "language_info": {
   "codemirror_mode": {
    "name": "ipython",
    "version": 3
   },
   "file_extension": ".py",
   "mimetype": "text/x-python",
   "name": "python",
   "nbconvert_exporter": "python",
   "pygments_lexer": "ipython3",
   "version": "3.7.4"
  }
 },
 "nbformat": 4,
 "nbformat_minor": 4
}
